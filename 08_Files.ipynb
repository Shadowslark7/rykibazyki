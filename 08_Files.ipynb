{
 "cells": [
  {
   "cell_type": "markdown",
   "metadata": {},
   "source": [
    "# Fetching and storing data\n",
    "\n",
    "In this chapter we will consider 2 sources of data: the internet and the\n",
    "filesystem of your own computer. We will also look at storing your data\n",
    "to the filesystem of your computer. More often than not the data you\n",
    "need for your program will come from somewhere outside of your program.\n",
    "Often, that “somewhere” will be a file or some location on the internet.\n",
    "Especially for more complex data, it becomes essential to be able to\n",
    "fetch data from the outside, or persist data to somewhere outside of\n",
    "your program.\n",
    "\n",
    "## Climate data\n",
    "\n",
    "For the plotting project you’ve been commissioned to complete, you’ve\n",
    "been provided with a file containing monthly global average observations\n",
    "and access to a website for data from individual countries. You will\n",
    "need to read the global data from the file and load the country data\n",
    "from the website. Let us begin…\n",
    "\n",
    "## How to deal with the outside world (**Here be dragons**)\n",
    "\n",
    "The outside world is a dangerous and scary place. Here, in your Python\n",
    "programming environment you are relatively safe. But out there lie\n",
    "horrific things like missing files, URLs that point to nowhere and even…\n",
    "INVALID DATA!!! Luckily Python gives us some mechanisms to help us deal\n",
    "with this frightening environment.\n",
    "\n",
    "There are, in general, 3 steps to dealing with the outside world:\n",
    "\n",
    "1.  “Open” a resource (could be a file or a URL, or…)\n",
    "2.  “Read” from or “write” to the resource\n",
    "3.  “Close” the resource\n",
    "\n",
    "Python provides us with the concept of a *context manager* which handles\n",
    "the “close” step for us. So we only need worry about opening the correct\n",
    "resource and performing the I/O we need. The `with` keyword tells Python\n",
    "to *manage a context*\n",
    "([Documentation](https://docs.python.org/3/reference/datamodel.html#context-managers)).\n",
    "Within this context (within an indented code block) you’re able to read\n",
    "from and write to the resource. As soon as you’re outside of the code\n",
    "block, the resource will not exist any more.\n",
    "\n",
    "Let’s see what a context manager looks like with an example reading from\n",
    "file and web resources…"
   ],
   "id": "6c0ceb00-3c2f-4f41-8cad-ac68e0806a0a"
  },
  {
   "cell_type": "code",
   "execution_count": null,
   "metadata": {},
   "outputs": [],
   "source": [
    "# Open a file resource...\n",
    "with open(\"data/readfile.txt\") as file_resource: # file_resource is a context manager\n",
    "    # Read from the file resource\n",
    "    contents = file_resource.read()\n",
    "\n",
    "# Outside the with block, the context manager has done it's job and closed the file resource.\n",
    "# We cannot access file_resource now... but we still have the contents!\n",
    "print(contents)"
   ],
   "id": "ba8c91c7-6414-47fa-81b6-abd5088d6402"
  },
  {
   "cell_type": "code",
   "execution_count": null,
   "metadata": {},
   "outputs": [],
   "source": [
    "from urllib import request\n",
    "\n",
    "# Open a web resource...\n",
    "with request.urlopen(\"https://httpbin.org/get\") as web_resource: # web_resource is a context manager\n",
    "    # Read from the web resource\n",
    "    contents = web_resource.read()\n",
    "\n",
    "# Outside the with block, the context manager has done it's job and closed the web resource.\n",
    "# We cannot access web_resource now... but we still have the contents!\n",
    "print(contents)"
   ],
   "id": "d9dd42a1-faef-49da-b6a1-daaa138182d4"
  },
  {
   "cell_type": "markdown",
   "metadata": {},
   "source": [
    "These are “Happy paths” through your program where we *know* the\n",
    "resources exist, saving exceptional circumstances. Before we move on,\n",
    "let us observe what happens in a couple of “Unhappy paths” where errors\n",
    "occur."
   ],
   "id": "d6243aad-daf6-47b5-bd29-0a80eccf82ff"
  },
  {
   "cell_type": "code",
   "execution_count": null,
   "metadata": {},
   "outputs": [],
   "source": [
    "# Open a file that does not exist\n",
    "with open(\"this-file-does-not-exist.txt\") as file_resource:\n",
    "    contents = file_resource.read()\n",
    "\n",
    "print(contents)"
   ],
   "id": "5b4c8a57-a181-4e52-ad6c-7c986a854115"
  },
  {
   "cell_type": "code",
   "execution_count": null,
   "metadata": {},
   "outputs": [],
   "source": [
    "# Read from a file after the context manager has closed it\n",
    "with open(\"data/readfile.txt\") as file_resource:\n",
    "    pass\n",
    "\n",
    "contents = file_resource.read()\n",
    "print(contents)"
   ],
   "id": "dbd033fe-067e-4f4e-8c2c-94d9957a9e8b"
  },
  {
   "cell_type": "markdown",
   "metadata": {},
   "source": [
    "## Explore the global data\n",
    "\n",
    "In order to understand how to use the data in a file, we need to\n",
    "understand what’s in it. As you saw above, the `read()` function reads\n",
    "all the data from the file. The global data file is probably quite large\n",
    "though so let’s try to see just the beginning. We have 2 options: The\n",
    "`readline()` function will read up to a new line character, or we could\n",
    "pass an argument to the `read()` function that is the number of\n",
    "characters to read."
   ],
   "id": "9a622417-aec2-48cc-be60-b82019d879e4"
  },
  {
   "cell_type": "code",
   "execution_count": null,
   "metadata": {},
   "outputs": [],
   "source": [
    "with open(\"data/HadCRUT.5.0.1.0.analysis.summary_series.global.monthly.csv\") as global_data_manager:\n",
    "    first_line = global_data_manager.readline()\n",
    "    second_line = global_data_manager.readline()\n",
    "    \n",
    "print(first_line + second_line)"
   ],
   "id": "c58e206d-8e16-41e3-8a6e-6c5548d98018"
  },
  {
   "cell_type": "markdown",
   "metadata": {},
   "source": [
    "You may’ve guessed based on the extension that this is tabular data in\n",
    "“comma-separated values (CSV)” format. If not, then you can tell by the\n",
    "structure of the data we’ve read.\n",
    "\n",
    "The [HadCRUT](https://www.metoffice.gov.uk/hadobs/hadcrut5/) website\n",
    "describes what we’re looking at. Column,\n",
    "\n",
    "1.  Year-Month labels\n",
    "2.  ‘Best-estimate’ computed monthly means from 200 ensemble\n",
    "    measurements as difference from 1961-1990 reference period.\n",
    "3.  2.5% confidence from 200 ensemble measurements.\n",
    "4.  97.5% confidence from 200 ensemble measurements.\n",
    "\n",
    "Although CSV is a conceptually simple data format it can be difficult to\n",
    "read and write *correctly*. The Python standard library provides a\n",
    "module (called `csv`) to help us easily read and write this format.\n",
    "Let’s use this library to read the global data…"
   ],
   "id": "9f66db3f-5cfb-492d-b0e3-e9a901e978c3"
  },
  {
   "cell_type": "code",
   "execution_count": null,
   "metadata": {},
   "outputs": [],
   "source": [
    "import csv\n",
    "\n",
    "global_data = []\n",
    "with open(\"data/HadCRUT.5.0.1.0.analysis.summary_series.global.monthly.csv\") as global_data_manager:\n",
    "    read_data = global_data_manager.read().splitlines()\n",
    "    reader = csv.DictReader(read_data)\n",
    "    \n",
    "    for reading in reader:\n",
    "        global_data = global_data + [reading]\n",
    "\n",
    "global_data[:5]"
   ],
   "id": "d0226634-697e-4d8a-bcab-6afbafeb8510"
  },
  {
   "cell_type": "markdown",
   "metadata": {},
   "source": [
    "This is a great start. The next step is to clean these data up a little.\n",
    "Here are a few things we can do to make them easier to work with:\n",
    "\n",
    "1.  Convert the temperature values from strings to numbers\n",
    "2.  Use a `datetime` object to record the time rather than a string\n",
    "3.  The confidence interval is not interesting for us at the moment so\n",
    "    we can discard those.\n",
    "\n",
    "First, what is a `datetime` object? Python provides a module for dealing\n",
    "with dates, times, timezones, and differences between times in the\n",
    "standard library. See the documentation\n",
    "[here](https://docs.python.org/3/library/datetime.html). Or especially\n",
    "the section on format codes\n",
    "[here](https://docs.python.org/3/library/datetime.html#strftime-and-strptime-format-codes)."
   ],
   "id": "36bd57e3-398d-43b7-ab4e-e6845d2f0b4f"
  },
  {
   "cell_type": "code",
   "execution_count": null,
   "metadata": {},
   "outputs": [],
   "source": [
    "from datetime import datetime\n",
    "\n",
    "# An example of a date from the data is the string \"1901-5\"\n",
    "date1 = datetime.strptime(\"1901-05\", \"%Y-%m\")\n",
    "print(\"Year:\", date1.year, \"Month:\", date1.month, \"Day:\", date1.day, \"day of the week:\", date1.weekday()) # Monday is 0"
   ],
   "id": "58b1c1fe-9867-4ceb-84d9-31a1b7ed33f1"
  },
  {
   "cell_type": "code",
   "execution_count": null,
   "metadata": {},
   "outputs": [],
   "source": [
    "# An example of a date from the data is the string \"1901-May\"\n",
    "date1 = datetime.strptime(\"1901-May\", \"%Y-%b\")\n",
    "print(\"Year:\", date1.year, \"Month:\", date1.month, \"Day:\", date1.day, \"day of the week:\", date1.weekday()) # Monday is 0"
   ],
   "id": "07eea874-996b-4a6b-bd90-cd2f9de1429d"
  },
  {
   "cell_type": "code",
   "execution_count": null,
   "metadata": {},
   "outputs": [],
   "source": [
    "# An example of a parsing error:\n",
    "datetime.strptime(\"May 1901\", \"%Y-%b\")"
   ],
   "id": "11503a37-6b5f-4ce6-9f3a-e4fb7c03123a"
  },
  {
   "cell_type": "markdown",
   "metadata": {},
   "source": [
    "------------------------------------------------------------------------\n",
    "\n",
    "### Exercise 8-1: Clean the data!\n",
    "\n",
    "Write a function to *clean* the data we read from the file. The input to\n",
    "your function will be a dictionary like this:\n",
    "\n",
    "``` python\n",
    "{\n",
    "  'Time': '1901-05',\n",
    "  'Anomaly (deg C)': '-0.24934465',\n",
    "  'Lower confidence limit (2.5%)': '-0.44425672',\n",
    "  'Upper confidence limit (97.5%)': '-0.05443258'\n",
    "}\n",
    "```\n",
    "\n",
    "The output of your function should look like this:\n",
    "\n",
    "``` python\n",
    "{\n",
    "  'Time': datetime.datetime(1901, 5, 1, 0, 0),\n",
    "  'Temperature': -0.24934465\n",
    "}\n",
    "```"
   ],
   "id": "ca6d08ec-9ed3-4fbc-9d01-6623f606318e"
  },
  {
   "cell_type": "code",
   "execution_count": null,
   "metadata": {},
   "outputs": [],
   "source": [
    "def clean_global_data(reading):\n",
    "    \"\"\n",
    "    return _\n",
    "\n",
    "assert clean_global_data({'Time': '1901-05','Anomaly (deg C)': '-0.24934465','Lower confidence limit (2.5%)': '-0.44425672','Upper confidence limit (97.5%)': '-0.05443258'}) == {'Time': datetime(1901, 5, 1, 0, 0),'Temperature': -0.24934465}"
   ],
   "id": "3be26c21-2587-4b96-966b-0b0e43b79889"
  },
  {
   "cell_type": "markdown",
   "metadata": {},
   "source": [
    "[Advanced question](Advanced%20Exercises.ipynb#8-1)\n",
    "\n",
    "------------------------------------------------------------------------\n",
    "\n",
    "### Exercise 8-2: Load the data\n",
    "\n",
    "Write a function that reads the global temperature data file and returns\n",
    "a list of cleaned dictionaries."
   ],
   "id": "f461dd29-5582-4d45-9747-9e2542b2b7d2"
  },
  {
   "cell_type": "code",
   "execution_count": null,
   "metadata": {},
   "outputs": [],
   "source": [
    "def global_data(filename):\n",
    "    \"\"\n",
    "    return _\n",
    "\n",
    "assert global_data(\"data/HadCRUT.5.0.1.0.analysis.summary_series.global.monthly.csv\")[4] == {'Time': datetime(1901, 5, 1, 0, 0),'Temperature': -0.24934465}"
   ],
   "id": "c74b968c-cab7-43ab-bb48-dc32f4b4f818"
  },
  {
   "cell_type": "markdown",
   "metadata": {},
   "source": [
    "------------------------------------------------------------------------\n",
    "\n",
    "## Saving data for later\n",
    "\n",
    "At this point you may wish to save your cleaned data for later\n",
    "inspection or use. The resource workflow of: `open`, `write`, `close` is\n",
    "the same as before. Let’s see what this looks like in general:"
   ],
   "id": "af90a403-7f4e-4e68-aefa-5676e5a822ce"
  },
  {
   "cell_type": "code",
   "execution_count": null,
   "metadata": {},
   "outputs": [],
   "source": [
    "# Open a file resource...\n",
    "with open(\"test.txt\", mode=\"w\") as file_resource: # file_resource is a context manager. Notice the extra mode=\"w\"\n",
    "    # Write to the file resource\n",
    "    file_resource.write(\"Hello outside world!\")\n",
    "\n",
    "# Outside the with block, the context manager has done it's job and closed the file resource.\n",
    "# We cannot access file_resource now... but we still have the contents!"
   ],
   "id": "10a20447-2fd4-46e3-a8b4-d0ada040348d"
  },
  {
   "cell_type": "markdown",
   "metadata": {},
   "source": [
    "Now you should be able to find a file called “test.txt” in the file\n",
    "browser on the left of this notebook.\n",
    "\n",
    "Naturally, the CSV library allows us to write correct CSV formatted data\n",
    "without the hastle…"
   ],
   "id": "bd993080-01ec-4caa-9c34-d94600692631"
  },
  {
   "cell_type": "code",
   "execution_count": null,
   "metadata": {},
   "outputs": [],
   "source": [
    "with open(\"test.csv\", mode=\"w\") as file_resource:\n",
    "    writer = csv.DictWriter(file_resource, fieldnames=[\"Time\", \"Temperature\"])\n",
    "    writer.writeheader()\n",
    "    writer.writerows(global_data(\"data/HadCRUT.5.0.1.0.analysis.summary_series.global.monthly.csv\"))"
   ],
   "id": "104ca7d2-abab-489c-b7f1-00bee1b18482"
  },
  {
   "cell_type": "markdown",
   "metadata": {},
   "source": [
    "------------------------------------------------------------------------\n",
    "\n",
    "### Exercise 8-3: Save the data!\n",
    "\n",
    "Write a function that takes a list of dictionaries as an argument and\n",
    "saves them to a CSV formatted file."
   ],
   "id": "7c6e298e-4ec9-45a0-a805-cc73a8bba6d0"
  },
  {
   "cell_type": "code",
   "execution_count": null,
   "metadata": {},
   "outputs": [],
   "source": [
    "def save_data(data, filename):\n",
    "    \"\"\n",
    "    _\n",
    "\n",
    "glo = global_data(\"data/HadCRUT.5.0.1.0.analysis.summary_series.global.monthly.csv\")\n",
    "save_data(glo, \"data/global_data.csv\")"
   ],
   "id": "051d9ff8-2d96-485f-a6c2-d59dee0227ff"
  },
  {
   "cell_type": "markdown",
   "metadata": {},
   "source": [
    "------------------------------------------------------------------------\n",
    "\n",
    "## Exploring the per-Country data\n",
    "\n",
    "Drawing on our exploration of the global data (which we had in a local\n",
    "file), let’s explore the pre-country data. The only difference this time\n",
    "is that the data is coming from a web resource rather than a file\n",
    "resource."
   ],
   "id": "3e02eca9-bb1d-429d-a69d-b9162ac35950"
  },
  {
   "cell_type": "code",
   "execution_count": null,
   "metadata": {},
   "outputs": [],
   "source": [
    "# https://climateknowledgeportal.worldbank.org/api/data/get-download-data/historical/tas/1901-2020/BEL/Belgium\n",
    "import csv\n",
    "\n",
    "bel_data = []\n",
    "with request.urlopen(\"https://gist.github.com/MaybeJustJames/4a604c9d9dcff2c999496ec5def1d6ce/raw/caf3df0d47b1523e347df01ed8db2cc3726b1bdc/bel_data_orig.csv\") as bel_data_manager:\n",
    "    read_data = bel_data_manager.read().splitlines()\n",
    "    reader = csv.DictReader(read_data)\n",
    "    \n",
    "    for reading in reader:\n",
    "        bel_data = bel_data + [reading]\n",
    "\n",
    "bel_data[:5]"
   ],
   "id": "6971a1a8-2e62-47f9-b0fe-3d0ef358f99a"
  },
  {
   "cell_type": "markdown",
   "metadata": {},
   "source": [
    "**An Error!** This one is a bit difficult to decipher without\n",
    "introducing you to another data type: `bytes`.\n",
    "\n",
    "Very often the files on your computer (or on remote computers) aren’t\n",
    "just plain text (like CSV is), instead their data is serialised (stored)\n",
    "as binary numbers that have to be interpreted differently than text.\n",
    "\n",
    "-   Here is a number as we would write it in base 10 (decimal): `65`.\n",
    "-   Here is that number as it is written in a string: `\"65\"`.\n",
    "-   Here is that number as a computer would write it in base 2 (binary):\n",
    "    `01000001`\n",
    "-   If I interpret this pattern of bytes as a character I get, `\" \"`\n",
    "-   Here is that number as a computer would see the string\n",
    "    representation without interpreting the data as text:\n",
    "    `0011011000110101`\n",
    "-   If I interpret this pattern of bits as a decimal number I get:\n",
    "    `13877`\n",
    "\n",
    "At some level, all you’re doing as a programmer is interpreting patterns\n",
    "of bytes. The data you read has no interpretation other than what you\n",
    "impose on in, you must tell the computer how we want to interpret it:"
   ],
   "id": "05b4c3a7-38b7-4ac4-9e60-811c66a53ba2"
  },
  {
   "cell_type": "code",
   "execution_count": null,
   "metadata": {},
   "outputs": [],
   "source": [
    "bin(65) # Binary representation of the decimal integer 32"
   ],
   "id": "639abf2c-2f21-427c-a4a2-60220904d3ee"
  },
  {
   "cell_type": "code",
   "execution_count": null,
   "metadata": {},
   "outputs": [],
   "source": [
    "int(65).to_bytes(1, byteorder='big').decode() # The integer 32 interpreted as a string"
   ],
   "id": "65012b9c-e943-4695-9d21-a76994d79ff8"
  },
  {
   "cell_type": "code",
   "execution_count": null,
   "metadata": {},
   "outputs": [],
   "source": [
    "int.from_bytes(\"65\".encode(), byteorder='big') # The string \"32\" interpreted as an integer"
   ],
   "id": "741fe470-1fa7-4723-bc5e-a49c96602df8"
  },
  {
   "cell_type": "markdown",
   "metadata": {},
   "source": [
    "Hopefully this gives you some sense of what the\n",
    "`Error: iterator should return strings, not bytes (did you open the file in text mode?)`\n",
    "means. The Python `CSV` library expects text but we’re trying to give it\n",
    "uninterpreted bytes. So the solution now seems rather trivial: add a\n",
    "`.decode()`!"
   ],
   "id": "f5bcc716-a9c8-45f2-85cb-ff24df7150d8"
  },
  {
   "cell_type": "code",
   "execution_count": null,
   "metadata": {},
   "outputs": [],
   "source": [
    "# https://climateknowledgeportal.worldbank.org/api/data/get-download-data/historical/tas/1901-2020/BEL/Belgium\n",
    "import csv \n",
    "bel_data = []\n",
    "with request.urlopen(\"https://gist.github.com/MaybeJustJames/4a604c9d9dcff2c999496ec5def1d6ce/raw/caf3df0d47b1523e347df01ed8db2cc3726b1bdc/bel_data_orig.csv\") as bel_data_manager:\n",
    "    text_data = bel_data_manager.read().decode().splitlines()\n",
    "    reader = csv.DictReader(text_data)\n",
    "    \n",
    "    for reading in reader:\n",
    "        bel_data = bel_data + [reading]\n",
    "\n",
    "bel_data[:5]"
   ],
   "id": "34d2ffae-6fd9-42fe-acc4-edb13eca0ea9"
  },
  {
   "cell_type": "markdown",
   "metadata": {},
   "source": [
    "------------------------------------------------------------------------\n",
    "\n",
    "### Exercise 8-4: Clean the data!\n",
    "\n",
    "Write a function to clean the country data we read from the web. The\n",
    "input to your function will be a dictionary like this:\n",
    "\n",
    "``` python\n",
    "{\n",
    "  'Temperature - (Celsius)': '5.76',\n",
    "  'Year': '1901',\n",
    "  'Statistics': 'May Average',\n",
    "  'Country': 'Belgium',\n",
    "  'ISO3': 'BEL'\n",
    "}\n",
    "```\n",
    "\n",
    "The output of your function should look like this:\n",
    "\n",
    "``` python\n",
    "{\n",
    "  'Time': datetime.datetime(1901, 5, 1, 0, 0),\n",
    "  'Temperature': 5.76\n",
    "}\n",
    "```"
   ],
   "id": "442518a1-eb54-4cbe-9afd-944f2ce04e23"
  },
  {
   "cell_type": "code",
   "execution_count": null,
   "metadata": {},
   "outputs": [],
   "source": [
    "def clean_country_data(data):\n",
    "    \"\"\n",
    "    return _\n",
    "\n",
    "assert clean_country_data(bel_data[0]) == {'Time': datetime(1901, 1, 1, 0, 0), 'Temperature': 4.04}"
   ],
   "id": "73719ba9-0397-4b9a-9dab-3a2789ee8a59"
  },
  {
   "cell_type": "markdown",
   "metadata": {},
   "source": [
    "------------------------------------------------------------------------\n",
    "\n",
    "### Exercise 8-5: Load country data\n",
    "\n",
    "Write a function that accepts a URL and returns a list of dictionaries\n",
    "containing ‘Time’ and ‘Temperature’ keys. Use the second code cell to\n",
    "save the cleaned data using the `save_data()` function you wrote\n",
    "earlier."
   ],
   "id": "9c6ef1d7-2d35-433e-aa00-b74d4b7d5b7f"
  },
  {
   "cell_type": "code",
   "execution_count": null,
   "metadata": {},
   "outputs": [],
   "source": [
    "def country_data(url):\n",
    "    \"\"\n",
    "    return _\n",
    "\n",
    "assert country_data(\"https://gist.github.com/MaybeJustJames/4a604c9d9dcff2c999496ec5def1d6ce/raw/caf3df0d47b1523e347df01ed8db2cc3726b1bdc/bel_data_orig.csv\")[4] == {'Time': datetime(1901, 5, 1, 0, 0),'Temperature': 9.15}\n",
    "assert country_data(\"https://gist.github.com/MaybeJustJames/4a604c9d9dcff2c999496ec5def1d6ce/raw/caf3df0d47b1523e347df01ed8db2cc3726b1bdc/rus_data_orig.csv\")[4] == {'Time': datetime(1901, 5, 1, 0, 0),'Temperature': 2.01}\n",
    "assert country_data(\"https://gist.github.com/MaybeJustJames/4a604c9d9dcff2c999496ec5def1d6ce/raw/caf3df0d47b1523e347df01ed8db2cc3726b1bdc/aus_data_orig.csv\")[4] == {'Time': datetime(1901, 5, 1, 0, 0),'Temperature': 18.02}"
   ],
   "id": "5bd94ff0-9512-48e8-80ab-933e2c98d9ad"
  },
  {
   "cell_type": "code",
   "execution_count": null,
   "metadata": {},
   "outputs": [],
   "source": [],
   "id": "b2a4a3a7-9422-448f-9627-c0e2001f6da5"
  },
  {
   "cell_type": "markdown",
   "metadata": {},
   "source": [
    "------------------------------------------------------------------------\n",
    "\n",
    "## Chapter Review\n",
    "\n",
    "In this chapter we started working with files. We learned how to open a\n",
    "file and read its contents. We also learned how to write data to a file.\n",
    "\n",
    "1.  What does the `open()` function do?\n",
    "    <details>\n",
    "    <summary>\n",
    "    Answer\n",
    "    </summary>\n",
    "    It makes an external resource such as a file or remote web URL\n",
    "    available for <code>read()</code>ing and <code>write()</code>ing.\n",
    "    </details>\n",
    "2.  If you open a file with the mode argument set to `\"w\"`, can you read\n",
    "    data from the file?\n",
    "    <details>\n",
    "    <summary>\n",
    "    Answer\n",
    "    </summary>\n",
    "    No. <code>“w”</code> means you can only <em>write</em> to the file.\n",
    "    </details>\n",
    "3.  If you open an existing file with `mode=\"w\"` and write to it, what\n",
    "    happens to the original data?\n",
    "    <details>\n",
    "    <summary>\n",
    "    Answer\n",
    "    </summary>\n",
    "    It’s gone.\n",
    "    </details>\n",
    "4.  How do you read the entire contents of a file into a string?\n",
    "    <details>\n",
    "    <summary>\n",
    "    Answer\n",
    "    </summary>\n",
    "    Run the <code>read()</code> function on the context manager.\n",
    "    </details>\n",
    "5.  How would you access line 5 of a file?\n",
    "    <details>\n",
    "    <summary>\n",
    "    Answer\n",
    "    </summary>\n",
    "    Call the <code>readline()</code> function 5 times, ignoring the\n",
    "    returned string the first 4 times.\n",
    "    </details>\n",
    "6.  What is the difference between <code>bytes</code> and\n",
    "    <code>str</code> types?\n",
    "    <details>\n",
    "    <summary>\n",
    "    Answer\n",
    "    </summary>\n",
    "    <code>bytes</code> are uninterpreted bits if computer memory.\n",
    "    <code>str</code> are those bytes interpreted as text.\n",
    "    </details>\n",
    "\n",
    "## Next session\n",
    "\n",
    "Go to our [next chapter](09_Plotting.ipynb)."
   ],
   "id": "690a9512-5252-4f26-8d46-113b48d00660"
  }
 ],
 "nbformat": 4,
 "nbformat_minor": 5,
 "metadata": {
  "kernelspec": {
   "name": "python3",
   "display_name": "Python 3 (ipykernel)",
   "language": "python"
  },
  "language_info": {
   "name": "python",
   "codemirror_mode": {
    "name": "ipython",
    "version": "3"
   },
   "file_extension": ".py",
   "mimetype": "text/x-python",
   "nbconvert_exporter": "python",
   "pygments_lexer": "ipython3",
   "version": "3.11.0"
  }
 }
}
