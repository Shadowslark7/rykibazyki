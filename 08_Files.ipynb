{
 "cells": [
  {
   "cell_type": "markdown",
   "metadata": {},
   "source": [
    "# Fetching and storing data\n",
    "\n",
    "In this chapter we will consider 2 sources of data: the internet and the\n",
    "filesystem of your own computer. We will also look at storing your data\n",
    "to the filesystem of your computer. More often than not the data you\n",
    "need for your program will come from somewhere outside of your program.\n",
    "Often, that “somewhere” will be a file or some location on the internet.\n",
    "Especially for more complex data, it becomes essential to be able to\n",
    "fetch data from the outside, or persist data to somewhere outside of\n",
    "your program.\n",
    "\n",
    "## Climate data\n",
    "\n",
    "For the plotting project you’ve been commissioned to complete, you’ve\n",
    "been provided with a file containing monthly global average observations\n",
    "and access to a website for data from individual countries. You will\n",
    "need to read the global data from the file and load the country data\n",
    "from the website. Let us begin…\n",
    "\n",
    "## How to deal with the outside world (**Here be dragons**)\n",
    "\n",
    "The outside world is a dangerous and scary place. Here, in your Python\n",
    "programming environment you are relatively safe. But out there lie\n",
    "horrific things like missing files, URLs that point to nowhere and even…\n",
    "INVALID DATA!!! Luckily Python gives us some mechanisms to help us deal\n",
    "with this frightening environment.\n",
    "\n",
    "There are, in general, 3 steps to dealing with the outside world:\n",
    "\n",
    "1.  “Open” a resource (could be a file or a URL, or…)\n",
    "2.  “Read” from or “write” to the resource\n",
    "3.  “Close” the resource\n",
    "\n",
    "Python provides us with the concept of a *context manager* which handles\n",
    "the “close” step for us. So we only need worry about opening the correct\n",
    "resource and performing the I/O we need. The `with` keyword tells Python\n",
    "to *manage a context*\n",
    "([Documentation](https://docs.python.org/3/reference/datamodel.html#context-managers)).\n",
    "Within this context (within an indented code block) you’re able to read\n",
    "from and write to the resource. As soon as you’re outside of the code\n",
    "block, the resource will not exist any more.\n",
    "\n",
    "Let’s see what a context manager looks like with an example reading from\n",
    "file and web resources…"
   ],
   "id": "c6bcca0e-1c9c-41e6-aa88-7f50919ddf00"
  },
  {
   "cell_type": "code",
   "execution_count": null,
   "metadata": {},
   "outputs": [],
   "source": [
    "# Open a file resource...\n",
    "with open(\"data/readfile.txt\") as file_resource: # file_resource is a context manager\n",
    "    # Read from the file resource\n",
    "    contents = file_resource.read()\n",
    "\n",
    "# Outside the with block, the context manager has done it's job and closed the file resource.\n",
    "# We cannot access file_resource now... but we still have the contents!\n",
    "print(contents)"
   ],
   "id": "2d04f13a-6cea-46b0-b2ee-7f48418831cb"
  },
  {
   "cell_type": "code",
   "execution_count": null,
   "metadata": {},
   "outputs": [],
   "source": [
    "from urllib import request\n",
    "\n",
    "# Open a web resource...\n",
    "with request.urlopen(\"https://httpbin.org/get\") as web_resource: # web_resource is a context manager\n",
    "    # Read from the web resource\n",
    "    contents = web_resource.read()\n",
    "\n",
    "# Outside the with block, the context manager has done it's job and closed the web resource.\n",
    "# We cannot access web_resource now... but we still have the contents!\n",
    "print(contents)"
   ],
   "id": "de4731be-b817-4f4e-9882-145cf1b9e21d"
  },
  {
   "cell_type": "markdown",
   "metadata": {},
   "source": [
    "These are “Happy paths” through your program where we *know* the\n",
    "resources exist, saving exceptional circumstances. Before we move on,\n",
    "let us observe what happens in a couple of “Unhappy paths” where errors\n",
    "occur."
   ],
   "id": "6730de34-b543-42c5-b081-41a7fb058b3b"
  },
  {
   "cell_type": "code",
   "execution_count": null,
   "metadata": {},
   "outputs": [],
   "source": [
    "# Open a file that does not exist\n",
    "with open(\"this-file-does-not-exist.txt\") as file_resource:\n",
    "    contents = file_resource.read()\n",
    "\n",
    "print(contents)"
   ],
   "id": "cb05458f-75bc-47a1-a57f-c209f0f02449"
  },
  {
   "cell_type": "code",
   "execution_count": null,
   "metadata": {},
   "outputs": [],
   "source": [
    "# Read from a file after the context manager has closed it\n",
    "with open(\"data/readfile.txt\") as file_resource:\n",
    "    pass\n",
    "\n",
    "contents = file_resource.read()\n",
    "print(contents)"
   ],
   "id": "d674b9d1-d93e-4a7f-b379-c1d163706bcc"
  },
  {
   "cell_type": "markdown",
   "metadata": {},
   "source": [
    "## Explore the global data\n",
    "\n",
    "In order to understand how to use the data in a file, we need to\n",
    "understand what’s in it. As you saw above, the `read()` function reads\n",
    "all the data from the file. The global data file is probably quite large\n",
    "though so let’s try to see just the beginning. We have 2 options: The\n",
    "`readline()` function will read up to a new line character, or we could\n",
    "pass an argument to the `read()` function that is the number of\n",
    "characters to read."
   ],
   "id": "22cb3bde-b0a3-40e7-82dd-266b189d470e"
  },
  {
   "cell_type": "code",
   "execution_count": null,
   "metadata": {},
   "outputs": [],
   "source": [
    "with open(\"data/HadCRUT.5.0.1.0.analysis.summary_series.global.monthly.csv\") as global_data_manager:\n",
    "    first_line = global_data_manager.readline()\n",
    "    second_line = global_data_manager.readline()\n",
    "    \n",
    "print(first_line + second_line)"
   ],
   "id": "7c3bd12a-b99f-4219-9280-9eb58fb70ce4"
  },
  {
   "cell_type": "markdown",
   "metadata": {},
   "source": [
    "You may’ve guessed based on the extension that this is tabular data in\n",
    "“comma-separated values (CSV)” format. If not, then you can tell by the\n",
    "structure of the data we’ve read.\n",
    "\n",
    "The [HadCRUT](https://www.metoffice.gov.uk/hadobs/hadcrut5/) website\n",
    "describes what we’re looking at. Column,\n",
    "\n",
    "1.  Year-Month labels\n",
    "2.  ‘Best-estimate’ computed monthly means from 200 ensemble\n",
    "    measurements as difference from 1961-1990 reference period.\n",
    "3.  2.5% confidence from 200 ensemble measurements.\n",
    "4.  97.5% confidence from 200 ensemble measurements.\n",
    "\n",
    "Although CSV is a conceptually simple data format it can be difficult to\n",
    "read and write *correctly*. The Python standard library provides a\n",
    "module (called `csv`) to help us easily read and write this format.\n",
    "Let’s use this library to read the global data…"
   ],
   "id": "1d6f3dd6-944d-490b-856a-f412fc0b53d6"
  },
  {
   "cell_type": "code",
   "execution_count": null,
   "metadata": {},
   "outputs": [],
   "source": [
    "import csv\n",
    "\n",
    "global_data = []\n",
    "with open(\"data/HadCRUT.5.0.1.0.analysis.summary_series.global.monthly.csv\") as global_data_manager:\n",
    "    read_data = global_data_manager.read().splitlines()\n",
    "    reader = csv.DictReader(read_data)\n",
    "    \n",
    "    for reading in reader:\n",
    "        global_data = global_data + [reading]\n",
    "\n",
    "global_data[:5]"
   ],
   "id": "001117df-481f-4859-85aa-f2609b693c5f"
  },
  {
   "cell_type": "markdown",
   "metadata": {},
   "source": [
    "This is a great start. The next step is to clean these data up a little.\n",
    "Here are a few things we can do to make them easier to work with:\n",
    "\n",
    "1.  Convert the temperature values from strings to numbers\n",
    "2.  Use a `datetime` object to record the time rather than a string\n",
    "3.  The confidence interval is not interesting for us at the moment so\n",
    "    we can discard those.\n",
    "\n",
    "First, what is a `datetime` object? Python provides a module for dealing\n",
    "with dates, times, timezones, and differences between times in the\n",
    "standard library. See the documentation\n",
    "[here](https://docs.python.org/3/library/datetime.html). Or especially\n",
    "the section on format codes\n",
    "[here](https://docs.python.org/3/library/datetime.html#strftime-and-strptime-format-codes)."
   ],
   "id": "8a38198e-7025-41da-b50d-8d7c1b45a15c"
  },
  {
   "cell_type": "code",
   "execution_count": null,
   "metadata": {},
   "outputs": [],
   "source": [
    "from datetime import datetime\n",
    "\n",
    "# An example of a date from the data is the string \"1901-5\"\n",
    "date1 = datetime.strptime(\"1901-05\", \"%Y-%m\")\n",
    "print(\"Year:\", date1.year, \"Month:\", date1.month, \"Day:\", date1.day, \"day of the week:\", date1.weekday()) # Monday is 0"
   ],
   "id": "5f019c5f-c0a7-4956-84bb-91756401fefa"
  },
  {
   "cell_type": "code",
   "execution_count": null,
   "metadata": {},
   "outputs": [],
   "source": [
    "# An example of a date from the data is the string \"1901-May\"\n",
    "date1 = datetime.strptime(\"1901-May\", \"%Y-%b\")\n",
    "print(\"Year:\", date1.year, \"Month:\", date1.month, \"Day:\", date1.day, \"day of the week:\", date1.weekday()) # Monday is 0"
   ],
   "id": "2e887db0-060b-4a54-8113-34bdf8f6c96a"
  },
  {
   "cell_type": "code",
   "execution_count": null,
   "metadata": {},
   "outputs": [],
   "source": [
    "# An example of a parsing error:\n",
    "datetime.strptime(\"May 1901\", \"%Y-%b\")"
   ],
   "id": "51447201-e364-46fc-be1e-10e65cb7e244"
  },
  {
   "cell_type": "markdown",
   "metadata": {},
   "source": [
    "------------------------------------------------------------------------\n",
    "\n",
    "### Exercise 8-1: Clean the data!\n",
    "\n",
    "Write a function to *clean* the data we read from the file. The input to\n",
    "your function will be a dictionary like this:\n",
    "\n",
    "``` python\n",
    "{\n",
    "  'Time': '1901-05',\n",
    "  'Anomaly (deg C)': '-0.24934465',\n",
    "  'Lower confidence limit (2.5%)': '-0.44425672',\n",
    "  'Upper confidence limit (97.5%)': '-0.05443258'\n",
    "}\n",
    "```\n",
    "\n",
    "The output of your function should look like this:\n",
    "\n",
    "``` python\n",
    "{\n",
    "  'Time': datetime.datetime(1901, 5, 1, 0, 0),\n",
    "  'Temperature': -0.24934465\n",
    "}\n",
    "```"
   ],
   "id": "15fa6a0d-4cb5-4afd-9e19-9332c883f18a"
  },
  {
   "cell_type": "code",
   "execution_count": null,
   "metadata": {},
   "outputs": [],
   "source": [
    "def clean_global_data(reading):\n",
    "    \"\"\n",
    "    return _\n",
    "\n",
    "assert clean_global_data({'Time': '1901-05','Anomaly (deg C)': '-0.24934465','Lower confidence limit (2.5%)': '-0.44425672','Upper confidence limit (97.5%)': '-0.05443258'}) == {'Time': datetime(1901, 5, 1, 0, 0),'Temperature': -0.24934465}"
   ],
   "id": "cb9ec310-7bff-4668-8197-22cc6af555b3"
  },
  {
   "cell_type": "markdown",
   "metadata": {},
   "source": [
    "[Advanced question](Advanced%20Exercises.ipynb#8-1)\n",
    "\n",
    "------------------------------------------------------------------------\n",
    "\n",
    "### Exercise 8-2: Load the data\n",
    "\n",
    "Write a function that reads the global temperature data file and returns\n",
    "a list of cleaned dictionaries."
   ],
   "id": "b8baf08c-957f-4bcc-abd2-52369d41d5b9"
  },
  {
   "cell_type": "code",
   "execution_count": null,
   "metadata": {},
   "outputs": [],
   "source": [
    "def global_data(filename):\n",
    "    \"\"\n",
    "    return _\n",
    "\n",
    "assert global_data(\"data/HadCRUT.5.0.1.0.analysis.summary_series.global.monthly.csv\")[4] == {'Time': datetime(1901, 5, 1, 0, 0),'Temperature': -0.24934465}"
   ],
   "id": "a6dcc005-0a81-4efe-8e50-b9189bc0346b"
  },
  {
   "cell_type": "markdown",
   "metadata": {},
   "source": [
    "------------------------------------------------------------------------\n",
    "\n",
    "## Saving data for later\n",
    "\n",
    "At this point you may wish to save your cleaned data for later\n",
    "inspection or use. The resource workflow of: `open`, `write`, `close` is\n",
    "the same as before. Let’s see what this looks like in general:"
   ],
   "id": "3fb893c8-f537-4565-9603-be69b81a44a4"
  },
  {
   "cell_type": "code",
   "execution_count": null,
   "metadata": {},
   "outputs": [],
   "source": [
    "# Open a file resource...\n",
    "with open(\"test.txt\", mode=\"w\") as file_resource: # file_resource is a context manager. Notice the extra mode=\"w\"\n",
    "    # Write to the file resource\n",
    "    file_resource.write(\"Hello outside world!\")\n",
    "\n",
    "# Outside the with block, the context manager has done it's job and closed the file resource.\n",
    "# We cannot access file_resource now... but we still have the contents!"
   ],
   "id": "7856d2b1-301c-4c0a-b975-add764553dab"
  },
  {
   "cell_type": "markdown",
   "metadata": {},
   "source": [
    "Now you should be able to find a file called “test.txt” in the file\n",
    "browser on the left of this notebook.\n",
    "\n",
    "Naturally, the CSV library allows us to write correct CSV formatted data\n",
    "without the hastle…"
   ],
   "id": "3abefb01-01b3-4cb0-ae6c-66cdc5f4c614"
  },
  {
   "cell_type": "code",
   "execution_count": null,
   "metadata": {},
   "outputs": [],
   "source": [
    "with open(\"test.csv\", mode=\"w\") as file_resource:\n",
    "    writer = csv.DictWriter(file_resource, fieldnames=[\"Time\", \"Temperature\"])\n",
    "    writer.writeheader()\n",
    "    writer.writerows(global_data(\"data/HadCRUT.5.0.1.0.analysis.summary_series.global.monthly.csv\"))"
   ],
   "id": "eeddb7ec-0252-4c80-b5f3-e98b296da5be"
  },
  {
   "cell_type": "markdown",
   "metadata": {},
   "source": [
    "------------------------------------------------------------------------\n",
    "\n",
    "### Exercise 8-3: Save the data!\n",
    "\n",
    "Write a function that takes a list of dictionaries as an argument and\n",
    "saves them to a CSV formatted file."
   ],
   "id": "4295a448-fbbb-4d56-9378-7d3fd8d75fc9"
  },
  {
   "cell_type": "code",
   "execution_count": null,
   "metadata": {},
   "outputs": [],
   "source": [
    "def save_data(data, filename):\n",
    "    \"\"\n",
    "    _\n",
    "\n",
    "glo = global_data(\"data/HadCRUT.5.0.1.0.analysis.summary_series.global.monthly.csv\")\n",
    "save_data(glo, \"data/global_data.csv\")"
   ],
   "id": "efc7c04c-036f-466a-9f43-3f53cdd0d28b"
  },
  {
   "cell_type": "markdown",
   "metadata": {},
   "source": [
    "------------------------------------------------------------------------\n",
    "\n",
    "## Exploring the per-Country data\n",
    "\n",
    "Drawing on our exploration of the global data (which we had in a local\n",
    "file), let’s explore the pre-country data. The only difference this time\n",
    "is that the data is coming from a web resource rather than a file\n",
    "resource."
   ],
   "id": "f87c6282-7267-4e51-8920-b8c91a5863c0"
  },
  {
   "cell_type": "code",
   "execution_count": null,
   "metadata": {},
   "outputs": [],
   "source": [
    "# https://climateknowledgeportal.worldbank.org/api/data/get-download-data/historical/tas/1901-2020/BEL/Belgium\n",
    "import csv\n",
    "\n",
    "bel_data = []\n",
    "with request.urlopen(\"https://gist.github.com/MaybeJustJames/4a604c9d9dcff2c999496ec5def1d6ce/raw/caf3df0d47b1523e347df01ed8db2cc3726b1bdc/bel_data_orig.csv\") as bel_data_manager:\n",
    "    read_data = bel_data_manager.read().splitlines()\n",
    "    reader = csv.DictReader(read_data)\n",
    "    \n",
    "    for reading in reader:\n",
    "        bel_data = bel_data + [reading]\n",
    "\n",
    "bel_data[:5]"
   ],
   "id": "bf1ea318-3432-4fb9-99d0-118e86ec5b52"
  },
  {
   "cell_type": "markdown",
   "metadata": {},
   "source": [
    "**An Error!** This one is a bit difficult to decipher without\n",
    "introducing you to another data type: `bytes`.\n",
    "\n",
    "Very often the files on your computer (or on remote computers) aren’t\n",
    "just plain text (like CSV is), instead their data is serialised (stored)\n",
    "as binary numbers that have to be interpreted differently than text.\n",
    "\n",
    "-   Here is a number as we would write it in base 10 (decimal): `65`.\n",
    "-   Here is that number as it is written in a string: `\"65\"`.\n",
    "-   Here is that number as a computer would write it in base 2 (binary):\n",
    "    `01000001`\n",
    "-   If I interpret this pattern of bytes as a character I get, `\" \"`\n",
    "-   Here is that number as a computer would see the string\n",
    "    representation without interpreting the data as text:\n",
    "    `0011011000110101`\n",
    "-   If I interpret this pattern of bits as a decimal number I get:\n",
    "    `13877`\n",
    "\n",
    "At some level, all you’re doing as a programmer is interpreting patterns\n",
    "of bytes. The data you read has no interpretation other than what you\n",
    "impose on in, you must tell the computer how we want to interpret it:"
   ],
   "id": "500afb07-e12a-416f-8bcd-f01250ff3736"
  },
  {
   "cell_type": "code",
   "execution_count": null,
   "metadata": {},
   "outputs": [],
   "source": [
    "bin(65) # Binary representation of the decimal integer 32"
   ],
   "id": "e65ba9ac-583d-4928-bfbb-403fdf41235d"
  },
  {
   "cell_type": "code",
   "execution_count": null,
   "metadata": {},
   "outputs": [],
   "source": [
    "int(65).to_bytes(1, byteorder='big').decode() # The integer 32 interpreted as a string"
   ],
   "id": "b36d61d1-e501-4ac1-8483-90a8cde8b3d9"
  },
  {
   "cell_type": "code",
   "execution_count": null,
   "metadata": {},
   "outputs": [],
   "source": [
    "int.from_bytes(\"65\".encode(), byteorder='big') # The string \"32\" interpreted as an integer"
   ],
   "id": "6b2a9a78-8d36-403e-92f8-011bfce4c7f8"
  },
  {
   "cell_type": "markdown",
   "metadata": {},
   "source": [
    "Hopefully this gives you some sense of what the\n",
    "`Error: iterator should return strings, not bytes (did you open the file in text mode?)`\n",
    "means. The Python `CSV` library expects text but we’re trying to give it\n",
    "uninterpreted bytes. So the solution now seems rather trivial: add a\n",
    "`.decode()`!"
   ],
   "id": "e048fd11-e531-4a89-8f0c-5d7c182399cd"
  },
  {
   "cell_type": "code",
   "execution_count": null,
   "metadata": {},
   "outputs": [],
   "source": [
    "# https://climateknowledgeportal.worldbank.org/api/data/get-download-data/historical/tas/1901-2020/BEL/Belgium\n",
    "import csv \n",
    "bel_data = []\n",
    "with request.urlopen(\"https://gist.github.com/MaybeJustJames/4a604c9d9dcff2c999496ec5def1d6ce/raw/caf3df0d47b1523e347df01ed8db2cc3726b1bdc/bel_data_orig.csv\") as bel_data_manager:\n",
    "    text_data = bel_data_manager.read().decode().splitlines()\n",
    "    reader = csv.DictReader(text_data)\n",
    "    \n",
    "    for reading in reader:\n",
    "        bel_data = bel_data + [reading]\n",
    "\n",
    "bel_data[:5]"
   ],
   "id": "f854799e-efb2-489b-b825-f077d9670d25"
  },
  {
   "cell_type": "markdown",
   "metadata": {},
   "source": [
    "------------------------------------------------------------------------\n",
    "\n",
    "### Exercise 8-4: Clean the data!\n",
    "\n",
    "Write a function to clean the country data we read from the web. The\n",
    "input to your function will be a dictionary like this:\n",
    "\n",
    "``` python\n",
    "{\n",
    "  'Temperature - (Celsius)': '5.76',\n",
    "  'Year': '1901',\n",
    "  'Statistics': 'May Average',\n",
    "  'Country': 'Belgium',\n",
    "  'ISO3': 'BEL'\n",
    "}\n",
    "```\n",
    "\n",
    "The output of your function should look like this:\n",
    "\n",
    "``` python\n",
    "{\n",
    "  'Time': datetime.datetime(1901, 5, 1, 0, 0),\n",
    "  'Temperature': 5.76\n",
    "}\n",
    "```"
   ],
   "id": "08c87dcc-115f-4f1f-9a4b-8cd6b1856918"
  },
  {
   "cell_type": "code",
   "execution_count": null,
   "metadata": {},
   "outputs": [],
   "source": [
    "def clean_country_data(data):\n",
    "    \"\"\n",
    "    return _\n",
    "\n",
    "assert clean_country_data(bel_data[0]) == {'Time': datetime(1901, 1, 1, 0, 0), 'Temperature': 4.04}"
   ],
   "id": "df4dbe81-ec09-4c72-9ad6-d8ba266c924c"
  },
  {
   "cell_type": "markdown",
   "metadata": {},
   "source": [
    "------------------------------------------------------------------------\n",
    "\n",
    "### Exercise 8-5: Load country data\n",
    "\n",
    "Write a function that accepts a URL and returns a list of dictionaries\n",
    "containing ‘Time’ and ‘Temperature’ keys. Use the second code cell to\n",
    "save the cleaned data using the `save_data()` function you wrote\n",
    "earlier."
   ],
   "id": "7a4d4081-b7db-451a-85b2-b302c03e25d5"
  },
  {
   "cell_type": "code",
   "execution_count": null,
   "metadata": {},
   "outputs": [],
   "source": [
    "def country_data(url):\n",
    "    \"\"\n",
    "    return _\n",
    "\n",
    "assert country_data(\"https://gist.github.com/MaybeJustJames/4a604c9d9dcff2c999496ec5def1d6ce/raw/caf3df0d47b1523e347df01ed8db2cc3726b1bdc/bel_data_orig.csv\")[4] == {'Time': datetime(1901, 5, 1, 0, 0),'Temperature': 9.15}\n",
    "assert country_data(\"https://gist.github.com/MaybeJustJames/4a604c9d9dcff2c999496ec5def1d6ce/raw/caf3df0d47b1523e347df01ed8db2cc3726b1bdc/rus_data_orig.csv\")[4] == {'Time': datetime(1901, 5, 1, 0, 0),'Temperature': 2.01}\n",
    "assert country_data(\"https://gist.github.com/MaybeJustJames/4a604c9d9dcff2c999496ec5def1d6ce/raw/caf3df0d47b1523e347df01ed8db2cc3726b1bdc/aus_data_orig.csv\")[4] == {'Time': datetime(1901, 5, 1, 0, 0),'Temperature': 18.02}"
   ],
   "id": "b4999ea5-09ba-493e-903f-4a814f96546c"
  },
  {
   "cell_type": "code",
   "execution_count": null,
   "metadata": {},
   "outputs": [],
   "source": [],
   "id": "e0628e58-19b1-418e-a3af-c6d2032594c8"
  },
  {
   "cell_type": "markdown",
   "metadata": {},
   "source": [
    "------------------------------------------------------------------------\n",
    "\n",
    "## Chapter Review\n",
    "\n",
    "In this chapter we started working with files. We learned how to open a\n",
    "file and read its contents. We also learned how to write data to a file.\n",
    "\n",
    "1.  What does the `open()` function do?\n",
    "    <details>\n",
    "    <summary>\n",
    "    Answer\n",
    "    </summary>\n",
    "    It makes an external resource such as a file or remote web URL\n",
    "    available for <code>read()</code>ing and <code>write()</code>ing.\n",
    "    </details>\n",
    "2.  If you open a file with the mode argument set to `\"w\"`, can you read\n",
    "    data from the file?\n",
    "    <details>\n",
    "    <summary>\n",
    "    Answer\n",
    "    </summary>\n",
    "    No. <code>“w”</code> means you can only <em>write</em> to the file.\n",
    "    </details>\n",
    "3.  If you open an existing file with `mode=\"w\"` and write to it, what\n",
    "    happens to the original data?\n",
    "    <details>\n",
    "    <summary>\n",
    "    Answer\n",
    "    </summary>\n",
    "    It’s gone.\n",
    "    </details>\n",
    "4.  How do you read the entire contents of a file into a string?\n",
    "    <details>\n",
    "    <summary>\n",
    "    Answer\n",
    "    </summary>\n",
    "    Run the <code>read()</code> function on the context manager.\n",
    "    </details>\n",
    "5.  How would you access line 5 of a file?\n",
    "    <details>\n",
    "    <summary>\n",
    "    Answer\n",
    "    </summary>\n",
    "    Call the <code>readline()</code> function 5 times, ignoring the\n",
    "    returned string the first 4 times.\n",
    "    </details>\n",
    "6.  What is the difference between <code>bytes</code> and\n",
    "    <code>str</code> types?\n",
    "    <details>\n",
    "    <summary>\n",
    "    Answer\n",
    "    </summary>\n",
    "    <code>bytes</code> are uninterpreted bits if computer memory.\n",
    "    <code>str</code> are those bytes interpreted as text.\n",
    "    </details>\n",
    "\n",
    "## Next session\n",
    "\n",
    "Go to our [next chapter](09_Plotting.ipynb)."
   ],
   "id": "a40eb6b4-51cb-48f6-8dd4-09e47f4d4fc4"
  }
 ],
 "nbformat": 4,
 "nbformat_minor": 5,
 "metadata": {
  "kernelspec": {
   "name": "python3",
   "display_name": "Python 3 (ipykernel)",
   "language": "python"
  },
  "language_info": {
   "name": "python",
   "codemirror_mode": {
    "name": "ipython",
    "version": "3"
   },
   "file_extension": ".py",
   "mimetype": "text/x-python",
   "nbconvert_exporter": "python",
   "pygments_lexer": "ipython3",
   "version": "3.11.0"
  }
 }
}
