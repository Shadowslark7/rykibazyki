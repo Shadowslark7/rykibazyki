{
 "cells": [
  {
   "cell_type": "markdown",
   "metadata": {},
   "source": [
    "# Fetching and storing data\n",
    "\n",
    "In this chapter we will consider 2 sources of data: the internet and the\n",
    "filesystem of your own computer. We will also look at storing your data\n",
    "to the filesystem of your computer. More often than not the data you\n",
    "need for your program will come from somewhere outside of your program.\n",
    "Often, that “somewhere” will be a file or some location on the internet.\n",
    "Especially for more complex data, it becomes essential to be able to\n",
    "fetch data from the outside, or persist data to somewhere outside of\n",
    "your program.\n",
    "\n",
    "## Climate data\n",
    "\n",
    "For the plotting project you’ve been commissioned to complete, you’ve\n",
    "been provided with a file containing monthly global average observations\n",
    "and access to a website for data from individual countries. You will\n",
    "need to read the global data from the file and load the country data\n",
    "from the website. Let us begin…\n",
    "\n",
    "## How to deal with the outside world (**Here be dragons**)\n",
    "\n",
    "The outside world is a dangerous and scary place. Here, in your Python\n",
    "programming environment you are relatively safe. But out there lie\n",
    "horrific things like missing files, URLs that point to nowhere and even…\n",
    "INVALID DATA!!! Luckily Python gives us some mechanisms to help us deal\n",
    "with this frightening environment.\n",
    "\n",
    "There are, in general, 3 steps to dealing with the outside world:\n",
    "\n",
    "1.  “Open” a resource (could be a file or a URL, or…)\n",
    "2.  “Read” from or “write” to the resource\n",
    "3.  “Close” the resource\n",
    "\n",
    "Python provides us with the concept of a *context manager* which handles\n",
    "the “close” step for us. So we only need worry about opening the correct\n",
    "resource and performing the I/O we need. The `with` keyword tells Python\n",
    "to *manage a context*\n",
    "([Documentation](https://docs.python.org/3/reference/datamodel.html#context-managers)).\n",
    "Within this context (within an indented code block) you’re able to read\n",
    "from and write to the resource. As soon as you’re outside of the code\n",
    "block, the resource will not exist any more.\n",
    "\n",
    "Let’s see what a context manager looks like with an example reading from\n",
    "file and web resources…"
   ],
   "id": "00ef1367-9d82-4759-a035-5bc4b4b08ad1"
  },
  {
   "cell_type": "code",
   "execution_count": null,
   "metadata": {},
   "outputs": [],
   "source": [
    "# Open a file resource...\n",
    "with open(\"data/readfile.txt\") as file_resource: # file_resource is a context manager\n",
    "    # Read from the file resource\n",
    "    contents = file_resource.read()\n",
    "\n",
    "# Outside the with block, the context manager has done it's job and closed the file resource.\n",
    "# We cannot access file_resource now... but we still have the contents!\n",
    "print(contents)"
   ],
   "id": "72ef66da-6920-408e-b00d-7e86f80a043f"
  },
  {
   "cell_type": "code",
   "execution_count": null,
   "metadata": {},
   "outputs": [],
   "source": [
    "from urllib import request\n",
    "\n",
    "# Open a web resource...\n",
    "with request.urlopen(\"https://httpbin.org/get\") as web_resource: # web_resource is a context manager\n",
    "    # Read from the web resource\n",
    "    contents = web_resource.read()\n",
    "\n",
    "# Outside the with block, the context manager has done it's job and closed the web resource.\n",
    "# We cannot access web_resource now... but we still have the contents!\n",
    "print(contents)"
   ],
   "id": "07a86fd6-01b5-4ba5-b9b1-2bf49569ad8d"
  },
  {
   "cell_type": "markdown",
   "metadata": {},
   "source": [
    "These are “Happy paths” through your program where we *know* the\n",
    "resources exist, saving exceptional circumstances. Before we move on,\n",
    "let us observe what happens in a couple of “Unhappy paths” where errors\n",
    "occur."
   ],
   "id": "0b704f83-665e-4264-98d7-ec121de8fc19"
  },
  {
   "cell_type": "code",
   "execution_count": null,
   "metadata": {},
   "outputs": [],
   "source": [
    "# Open a file that does not exist\n",
    "with open(\"this-file-does-not-exist.txt\") as file_resource:\n",
    "    contents = file_resource.read()\n",
    "\n",
    "print(contents)"
   ],
   "id": "972eb9eb-87a7-40ea-a219-f40149c680d1"
  },
  {
   "cell_type": "code",
   "execution_count": null,
   "metadata": {},
   "outputs": [],
   "source": [
    "# Read from a file after the context manager has closed it\n",
    "with open(\"data/readfile.txt\") as file_resource:\n",
    "    pass\n",
    "\n",
    "contents = file_resource.read()\n",
    "print(contents)"
   ],
   "id": "cecf8d2e-4ba6-4dad-8c06-db8bb1d54d7b"
  },
  {
   "cell_type": "markdown",
   "metadata": {},
   "source": [
    "## Explore the global data\n",
    "\n",
    "In order to understand how to use the data in a file, we need to\n",
    "understand what’s in it. As you saw above, the `read()` function reads\n",
    "all the data from the file. The global data file is probably quite large\n",
    "though so let’s try to see just the beginning. We have 2 options: The\n",
    "`readline()` function will read up to a new line character, or we could\n",
    "pass an argument to the `read()` function that is the number of\n",
    "characters to read."
   ],
   "id": "204abd82-5f09-4b08-8467-d9320bd722f7"
  },
  {
   "cell_type": "code",
   "execution_count": null,
   "metadata": {},
   "outputs": [],
   "source": [
    "with open(\"data/HadCRUT.5.0.1.0.analysis.summary_series.global.monthly.csv\") as global_data_manager:\n",
    "    first_line = global_data_manager.readline()\n",
    "    second_line = global_data_manager.readline()\n",
    "    \n",
    "print(first_line + second_line)"
   ],
   "id": "d9a3e0ef-46e5-4775-b4dc-d1d09afab583"
  },
  {
   "cell_type": "markdown",
   "metadata": {},
   "source": [
    "You may’ve guessed based on the extension that this is tabular data in\n",
    "“comma-separated values (CSV)” format. If not, then you can tell by the\n",
    "structure of the data we’ve read.\n",
    "\n",
    "The [HadCRUT](https://www.metoffice.gov.uk/hadobs/hadcrut5/) website\n",
    "describes what we’re looking at. Column,\n",
    "\n",
    "1.  Year-Month labels\n",
    "2.  ‘Best-estimate’ computed monthly means from 200 ensemble\n",
    "    measurements as difference from 1961-1990 reference period.\n",
    "3.  2.5% confidence from 200 ensemble measurements.\n",
    "4.  97.5% confidence from 200 ensemble measurements.\n",
    "\n",
    "Although CSV is a conceptually simple data format it can be difficult to\n",
    "read and write *correctly*. The Python standard library provides a\n",
    "module (called `csv`) to help us easily read and write this format.\n",
    "Let’s use this library to read the global data…"
   ],
   "id": "049a8c58-1a98-496e-aedb-51fe40e53497"
  },
  {
   "cell_type": "code",
   "execution_count": null,
   "metadata": {},
   "outputs": [],
   "source": [
    "import csv\n",
    "\n",
    "global_data = []\n",
    "with open(\"data/HadCRUT.5.0.1.0.analysis.summary_series.global.monthly.csv\") as global_data_manager:\n",
    "    read_data = global_data_manager.read().splitlines()\n",
    "    reader = csv.DictReader(read_data)\n",
    "    \n",
    "    for reading in reader:\n",
    "        global_data = global_data + [reading]\n",
    "\n",
    "global_data[:5]"
   ],
   "id": "37cca809-2401-4420-b4f6-9bdfb781a84d"
  },
  {
   "cell_type": "markdown",
   "metadata": {},
   "source": [
    "This is a great start. The next step is to clean these data up a little.\n",
    "Here are a few things we can do to make them easier to work with:\n",
    "\n",
    "1.  Convert the temperature values from strings to numbers\n",
    "2.  Use a `datetime` object to record the time rather than a string\n",
    "3.  The confidence interval is not interesting for us at the moment so\n",
    "    we can discard those.\n",
    "\n",
    "First, what is a `datetime` object? Python provides a module for dealing\n",
    "with dates, times, timezones, and differences between times in the\n",
    "standard library. See the documentation\n",
    "[here](https://docs.python.org/3/library/datetime.html). Or especially\n",
    "the section on format codes\n",
    "[here](https://docs.python.org/3/library/datetime.html#strftime-and-strptime-format-codes)."
   ],
   "id": "78af9a90-a0cb-4cc9-b744-6ded2ec35f7e"
  },
  {
   "cell_type": "code",
   "execution_count": null,
   "metadata": {},
   "outputs": [],
   "source": [
    "from datetime import datetime\n",
    "\n",
    "# An example of a date from the data is the string \"1901-5\"\n",
    "date1 = datetime.strptime(\"1901-05\", \"%Y-%m\")\n",
    "print(\"Year:\", date1.year, \"Month:\", date1.month, \"Day:\", date1.day, \"day of the week:\", date1.weekday()) # Monday is 0"
   ],
   "id": "7eeed218-1c62-4282-854d-b4c1577d50c0"
  },
  {
   "cell_type": "code",
   "execution_count": null,
   "metadata": {},
   "outputs": [],
   "source": [
    "# An example of a date from the data is the string \"1901-May\"\n",
    "date1 = datetime.strptime(\"1901-May\", \"%Y-%b\")\n",
    "print(\"Year:\", date1.year, \"Month:\", date1.month, \"Day:\", date1.day, \"day of the week:\", date1.weekday()) # Monday is 0"
   ],
   "id": "f1d6decc-c929-4801-880a-cfca1e3a3651"
  },
  {
   "cell_type": "code",
   "execution_count": null,
   "metadata": {},
   "outputs": [],
   "source": [
    "# An example of a parsing error:\n",
    "datetime.strptime(\"May 1901\", \"%Y-%b\")"
   ],
   "id": "9951511c-9f47-43d0-b53e-930a73c2ca4a"
  },
  {
   "cell_type": "markdown",
   "metadata": {},
   "source": [
    "------------------------------------------------------------------------\n",
    "\n",
    "### Exercise 8-1: Clean the data!\n",
    "\n",
    "Write a function to *clean* the data we read from the file. The input to\n",
    "your function will be a dictionary like this:\n",
    "\n",
    "``` python\n",
    "{\n",
    "  'Time': '1901-05',\n",
    "  'Anomaly (deg C)': '-0.24934465',\n",
    "  'Lower confidence limit (2.5%)': '-0.44425672',\n",
    "  'Upper confidence limit (97.5%)': '-0.05443258'\n",
    "}\n",
    "```\n",
    "\n",
    "The output of your function should look like this:\n",
    "\n",
    "``` python\n",
    "{\n",
    "  'Time': datetime.datetime(1901, 5, 1, 0, 0),\n",
    "  'Temperature': -0.24934465\n",
    "}\n",
    "```"
   ],
   "id": "44a2ffb8-4db6-478c-b6b7-e15a30947c71"
  },
  {
   "cell_type": "code",
   "execution_count": null,
   "metadata": {},
   "outputs": [],
   "source": [
    "def clean_global_data(reading):\n",
    "    \"\"\n",
    "    return _\n",
    "\n",
    "assert clean_global_data({'Time': '1901-05','Anomaly (deg C)': '-0.24934465','Lower confidence limit (2.5%)': '-0.44425672','Upper confidence limit (97.5%)': '-0.05443258'}) == {'Time': datetime(1901, 5, 1, 0, 0),'Temperature': -0.24934465}"
   ],
   "id": "1c85af1d-b4e3-4227-b4bc-7163a02367f3"
  },
  {
   "cell_type": "markdown",
   "metadata": {},
   "source": [
    "[Advanced question](Advanced%20Exercises.ipynb#8-1)\n",
    "\n",
    "------------------------------------------------------------------------\n",
    "\n",
    "### Exercise 8-2: Load the data\n",
    "\n",
    "Write a function that reads the global temperature data file and returns\n",
    "a list of cleaned dictionaries."
   ],
   "id": "5d5d12cd-f8bd-48db-a0d2-596720f58357"
  },
  {
   "cell_type": "code",
   "execution_count": null,
   "metadata": {},
   "outputs": [],
   "source": [
    "def global_data(filename):\n",
    "    \"\"\n",
    "    return _\n",
    "\n",
    "assert global_data(\"data/HadCRUT.5.0.1.0.analysis.summary_series.global.monthly.csv\")[4] == {'Time': datetime(1901, 5, 1, 0, 0),'Temperature': -0.24934465}"
   ],
   "id": "a6d9b0a9-88a7-49dd-abec-ade7996e1c64"
  },
  {
   "cell_type": "markdown",
   "metadata": {},
   "source": [
    "------------------------------------------------------------------------\n",
    "\n",
    "## Saving data for later\n",
    "\n",
    "At this point you may wish to save your cleaned data for later\n",
    "inspection or use. The resource workflow of: `open`, `write`, `close` is\n",
    "the same as before. Let’s see what this looks like in general:"
   ],
   "id": "d5d43c2d-4036-477f-998f-4dcf01eafadd"
  },
  {
   "cell_type": "code",
   "execution_count": null,
   "metadata": {},
   "outputs": [],
   "source": [
    "# Open a file resource...\n",
    "with open(\"test.txt\", mode=\"w\") as file_resource: # file_resource is a context manager. Notice the extra mode=\"w\"\n",
    "    # Write to the file resource\n",
    "    file_resource.write(\"Hello outside world!\")\n",
    "\n",
    "# Outside the with block, the context manager has done it's job and closed the file resource.\n",
    "# We cannot access file_resource now... but we still have the contents!"
   ],
   "id": "19ae9b03-3847-4db4-ab31-0eb07eef17dd"
  },
  {
   "cell_type": "markdown",
   "metadata": {},
   "source": [
    "Now you should be able to find a file called “test.txt” in the file\n",
    "browser on the left of this notebook.\n",
    "\n",
    "Naturally, the CSV library allows us to write correct CSV formatted data\n",
    "without the hastle…"
   ],
   "id": "60a3ac64-a02c-4c9c-9f63-71d9008d1c49"
  },
  {
   "cell_type": "code",
   "execution_count": null,
   "metadata": {},
   "outputs": [],
   "source": [
    "with open(\"test.csv\", mode=\"w\") as file_resource:\n",
    "    writer = csv.DictWriter(file_resource, fieldnames=[\"Time\", \"Temperature\"])\n",
    "    writer.writeheader()\n",
    "    writer.writerows(global_data(\"data/HadCRUT.5.0.1.0.analysis.summary_series.global.monthly.csv\"))"
   ],
   "id": "60a9ad16-a76a-46be-83f2-f0bca5bedf6a"
  },
  {
   "cell_type": "markdown",
   "metadata": {},
   "source": [
    "------------------------------------------------------------------------\n",
    "\n",
    "### Exercise 8-3: Save the data!\n",
    "\n",
    "Write a function that takes a list of dictionaries as an argument and\n",
    "saves them to a CSV formatted file."
   ],
   "id": "080b6bb7-b885-4243-a12a-a325c5792a39"
  },
  {
   "cell_type": "code",
   "execution_count": null,
   "metadata": {},
   "outputs": [],
   "source": [
    "def save_data(data, filename):\n",
    "    \"\"\n",
    "    _\n",
    "\n",
    "glo = global_data(\"data/HadCRUT.5.0.1.0.analysis.summary_series.global.monthly.csv\")\n",
    "save_data(glo, \"data/global_data.csv\")"
   ],
   "id": "e1cf42bf-5a9a-4d34-a329-0861713279f8"
  },
  {
   "cell_type": "markdown",
   "metadata": {},
   "source": [
    "------------------------------------------------------------------------\n",
    "\n",
    "## Exploring the per-Country data\n",
    "\n",
    "Drawing on our exploration of the global data (which we had in a local\n",
    "file), let’s explore the pre-country data. The only difference this time\n",
    "is that the data is coming from a web resource rather than a file\n",
    "resource."
   ],
   "id": "96fbc428-481e-4dec-8322-21d83b957d6a"
  },
  {
   "cell_type": "code",
   "execution_count": null,
   "metadata": {},
   "outputs": [],
   "source": [
    "# https://climateknowledgeportal.worldbank.org/api/data/get-download-data/historical/tas/1901-2020/BEL/Belgium\n",
    "import csv\n",
    "\n",
    "bel_data = []\n",
    "with request.urlopen(\"https://gist.github.com/MaybeJustJames/4a604c9d9dcff2c999496ec5def1d6ce/raw/caf3df0d47b1523e347df01ed8db2cc3726b1bdc/bel_data_orig.csv\") as bel_data_manager:\n",
    "    read_data = bel_data_manager.read().splitlines()\n",
    "    reader = csv.DictReader(read_data)\n",
    "    \n",
    "    for reading in reader:\n",
    "        bel_data = bel_data + [reading]\n",
    "\n",
    "bel_data[:5]"
   ],
   "id": "62f1a682-950e-489f-85b1-f413778200e0"
  },
  {
   "cell_type": "markdown",
   "metadata": {},
   "source": [
    "**An Error!** This one is a bit difficult to decipher without\n",
    "introducing you to another data type: `bytes`.\n",
    "\n",
    "Very often the files on your computer (or on remote computers) aren’t\n",
    "just plain text (like CSV is), instead their data is serialised (stored)\n",
    "as binary numbers that have to be interpreted differently than text.\n",
    "\n",
    "-   Here is a number as we would write it in base 10 (decimal): `65`.\n",
    "-   Here is that number as it is written in a string: `\"65\"`.\n",
    "-   Here is that number as a computer would write it in base 2 (binary):\n",
    "    `01000001`\n",
    "-   If I interpret this pattern of bytes as a character I get, `\" \"`\n",
    "-   Here is that number as a computer would see the string\n",
    "    representation without interpreting the data as text:\n",
    "    `0011011000110101`\n",
    "-   If I interpret this pattern of bits as a decimal number I get:\n",
    "    `13877`\n",
    "\n",
    "At some level, all you’re doing as a programmer is interpreting patterns\n",
    "of bytes. The data you read has no interpretation other than what you\n",
    "impose on in, you must tell the computer how we want to interpret it:"
   ],
   "id": "c926b574-eb24-46db-9c30-53c78639c46c"
  },
  {
   "cell_type": "code",
   "execution_count": null,
   "metadata": {},
   "outputs": [],
   "source": [
    "bin(65) # Binary representation of the decimal integer 32"
   ],
   "id": "63489c40-fb3f-4bbb-9b49-c8479324464b"
  },
  {
   "cell_type": "code",
   "execution_count": null,
   "metadata": {},
   "outputs": [],
   "source": [
    "int(65).to_bytes(1, byteorder='big').decode() # The integer 32 interpreted as a string"
   ],
   "id": "9c78a7db-86a2-4e1f-aac7-c06e4d28e04b"
  },
  {
   "cell_type": "code",
   "execution_count": null,
   "metadata": {},
   "outputs": [],
   "source": [
    "int.from_bytes(\"65\".encode(), byteorder='big') # The string \"32\" interpreted as an integer"
   ],
   "id": "06293511-14f2-416d-bd10-b144dc89c900"
  },
  {
   "cell_type": "markdown",
   "metadata": {},
   "source": [
    "Hopefully this gives you some sense of what the\n",
    "`Error: iterator should return strings, not bytes (did you open the file in text mode?)`\n",
    "means. The Python `CSV` library expects text but we’re trying to give it\n",
    "uninterpreted bytes. So the solution now seems rather trivial: add a\n",
    "`.decode()`!"
   ],
   "id": "e3b7d061-3566-40bd-a703-de3bddc7a2da"
  },
  {
   "cell_type": "code",
   "execution_count": null,
   "metadata": {},
   "outputs": [],
   "source": [
    "# https://climateknowledgeportal.worldbank.org/api/data/get-download-data/historical/tas/1901-2020/BEL/Belgium\n",
    "import csv \n",
    "bel_data = []\n",
    "with request.urlopen(\"https://gist.github.com/MaybeJustJames/4a604c9d9dcff2c999496ec5def1d6ce/raw/caf3df0d47b1523e347df01ed8db2cc3726b1bdc/bel_data_orig.csv\") as bel_data_manager:\n",
    "    text_data = bel_data_manager.read().decode().splitlines()\n",
    "    reader = csv.DictReader(text_data)\n",
    "    \n",
    "    for reading in reader:\n",
    "        bel_data = bel_data + [reading]\n",
    "\n",
    "bel_data[:5]"
   ],
   "id": "a500e520-2a53-47c4-a344-a06df4a885dd"
  },
  {
   "cell_type": "markdown",
   "metadata": {},
   "source": [
    "------------------------------------------------------------------------\n",
    "\n",
    "### Exercise 8-4: Clean the data!\n",
    "\n",
    "Write a function to clean the country data we read from the web. The\n",
    "input to your function will be a dictionary like this:\n",
    "\n",
    "``` python\n",
    "{\n",
    "  'Temperature - (Celsius)': '5.76',\n",
    "  'Year': '1901',\n",
    "  'Statistics': 'May Average',\n",
    "  'Country': 'Belgium',\n",
    "  'ISO3': 'BEL'\n",
    "}\n",
    "```\n",
    "\n",
    "The output of your function should look like this:\n",
    "\n",
    "``` python\n",
    "{\n",
    "  'Time': datetime.datetime(1901, 5, 1, 0, 0),\n",
    "  'Temperature': 5.76\n",
    "}\n",
    "```"
   ],
   "id": "aef5e8f9-519a-4fa4-a012-724d1df180b9"
  },
  {
   "cell_type": "code",
   "execution_count": null,
   "metadata": {},
   "outputs": [],
   "source": [
    "def clean_country_data(data):\n",
    "    \"\"\n",
    "    return _\n",
    "\n",
    "assert clean_country_data(bel_data[0]) == {'Time': datetime(1901, 1, 1, 0, 0), 'Temperature': 4.04}"
   ],
   "id": "9bee0893-1c9b-4fa8-93aa-fa28447d2701"
  },
  {
   "cell_type": "markdown",
   "metadata": {},
   "source": [
    "------------------------------------------------------------------------\n",
    "\n",
    "### Exercise 8-5: Load country data\n",
    "\n",
    "Write a function that accepts a URL and returns a list of dictionaries\n",
    "containing ‘Time’ and ‘Temperature’ keys. Use the second code cell to\n",
    "save the cleaned data using the `save_data()` function you wrote\n",
    "earlier."
   ],
   "id": "6adcf727-a349-4364-9223-a32158e075e5"
  },
  {
   "cell_type": "code",
   "execution_count": null,
   "metadata": {},
   "outputs": [],
   "source": [
    "def country_data(url):\n",
    "    \"\"\n",
    "    return _\n",
    "\n",
    "assert country_data(\"https://gist.github.com/MaybeJustJames/4a604c9d9dcff2c999496ec5def1d6ce/raw/caf3df0d47b1523e347df01ed8db2cc3726b1bdc/bel_data_orig.csv\")[4] == {'Time': datetime(1901, 5, 1, 0, 0),'Temperature': 9.15}\n",
    "assert country_data(\"https://gist.github.com/MaybeJustJames/4a604c9d9dcff2c999496ec5def1d6ce/raw/caf3df0d47b1523e347df01ed8db2cc3726b1bdc/rus_data_orig.csv\")[4] == {'Time': datetime(1901, 5, 1, 0, 0),'Temperature': 2.01}\n",
    "assert country_data(\"https://gist.github.com/MaybeJustJames/4a604c9d9dcff2c999496ec5def1d6ce/raw/caf3df0d47b1523e347df01ed8db2cc3726b1bdc/aus_data_orig.csv\")[4] == {'Time': datetime(1901, 5, 1, 0, 0),'Temperature': 18.02}"
   ],
   "id": "caa42d20-7f7a-4a27-b607-99b8c7c993dd"
  },
  {
   "cell_type": "code",
   "execution_count": null,
   "metadata": {},
   "outputs": [],
   "source": [],
   "id": "bb63fd4f-87c8-4675-9e19-370700882335"
  },
  {
   "cell_type": "markdown",
   "metadata": {},
   "source": [
    "------------------------------------------------------------------------\n",
    "\n",
    "## Chapter Review\n",
    "\n",
    "In this chapter we started working with files. We learned how to open a\n",
    "file and read its contents. We also learned how to write data to a file.\n",
    "\n",
    "1.  What does the `open()` function do?\n",
    "    <details>\n",
    "    <summary>\n",
    "    Answer\n",
    "    </summary>\n",
    "    It makes an external resource such as a file or remote web URL\n",
    "    available for <code>read()</code>ing and <code>write()</code>ing.\n",
    "    </details>\n",
    "2.  If you open a file with the mode argument set to `\"w\"`, can you read\n",
    "    data from the file?\n",
    "    <details>\n",
    "    <summary>\n",
    "    Answer\n",
    "    </summary>\n",
    "    No. <code>“w”</code> means you can only <em>write</em> to the file.\n",
    "    </details>\n",
    "3.  If you open an existing file with `mode=\"w\"` and write to it, what\n",
    "    happens to the original data?\n",
    "    <details>\n",
    "    <summary>\n",
    "    Answer\n",
    "    </summary>\n",
    "    It’s gone.\n",
    "    </details>\n",
    "4.  How do you read the entire contents of a file into a string?\n",
    "    <details>\n",
    "    <summary>\n",
    "    Answer\n",
    "    </summary>\n",
    "    Run the <code>read()</code> function on the context manager.\n",
    "    </details>\n",
    "5.  How would you access line 5 of a file?\n",
    "    <details>\n",
    "    <summary>\n",
    "    Answer\n",
    "    </summary>\n",
    "    Call the <code>readline()</code> function 5 times, ignoring the\n",
    "    returned string the first 4 times.\n",
    "    </details>\n",
    "6.  What is the difference between <code>bytes</code> and\n",
    "    <code>str</code> types?\n",
    "    <details>\n",
    "    <summary>\n",
    "    Answer\n",
    "    </summary>\n",
    "    <code>bytes</code> are uninterpreted bits if computer memory.\n",
    "    <code>str</code> are those bytes interpreted as text.\n",
    "    </details>\n",
    "\n",
    "## Next session\n",
    "\n",
    "Go to our [next chapter](09_Plotting.ipynb)."
   ],
   "id": "c06c32e7-63b2-430e-bca2-5a5ffaa3cd23"
  }
 ],
 "nbformat": 4,
 "nbformat_minor": 5,
 "metadata": {
  "kernelspec": {
   "name": "python3",
   "display_name": "Python 3 (ipykernel)",
   "language": "python"
  },
  "language_info": {
   "name": "python",
   "codemirror_mode": {
    "name": "ipython",
    "version": "3"
   },
   "file_extension": ".py",
   "mimetype": "text/x-python",
   "nbconvert_exporter": "python",
   "pygments_lexer": "ipython3",
   "version": "3.11.0"
  }
 }
}
