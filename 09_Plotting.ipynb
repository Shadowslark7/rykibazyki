{
 "cells": [
  {
   "cell_type": "markdown",
   "metadata": {},
   "source": [
    "# Visualising data\n",
    "\n",
    "> *“\\[…\\] the most important part of \\[…\\] research \\[is\\] being able to\n",
    "> successfully communicate \\[…\\] results to clinicians”*\n",
    ">\n",
    "> – Dr. Matthias Stahl<sup><a href=\"#References\">1</a></sup>\n",
    "\n",
    "This chapter will be your first taste of the enormous “ecosystem” of\n",
    "Python third-party libraries outside of the standard library that comes\n",
    "packaged with Python itself. We will start out introducing how to plot\n",
    "in general then move on to creating the plots for the climate data.\n",
    "\n",
    "`matplotlib` is a one of several Python plotting libraries but is\n",
    "possibly the most commonly used. When you began thid course you\n",
    "installed the library already so you don’t need to worry about\n",
    "installing it.\n",
    "\n",
    "`matplotlib.pyplot` is a collection of command style functions that make\n",
    "matplotlib work like MATLAB. Each pyplot function makes some change to a\n",
    "figure: e.g., creates a figure, creates a plotting area in a figure,\n",
    "plots some lines in a plotting area, decorates the plot with labels,\n",
    "etc. In `matplotlib.pyplot` various states are preserved across function\n",
    "calls, so that it keeps track of things like the current figure and\n",
    "plotting area, and the plotting functions are directed to the current\n",
    "subplot.\n",
    "\n",
    "What we first have to do is importing the library of course."
   ],
   "id": "616d747a-e59a-434f-b67e-eaf8d8e81e5c"
  },
  {
   "cell_type": "code",
   "execution_count": null,
   "metadata": {},
   "outputs": [],
   "source": [
    "import matplotlib.pyplot as plt"
   ],
   "id": "8d9dc69f-31d8-49bf-b439-03f8e94c5b7a"
  },
  {
   "cell_type": "markdown",
   "metadata": {},
   "source": [
    "## Loading the cleaned data\n",
    "\n",
    "At this point we can load the data we saved in the previous chapter and\n",
    "explore various ways of plotting it."
   ],
   "id": "58bc5708-97d3-42d5-87bf-799499f26fe0"
  },
  {
   "cell_type": "code",
   "execution_count": null,
   "metadata": {},
   "outputs": [],
   "source": [
    "import csv\n",
    "from datetime import datetime\n",
    "\n",
    "def load_data(filename):\n",
    "    with open(filename) as file_resource:\n",
    "        reader = csv.DictReader(file_resource)\n",
    "    \n",
    "        data = []\n",
    "        for reading in reader:\n",
    "            data = data + [{'Time': datetime.fromisoformat(reading['Time']), 'Temperature': float(reading['Temperature'])}]\n",
    "    \n",
    "    return data\n",
    "\n",
    "global_data = load_data(\"data/global_data.csv\")\n",
    "bel_data = load_data(\"data/bel_data.csv\")\n",
    "rus_data = load_data(\"data/rus_data.csv\")\n",
    "aus_data = load_data(\"data/aus_data.csv\")"
   ],
   "id": "7e41fe68-7821-4bff-b89a-7f55b5cc50d0"
  },
  {
   "cell_type": "markdown",
   "metadata": {},
   "source": [
    "A simple plotting function provided by `matplotlib` is called `bar()`.\n",
    "It has a lot of options but you can start simply by passing it a list of\n",
    "x-values and a list of height-values (e.g. some global temperature\n",
    "anomaly numbers)."
   ],
   "id": "89bb43c5-e5a0-4ebe-9182-fedc326ac893"
  },
  {
   "cell_type": "code",
   "execution_count": null,
   "metadata": {},
   "outputs": [],
   "source": [
    "temperatures = []\n",
    "for observation in global_data:\n",
    "    temperatures = temperatures + [observation['Temperature']]"
   ],
   "id": "0171f8cb-5c62-4341-952e-c0bd61d69ead"
  },
  {
   "cell_type": "code",
   "execution_count": null,
   "metadata": {},
   "outputs": [],
   "source": [
    "plt.bar(x=range(len(temperatures)), height=temperatures)"
   ],
   "id": "07922d3f-7236-4649-b93e-c3afb9abb77b"
  },
  {
   "cell_type": "markdown",
   "metadata": {},
   "source": [
    "We could also pass the list of dates to get useful x-axis markings."
   ],
   "id": "8d5d4cca-4534-44ef-8a74-826f45997723"
  },
  {
   "cell_type": "code",
   "execution_count": null,
   "metadata": {},
   "outputs": [],
   "source": [
    "dates = []\n",
    "for observation in global_data:\n",
    "    dates = dates + [observation['Time']]"
   ],
   "id": "e85f7fad-3eee-4ca6-98d3-be99d2a062ab"
  },
  {
   "cell_type": "code",
   "execution_count": null,
   "metadata": {},
   "outputs": [],
   "source": [
    "plt.bar(x=dates, height=temperatures)"
   ],
   "id": "b3e06878-c1d4-4cc5-88e9-6de37795459d"
  },
  {
   "cell_type": "markdown",
   "metadata": {},
   "source": [
    "This is not very satisfying though, and it’s not the correct type of\n",
    "plot. An alternative might be a `scatter()`.\n",
    "\n",
    "------------------------------------------------------------------------\n",
    "\n",
    "### Exercise 9-1: Scatter plot\n",
    "\n",
    "Plot the global climate data using a scatter plot."
   ],
   "id": "51a0a791-a11a-4d14-a0a7-c23ba2d96b05"
  },
  {
   "cell_type": "code",
   "execution_count": null,
   "metadata": {},
   "outputs": [],
   "source": [],
   "id": "498a5c86-130a-44ee-94a7-d7ee34febdad"
  },
  {
   "cell_type": "markdown",
   "metadata": {},
   "source": [
    "------------------------------------------------------------------------\n",
    "\n",
    "### Exercise 9-2: Add axis labels and a title\n",
    "\n",
    "Plot the global climate data using a scatter plot and add axis labels\n",
    "with `xlabel()`, `ylabel()` and `title()`."
   ],
   "id": "ba1dfd53-506f-4662-ad28-11d106f392cd"
  },
  {
   "cell_type": "code",
   "execution_count": null,
   "metadata": {},
   "outputs": [],
   "source": [],
   "id": "5964c61a-ade0-40da-83b3-d0381bb8d4fd"
  },
  {
   "cell_type": "markdown",
   "metadata": {},
   "source": [
    "------------------------------------------------------------------------\n",
    "\n",
    "This is getting closer to the result we want. But it’s still not the\n",
    "right kind of plot. We need a line plot.\n",
    "\n",
    "------------------------------------------------------------------------\n",
    "\n",
    "### Exercise 9-3: A line plot\n",
    "\n",
    "Use the documentation\n",
    "[here](https://matplotlib.org/3.5.3/api/_as_gen/matplotlib.pyplot.html),\n",
    "and the plot gallery [here](https://matplotlib.org/stable/gallery/), to\n",
    "draw a line plot of the global temperature anomaly data. Make sure you\n",
    "add axis labels and a title. Experiment with adding and changing line\n",
    "colours with the `color` parameter."
   ],
   "id": "6668db09-48a2-4f90-8b71-9d4d42e0a8ee"
  },
  {
   "cell_type": "code",
   "execution_count": null,
   "metadata": {},
   "outputs": [],
   "source": [],
   "id": "b0465d3e-295d-4bb2-a222-c4f1b2d2a210"
  },
  {
   "cell_type": "markdown",
   "metadata": {},
   "source": [
    "------------------------------------------------------------------------\n",
    "\n",
    "Beautiful! However there is a lot of noise, it might be useful to\n",
    "display smoothed data<sup>2</sup>. One way of smoothing these data is by\n",
    "taking a moving average over a window of, say, 2 years (24 months). So\n",
    "let’s do that now. The first function we need is something you’ve done\n",
    "before: compute an average observation."
   ],
   "id": "5f4ec491-581b-44bc-8a25-cfc6fb8c3d39"
  },
  {
   "cell_type": "code",
   "execution_count": null,
   "metadata": {},
   "outputs": [],
   "source": [
    "def average_observation(observations):\n",
    "    temp_sum = 0\n",
    "    for observation in observations:\n",
    "        temp_sum = temp_sum + observation['Temperature']\n",
    "    \n",
    "    return {\n",
    "        'Temperature': temp_sum / len(observations),\n",
    "        'Time': observations[len(observations) // 2]['Time']\n",
    "    }\n",
    "\n",
    "assert { 'Temperature': 1.1, 'Time': datetime(2022, 12, 1) } == average_observation([{ 'Temperature': 1.1, 'Time': datetime(2022, 12, 1) }])\n",
    "assert { 'Temperature': 0, 'Time': datetime(2000, 1, 1) } == average_observation([\n",
    "    { 'Temperature': -5, 'Time': datetime(1990, 5, 1) },\n",
    "    { 'Temperature': 5, 'Time': datetime(2000, 1, 1) }\n",
    "])"
   ],
   "id": "d044c926-e18e-471c-a24e-8a8a000da4a4"
  },
  {
   "cell_type": "markdown",
   "metadata": {},
   "source": [
    "Since our `average_observation()` function computes the average for an\n",
    "entire list of observations we need a way to *select* all overlapping\n",
    "sub-lists and pass them along to our function. This is a *moving\n",
    "window*."
   ],
   "id": "57fb43c5-16dd-4b07-a5b5-f419ff190b80"
  },
  {
   "cell_type": "code",
   "execution_count": null,
   "metadata": {},
   "outputs": [],
   "source": [
    "def moving_window(data, window_size: int):\n",
    "    windows = []\n",
    "    for window_begin in range(len(data) - window_size + 1):\n",
    "        windows = windows + [data[window_begin:(window_begin + window_size)]]\n",
    "    \n",
    "    return windows\n",
    "\n",
    "assert moving_window([], 5) == []\n",
    "assert moving_window(\"ABCDEFG\", 4) == [\"ABCD\", \"BCDE\", \"CDEF\", \"DEFG\"]"
   ],
   "id": "104ac225-a30d-4ce7-a6b4-d09f653397f3"
  },
  {
   "cell_type": "markdown",
   "metadata": {},
   "source": [
    "Finally we need to apply `average_observation()` to each of the windows\n",
    "we get from `moving_window()`."
   ],
   "id": "5987f872-f560-421f-9600-7b000d75c2b7"
  },
  {
   "cell_type": "code",
   "execution_count": null,
   "metadata": {},
   "outputs": [],
   "source": [
    "def smoothed(data, window_size: int):\n",
    "    smooth = []\n",
    "    windows = moving_window(data, window_size)\n",
    "    for window in windows:\n",
    "        smooth = smooth + [average_observation(window)]\n",
    "    \n",
    "    return smooth"
   ],
   "id": "6655c5da-db24-4274-b6d6-484e750528fb"
  },
  {
   "cell_type": "markdown",
   "metadata": {},
   "source": [
    "Now we can use this function to plot the original data and a smoothed\n",
    "line on top of it. But first, splitting the data is a little awkward and\n",
    "repetitive so lets write a little function to do that."
   ],
   "id": "43f072a5-e4a4-4a40-bee1-9ca758926b2d"
  },
  {
   "cell_type": "code",
   "execution_count": null,
   "metadata": {},
   "outputs": [],
   "source": [
    "def split_data(data):\n",
    "    temps = []\n",
    "    dates = []\n",
    "    for observation in data:\n",
    "        temps = temps + [observation['Temperature']]\n",
    "        dates = dates + [observation['Time']]\n",
    "    \n",
    "    return { 'Temperatures': temps, 'Dates': dates}"
   ],
   "id": "04ab4f94-9844-465c-aeee-01f4d16fd9da"
  },
  {
   "cell_type": "markdown",
   "metadata": {},
   "source": [
    "Now we’re finally ready to create a plot for the global temperature\n",
    "data.\n",
    "\n",
    "------------------------------------------------------------------------\n",
    "\n",
    "### Exercise 9-4: Plot global temperature anomaly\n",
    "\n",
    "Create a plot of the global temperature anomaly. Include the un-smoothed\n",
    "and smoothed data in a line plot. Label axes and include a plot title."
   ],
   "id": "01123405-a6f2-44b3-a309-687cb6f648dc"
  },
  {
   "cell_type": "code",
   "execution_count": null,
   "metadata": {},
   "outputs": [],
   "source": [],
   "id": "1eb12c0c-61a2-4d03-9a32-2c39a1f04ecc"
  },
  {
   "cell_type": "markdown",
   "metadata": {},
   "source": [
    "------------------------------------------------------------------------\n",
    "\n",
    "### Exercise 9-5: Plot per-region data\n",
    "\n",
    "Create plots for each region (Belgium, Russia, and Australia) in the\n",
    "same way as you did for the global data. Once you do this, you will see\n",
    "that it is difficult to see any trend in these plots due to the noise.\n",
    "So limit the range of the y-axis around the smoothed plot, do you see a\n",
    "pattern now?"
   ],
   "id": "7a9edd24-a126-4d16-a945-224a431a3ad7"
  },
  {
   "cell_type": "code",
   "execution_count": null,
   "metadata": {},
   "outputs": [],
   "source": [],
   "id": "a99c3df6-90a9-467b-ab2b-07e376319e79"
  },
  {
   "cell_type": "code",
   "execution_count": null,
   "metadata": {},
   "outputs": [],
   "source": [],
   "id": "1f6269a1-80f8-45b4-97e0-a0df66d9f13a"
  },
  {
   "cell_type": "code",
   "execution_count": null,
   "metadata": {},
   "outputs": [],
   "source": [],
   "id": "438818fd-8934-451b-8300-1ab07c300ff4"
  },
  {
   "cell_type": "markdown",
   "metadata": {},
   "source": [
    "------------------------------------------------------------------------\n",
    "\n",
    "## Chapter Review\n",
    "\n",
    "In this chapter you learned how to use you first third-party library in\n",
    "Python: `matplotlib`. You used it to create bar and scatter plots with\n",
    "axes labeled and plot titles. Finally you created line plots of global\n",
    "and selected regional climate data.\n",
    "\n",
    "### Review Questions\n",
    "\n",
    "1.  What is the name of the function used to create line plots?\n",
    "    <details>\n",
    "    <summary>\n",
    "    Answer\n",
    "    </summary>\n",
    "    <code>plot()</code>\n",
    "    </details>\n",
    "2.  Is it possible to change the plot colour?\n",
    "    <details>\n",
    "    <summary>\n",
    "    Answer\n",
    "    </summary>\n",
    "    Yes, using the <code>color</code> argument to <code>plot()</code>\n",
    "    </details>\n",
    "3.  Can you use <code>matplotlib</code> to plot a histogram?\n",
    "    <details>\n",
    "    <summary>\n",
    "    Answer\n",
    "    </summary>\n",
    "    <a href=\"https://matplotlib.org/stable/gallery/statistics/hist.html\">Yes.</a>\n",
    "    </details>\n",
    "\n",
    "## References\n",
    "\n",
    "1.  [Matthias Stahl’s personal website](https://www.higsch.com/about/)\n",
    "2.  [Data smoothing](https://www.climate4you.com/DataSmoothing.htm)\n",
    "\n",
    "## Supporting material\n",
    "\n",
    "-   [Become a Python Data\n",
    "    Analyst](https://www.packtpub.com/eu/big-data-and-business-intelligence/become-python-data-analyst)\n",
    "-   [Add confidence interval on\n",
    "    barplot](https://python-graph-gallery.com/8-add-confidence-interval-on-barplot/)\n",
    "-   [Matplotlib\n",
    "    Cheatsheets](https://github.com/matplotlib/cheatsheets#cheatsheets)\n",
    "\n",
    "## Next session\n",
    "\n",
    "Go to our [next chapter](10_Conclusion.ipynb)."
   ],
   "id": "329813e2-cee5-4deb-bba3-82a0e8c1e941"
  }
 ],
 "nbformat": 4,
 "nbformat_minor": 5,
 "metadata": {
  "kernelspec": {
   "name": "python3",
   "display_name": "Python 3 (ipykernel)",
   "language": "python"
  },
  "language_info": {
   "name": "python",
   "codemirror_mode": {
    "name": "ipython",
    "version": "3"
   },
   "file_extension": ".py",
   "mimetype": "text/x-python",
   "nbconvert_exporter": "python",
   "pygments_lexer": "ipython3",
   "version": "3.11.0"
  }
 }
}
