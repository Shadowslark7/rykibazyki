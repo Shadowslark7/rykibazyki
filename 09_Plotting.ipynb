{
 "cells": [
  {
   "cell_type": "markdown",
   "metadata": {},
   "source": [
    "# Visualising data\n",
    "\n",
    "> *“\\[…\\] the most important part of \\[…\\] research \\[is\\] being able to\n",
    "> successfully communicate \\[…\\] results to clinicians”*\n",
    ">\n",
    "> – Dr. Matthias Stahl<sup><a href=\"#References\">1</a></sup>\n",
    "\n",
    "This chapter will be your first taste of the enormous “ecosystem” of\n",
    "Python third-party libraries outside of the standard library that comes\n",
    "packaged with Python itself. We will start out introducing how to plot\n",
    "in general then move on to creating the plots for the climate data.\n",
    "\n",
    "`matplotlib` is a one of several Python plotting libraries but is\n",
    "possibly the most commonly used. When you began thid course you\n",
    "installed the library already so you don’t need to worry about\n",
    "installing it.\n",
    "\n",
    "`matplotlib.pyplot` is a collection of command style functions that make\n",
    "matplotlib work like MATLAB. Each pyplot function makes some change to a\n",
    "figure: e.g., creates a figure, creates a plotting area in a figure,\n",
    "plots some lines in a plotting area, decorates the plot with labels,\n",
    "etc. In `matplotlib.pyplot` various states are preserved across function\n",
    "calls, so that it keeps track of things like the current figure and\n",
    "plotting area, and the plotting functions are directed to the current\n",
    "subplot.\n",
    "\n",
    "What we first have to do is importing the library of course."
   ],
   "id": "2568a18a-e6dd-4139-9ac2-16c732c956d1"
  },
  {
   "cell_type": "code",
   "execution_count": null,
   "metadata": {},
   "outputs": [],
   "source": [
    "import matplotlib.pyplot as plt"
   ],
   "id": "621de7e6-e333-497d-8c44-9ee234159d3a"
  },
  {
   "cell_type": "markdown",
   "metadata": {},
   "source": [
    "## Loading the cleaned data\n",
    "\n",
    "At this point we can load the data we saved in the previous chapter and\n",
    "explore various ways of plotting it."
   ],
   "id": "88ceea13-8b50-47ff-8bc4-943cb40d686d"
  },
  {
   "cell_type": "code",
   "execution_count": null,
   "metadata": {},
   "outputs": [],
   "source": [
    "import csv\n",
    "from datetime import datetime\n",
    "\n",
    "def load_data(filename):\n",
    "    with open(filename) as file_resource:\n",
    "        reader = csv.DictReader(file_resource)\n",
    "    \n",
    "        data = []\n",
    "        for reading in reader:\n",
    "            data = data + [{'Time': datetime.fromisoformat(reading['Time']), 'Temperature': float(reading['Temperature'])}]\n",
    "    \n",
    "    return data\n",
    "\n",
    "global_data = load_data(\"data/global_data.csv\")\n",
    "bel_data = load_data(\"data/bel_data.csv\")\n",
    "rus_data = load_data(\"data/rus_data.csv\")\n",
    "aus_data = load_data(\"data/aus_data.csv\")"
   ],
   "id": "b8fcae3a-a95f-480a-8c07-b6158ebfbf1e"
  },
  {
   "cell_type": "markdown",
   "metadata": {},
   "source": [
    "A simple plotting function provided by `matplotlib` is called `bar()`.\n",
    "It has a lot of options but you can start simply by passing it a list of\n",
    "x-values and a list of height-values (e.g. some global temperature\n",
    "anomaly numbers)."
   ],
   "id": "3e7932ff-8447-4590-9ef3-a3b2f2ec8aee"
  },
  {
   "cell_type": "code",
   "execution_count": null,
   "metadata": {},
   "outputs": [],
   "source": [
    "temperatures = []\n",
    "for observation in global_data:\n",
    "    temperatures = temperatures + [observation['Temperature']]"
   ],
   "id": "befe1ed3-c107-4142-aa2d-9ca39695f88c"
  },
  {
   "cell_type": "code",
   "execution_count": null,
   "metadata": {},
   "outputs": [],
   "source": [
    "plt.bar(x=range(len(temperatures)), height=temperatures)"
   ],
   "id": "f0b3de75-7db3-4a53-b1ab-d2219c9c1641"
  },
  {
   "cell_type": "markdown",
   "metadata": {},
   "source": [
    "We could also pass the list of dates to get useful x-axis markings."
   ],
   "id": "579d0740-ec8e-4ab0-8f0f-e4fd540a6d84"
  },
  {
   "cell_type": "code",
   "execution_count": null,
   "metadata": {},
   "outputs": [],
   "source": [
    "dates = []\n",
    "for observation in global_data:\n",
    "    dates = dates + [observation['Time']]"
   ],
   "id": "65db982a-2436-4b1c-a727-735a0c05ac51"
  },
  {
   "cell_type": "code",
   "execution_count": null,
   "metadata": {},
   "outputs": [],
   "source": [
    "plt.bar(x=dates, height=temperatures)"
   ],
   "id": "b834e7c8-0363-405d-ae33-6a4576f6b5c6"
  },
  {
   "cell_type": "markdown",
   "metadata": {},
   "source": [
    "This is not very satisfying though, and it’s not the correct type of\n",
    "plot. An alternative might be a `scatter()`.\n",
    "\n",
    "------------------------------------------------------------------------\n",
    "\n",
    "### Exercise 9-1: Scatter plot\n",
    "\n",
    "Plot the global climate data using a scatter plot."
   ],
   "id": "5c1bce10-d202-4fcb-b208-0d245b0f0a7f"
  },
  {
   "cell_type": "code",
   "execution_count": null,
   "metadata": {},
   "outputs": [],
   "source": [],
   "id": "5b651d7f-797f-4640-a05b-f037a107feac"
  },
  {
   "cell_type": "markdown",
   "metadata": {},
   "source": [
    "------------------------------------------------------------------------\n",
    "\n",
    "### Exercise 9-2: Add axis labels and a title\n",
    "\n",
    "Plot the global climate data using a scatter plot and add axis labels\n",
    "with `xlabel()`, `ylabel()` and `title()`."
   ],
   "id": "a1a515c7-6920-461e-b7b4-9e2380ee104f"
  },
  {
   "cell_type": "code",
   "execution_count": null,
   "metadata": {},
   "outputs": [],
   "source": [],
   "id": "0fae74da-d274-4f2a-bd34-9a3e004a6817"
  },
  {
   "cell_type": "markdown",
   "metadata": {},
   "source": [
    "------------------------------------------------------------------------\n",
    "\n",
    "This is getting closer to the result we want. But it’s still not the\n",
    "right kind of plot. We need a line plot.\n",
    "\n",
    "------------------------------------------------------------------------\n",
    "\n",
    "### Exercise 9-3: A line plot\n",
    "\n",
    "Use the documentation\n",
    "[here](https://matplotlib.org/3.5.3/api/_as_gen/matplotlib.pyplot.html),\n",
    "and the plot gallery [here](https://matplotlib.org/stable/gallery/), to\n",
    "draw a line plot of the global temperature anomaly data. Make sure you\n",
    "add axis labels and a title. Experiment with adding and changing line\n",
    "colours with the `color` parameter."
   ],
   "id": "e0395f55-f7e7-498d-b5e7-0894ca8d1bc0"
  },
  {
   "cell_type": "code",
   "execution_count": null,
   "metadata": {},
   "outputs": [],
   "source": [],
   "id": "a1baae68-7046-44e8-a245-973f149d6366"
  },
  {
   "cell_type": "markdown",
   "metadata": {},
   "source": [
    "------------------------------------------------------------------------\n",
    "\n",
    "Beautiful! However there is a lot of noise, it might be useful to\n",
    "display smoothed data<sup>2</sup>. One way of smoothing these data is by\n",
    "taking a moving average over a window of, say, 2 years (24 months). So\n",
    "let’s do that now. The first function we need is something you’ve done\n",
    "before: compute an average observation."
   ],
   "id": "ffd82bf7-8b42-4cb6-9ff9-252a4f732bcc"
  },
  {
   "cell_type": "code",
   "execution_count": null,
   "metadata": {},
   "outputs": [],
   "source": [
    "def average_observation(observations):\n",
    "    temp_sum = 0\n",
    "    for observation in observations:\n",
    "        temp_sum = temp_sum + observation['Temperature']\n",
    "    \n",
    "    return {\n",
    "        'Temperature': temp_sum / len(observations),\n",
    "        'Time': observations[len(observations) // 2]['Time']\n",
    "    }\n",
    "\n",
    "assert { 'Temperature': 1.1, 'Time': datetime(2022, 12, 1) } == average_observation([{ 'Temperature': 1.1, 'Time': datetime(2022, 12, 1) }])\n",
    "assert { 'Temperature': 0, 'Time': datetime(2000, 1, 1) } == average_observation([\n",
    "    { 'Temperature': -5, 'Time': datetime(1990, 5, 1) },\n",
    "    { 'Temperature': 5, 'Time': datetime(2000, 1, 1) }\n",
    "])"
   ],
   "id": "8dced546-3d12-4a02-8839-4da814e16827"
  },
  {
   "cell_type": "markdown",
   "metadata": {},
   "source": [
    "Since our `average_observation()` function computes the average for an\n",
    "entire list of observations we need a way to *select* all overlapping\n",
    "sub-lists and pass them along to our function. This is a *moving\n",
    "window*."
   ],
   "id": "0a4835cb-d66f-407d-bee4-e4b0ac283d3a"
  },
  {
   "cell_type": "code",
   "execution_count": null,
   "metadata": {},
   "outputs": [],
   "source": [
    "def moving_window(data, window_size: int):\n",
    "    windows = []\n",
    "    for window_begin in range(len(data) - window_size + 1):\n",
    "        windows = windows + [data[window_begin:(window_begin + window_size)]]\n",
    "    \n",
    "    return windows\n",
    "\n",
    "assert moving_window([], 5) == []\n",
    "assert moving_window(\"ABCDEFG\", 4) == [\"ABCD\", \"BCDE\", \"CDEF\", \"DEFG\"]"
   ],
   "id": "e7ae8e8a-a215-456e-bc96-57b14074fcb9"
  },
  {
   "cell_type": "markdown",
   "metadata": {},
   "source": [
    "Finally we need to apply `average_observation()` to each of the windows\n",
    "we get from `moving_window()`."
   ],
   "id": "877c0a95-f0a3-4887-97a9-5a68739c49c7"
  },
  {
   "cell_type": "code",
   "execution_count": null,
   "metadata": {},
   "outputs": [],
   "source": [
    "def smoothed(data, window_size: int):\n",
    "    smooth = []\n",
    "    windows = moving_window(data, window_size)\n",
    "    for window in windows:\n",
    "        smooth = smooth + [average_observation(window)]\n",
    "    \n",
    "    return smooth"
   ],
   "id": "c88cd6a4-b3c4-44b0-a346-dff10f7dcc41"
  },
  {
   "cell_type": "markdown",
   "metadata": {},
   "source": [
    "Now we can use this function to plot the original data and a smoothed\n",
    "line on top of it. But first, splitting the data is a little awkward and\n",
    "repetitive so lets write a little function to do that."
   ],
   "id": "235cfd41-cc75-4f97-801c-16f497c78492"
  },
  {
   "cell_type": "code",
   "execution_count": null,
   "metadata": {},
   "outputs": [],
   "source": [
    "def split_data(data):\n",
    "    temps = []\n",
    "    dates = []\n",
    "    for observation in data:\n",
    "        temps = temps + [observation['Temperature']]\n",
    "        dates = dates + [observation['Time']]\n",
    "    \n",
    "    return { 'Temperatures': temps, 'Dates': dates}"
   ],
   "id": "1a047523-5298-47a7-a508-6d57c729050b"
  },
  {
   "cell_type": "markdown",
   "metadata": {},
   "source": [
    "Now we’re finally ready to create a plot for the global temperature\n",
    "data.\n",
    "\n",
    "------------------------------------------------------------------------\n",
    "\n",
    "### Exercise 9-4: Plot global temperature anomaly\n",
    "\n",
    "Create a plot of the global temperature anomaly. Include the un-smoothed\n",
    "and smoothed data in a line plot. Label axes and include a plot title."
   ],
   "id": "62ac6ddb-e089-413a-b34b-e2b51bce015c"
  },
  {
   "cell_type": "code",
   "execution_count": null,
   "metadata": {},
   "outputs": [],
   "source": [],
   "id": "85547111-f35a-4f09-b72f-6d419404c3a9"
  },
  {
   "cell_type": "markdown",
   "metadata": {},
   "source": [
    "------------------------------------------------------------------------\n",
    "\n",
    "### Exercise 9-5: Plot per-region data\n",
    "\n",
    "Create plots for each region (Belgium, Russia, and Australia) in the\n",
    "same way as you did for the global data. Once you do this, you will see\n",
    "that it is difficult to see any trend in these plots due to the noise.\n",
    "So limit the range of the y-axis around the smoothed plot, do you see a\n",
    "pattern now?"
   ],
   "id": "bb8ff434-e9d2-4047-b643-b27de3a4aa77"
  },
  {
   "cell_type": "code",
   "execution_count": null,
   "metadata": {},
   "outputs": [],
   "source": [],
   "id": "ee30c115-047a-4d22-8885-481c98b97762"
  },
  {
   "cell_type": "code",
   "execution_count": null,
   "metadata": {},
   "outputs": [],
   "source": [],
   "id": "3f01eb7a-6749-4ccf-aff1-77ae82209a3a"
  },
  {
   "cell_type": "code",
   "execution_count": null,
   "metadata": {},
   "outputs": [],
   "source": [],
   "id": "ec887f56-d3b4-4afb-8f3f-eb23212be8db"
  },
  {
   "cell_type": "markdown",
   "metadata": {},
   "source": [
    "------------------------------------------------------------------------\n",
    "\n",
    "## Chapter Review\n",
    "\n",
    "In this chapter you learned how to use you first third-party library in\n",
    "Python: `matplotlib`. You used it to create bar and scatter plots with\n",
    "axes labeled and plot titles. Finally you created line plots of global\n",
    "and selected regional climate data.\n",
    "\n",
    "### Review Questions\n",
    "\n",
    "1.  What is the name of the function used to create line plots?\n",
    "    <details>\n",
    "    <summary>\n",
    "    Answer\n",
    "    </summary>\n",
    "    <code>plot()</code>\n",
    "    </details>\n",
    "2.  Is it possible to change the plot colour?\n",
    "    <details>\n",
    "    <summary>\n",
    "    Answer\n",
    "    </summary>\n",
    "    Yes, using the <code>color</code> argument to <code>plot()</code>\n",
    "    </details>\n",
    "3.  Can you use <code>matplotlib</code> to plot a histogram?\n",
    "    <details>\n",
    "    <summary>\n",
    "    Answer\n",
    "    </summary>\n",
    "    <a href=\"https://matplotlib.org/stable/gallery/statistics/hist.html\">Yes.</a>\n",
    "    </details>\n",
    "\n",
    "## References\n",
    "\n",
    "1.  [Matthias Stahl’s personal website](https://www.higsch.com/about/)\n",
    "2.  [Data smoothing](https://www.climate4you.com/DataSmoothing.htm)\n",
    "\n",
    "## Supporting material\n",
    "\n",
    "-   [Become a Python Data\n",
    "    Analyst](https://www.packtpub.com/eu/big-data-and-business-intelligence/become-python-data-analyst)\n",
    "-   [Add confidence interval on\n",
    "    barplot](https://python-graph-gallery.com/8-add-confidence-interval-on-barplot/)\n",
    "-   [Matplotlib\n",
    "    Cheatsheets](https://github.com/matplotlib/cheatsheets#cheatsheets)\n",
    "\n",
    "## Next session\n",
    "\n",
    "Go to our [next chapter](10_Conclusion.ipynb)."
   ],
   "id": "4d8496ae-b0f0-495b-84ec-552e074eec2a"
  }
 ],
 "nbformat": 4,
 "nbformat_minor": 5,
 "metadata": {
  "kernelspec": {
   "name": "python3",
   "display_name": "Python 3 (ipykernel)",
   "language": "python"
  },
  "language_info": {
   "name": "python",
   "codemirror_mode": {
    "name": "ipython",
    "version": "3"
   },
   "file_extension": ".py",
   "mimetype": "text/x-python",
   "nbconvert_exporter": "python",
   "pygments_lexer": "ipython3",
   "version": "3.11.0"
  }
 }
}
