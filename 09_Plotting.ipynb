{
 "cells": [
  {
   "cell_type": "markdown",
   "metadata": {},
   "source": [
    "# Visualising data\n",
    "\n",
    "> *“\\[…\\] the most important part of \\[…\\] research \\[is\\] being able to\n",
    "> successfully communicate \\[…\\] results to clinicians”*\n",
    ">\n",
    "> – Dr. Matthias Stahl<sup><a href=\"#References\">1</a></sup>\n",
    "\n",
    "This chapter will be your first taste of the enormous “ecosystem” of\n",
    "Python third-party libraries outside of the standard library that comes\n",
    "packaged with Python itself. We will start out introducing how to plot\n",
    "in general then move on to creating the plots for the climate data.\n",
    "\n",
    "`matplotlib` is a one of several Python plotting libraries but is\n",
    "possibly the most commonly used. When you began thid course you\n",
    "installed the library already so you don’t need to worry about\n",
    "installing it.\n",
    "\n",
    "`matplotlib.pyplot` is a collection of command style functions that make\n",
    "matplotlib work like MATLAB. Each pyplot function makes some change to a\n",
    "figure: e.g., creates a figure, creates a plotting area in a figure,\n",
    "plots some lines in a plotting area, decorates the plot with labels,\n",
    "etc. In `matplotlib.pyplot` various states are preserved across function\n",
    "calls, so that it keeps track of things like the current figure and\n",
    "plotting area, and the plotting functions are directed to the current\n",
    "subplot.\n",
    "\n",
    "What we first have to do is importing the library of course."
   ],
   "id": "52ee05eb-21aa-4010-968a-a07daa1ce14f"
  },
  {
   "cell_type": "code",
   "execution_count": null,
   "metadata": {},
   "outputs": [],
   "source": [
    "import matplotlib.pyplot as plt"
   ],
   "id": "e7c755d3-e471-4c2d-a577-289d7ab74abb"
  },
  {
   "cell_type": "markdown",
   "metadata": {},
   "source": [
    "## Loading the cleaned data\n",
    "\n",
    "At this point we can load the data we saved in the previous chapter and\n",
    "explore various ways of plotting it."
   ],
   "id": "b077bfd7-ade7-4cde-86e0-a09809452750"
  },
  {
   "cell_type": "code",
   "execution_count": null,
   "metadata": {},
   "outputs": [],
   "source": [
    "import csv\n",
    "from datetime import datetime\n",
    "\n",
    "def load_data(filename):\n",
    "    with open(filename) as file_resource:\n",
    "        reader = csv.DictReader(file_resource)\n",
    "    \n",
    "        data = []\n",
    "        for reading in reader:\n",
    "            data = data + [{'Time': datetime.fromisoformat(reading['Time']), 'Temperature': float(reading['Temperature'])}]\n",
    "    \n",
    "    return data\n",
    "\n",
    "global_data = load_data(\"data/global_data.csv\")\n",
    "bel_data = load_data(\"data/bel_data.csv\")\n",
    "rus_data = load_data(\"data/rus_data.csv\")\n",
    "aus_data = load_data(\"data/aus_data.csv\")"
   ],
   "id": "539381b2-bde7-412f-8edb-51a2349087b4"
  },
  {
   "cell_type": "markdown",
   "metadata": {},
   "source": [
    "A simple plotting function provided by `matplotlib` is called `bar()`.\n",
    "It has a lot of options but you can start simply by passing it a list of\n",
    "x-values and a list of height-values (e.g. some global temperature\n",
    "anomaly numbers)."
   ],
   "id": "a9aea8d6-e583-4faf-9226-9ed4b5cb7872"
  },
  {
   "cell_type": "code",
   "execution_count": null,
   "metadata": {},
   "outputs": [],
   "source": [
    "temperatures = []\n",
    "for observation in global_data:\n",
    "    temperatures = temperatures + [observation['Temperature']]"
   ],
   "id": "6cda018a-7327-45a2-8d4e-e01601fe5c46"
  },
  {
   "cell_type": "code",
   "execution_count": null,
   "metadata": {},
   "outputs": [],
   "source": [
    "plt.bar(x=range(len(temperatures)), height=temperatures)"
   ],
   "id": "e2134dbc-e24e-4424-ad92-caf99ef645c0"
  },
  {
   "cell_type": "markdown",
   "metadata": {},
   "source": [
    "We could also pass the list of dates to get useful x-axis markings."
   ],
   "id": "200b913f-bec4-4398-aa34-fb0f0bbf9b0e"
  },
  {
   "cell_type": "code",
   "execution_count": null,
   "metadata": {},
   "outputs": [],
   "source": [
    "dates = []\n",
    "for observation in global_data:\n",
    "    dates = dates + [observation['Time']]"
   ],
   "id": "d0fcdf18-7719-48da-8f1e-3d6d6b9a5818"
  },
  {
   "cell_type": "code",
   "execution_count": null,
   "metadata": {},
   "outputs": [],
   "source": [
    "plt.bar(x=dates, height=temperatures)"
   ],
   "id": "beeb7eb7-abf8-418a-b055-1aa6c98354e8"
  },
  {
   "cell_type": "markdown",
   "metadata": {},
   "source": [
    "This is not very satisfying though, and it’s not the correct type of\n",
    "plot. An alternative might be a `scatter()`.\n",
    "\n",
    "------------------------------------------------------------------------\n",
    "\n",
    "### Exercise 9-1: Scatter plot\n",
    "\n",
    "Plot the global climate data using a scatter plot."
   ],
   "id": "7f0f951f-cddc-4174-aadf-7d96f9a553a5"
  },
  {
   "cell_type": "code",
   "execution_count": null,
   "metadata": {},
   "outputs": [],
   "source": [],
   "id": "efff5b18-1df6-4a86-ae4e-822a3ff45b39"
  },
  {
   "cell_type": "markdown",
   "metadata": {},
   "source": [
    "------------------------------------------------------------------------\n",
    "\n",
    "### Exercise 9-2: Add axis labels and a title\n",
    "\n",
    "Plot the global climate data using a scatter plot and add axis labels\n",
    "with `xlabel()`, `ylabel()` and `title()`."
   ],
   "id": "e2bafa56-f368-40a9-a448-cad8b166f759"
  },
  {
   "cell_type": "code",
   "execution_count": null,
   "metadata": {},
   "outputs": [],
   "source": [],
   "id": "3976b900-bb68-4f15-8306-ddf22518ac6a"
  },
  {
   "cell_type": "markdown",
   "metadata": {},
   "source": [
    "------------------------------------------------------------------------\n",
    "\n",
    "This is getting closer to the result we want. But it’s still not the\n",
    "right kind of plot. We need a line plot.\n",
    "\n",
    "------------------------------------------------------------------------\n",
    "\n",
    "### Exercise 9-3: A line plot\n",
    "\n",
    "Use the documentation\n",
    "[here](https://matplotlib.org/3.5.3/api/_as_gen/matplotlib.pyplot.html),\n",
    "and the plot gallery [here](https://matplotlib.org/stable/gallery/), to\n",
    "draw a line plot of the global temperature anomaly data. Make sure you\n",
    "add axis labels and a title. Experiment with adding and changing line\n",
    "colours with the `color` parameter."
   ],
   "id": "d34c7b75-4fdc-4470-8761-78c644ec308e"
  },
  {
   "cell_type": "code",
   "execution_count": null,
   "metadata": {},
   "outputs": [],
   "source": [],
   "id": "0222d27f-c7f9-404b-bd4c-7cc73083bcdf"
  },
  {
   "cell_type": "markdown",
   "metadata": {},
   "source": [
    "------------------------------------------------------------------------\n",
    "\n",
    "Beautiful! However there is a lot of noise, it might be useful to\n",
    "display smoothed data<sup>2</sup>. One way of smoothing these data is by\n",
    "taking a moving average over a window of, say, 2 years (24 months). So\n",
    "let’s do that now. The first function we need is something you’ve done\n",
    "before: compute an average observation."
   ],
   "id": "52bc700f-7879-4e5d-9bae-ec5ee44740d8"
  },
  {
   "cell_type": "code",
   "execution_count": null,
   "metadata": {},
   "outputs": [],
   "source": [
    "def average_observation(observations):\n",
    "    temp_sum = 0\n",
    "    for observation in observations:\n",
    "        temp_sum = temp_sum + observation['Temperature']\n",
    "    \n",
    "    return {\n",
    "        'Temperature': temp_sum / len(observations),\n",
    "        'Time': observations[len(observations) // 2]['Time']\n",
    "    }\n",
    "\n",
    "assert { 'Temperature': 1.1, 'Time': datetime(2022, 12, 1) } == average_observation([{ 'Temperature': 1.1, 'Time': datetime(2022, 12, 1) }])\n",
    "assert { 'Temperature': 0, 'Time': datetime(2000, 1, 1) } == average_observation([\n",
    "    { 'Temperature': -5, 'Time': datetime(1990, 5, 1) },\n",
    "    { 'Temperature': 5, 'Time': datetime(2000, 1, 1) }\n",
    "])"
   ],
   "id": "d9ee0d6e-99f1-485d-aed0-874bcc92ba61"
  },
  {
   "cell_type": "markdown",
   "metadata": {},
   "source": [
    "Since our `average_observation()` function computes the average for an\n",
    "entire list of observations we need a way to *select* all overlapping\n",
    "sub-lists and pass them along to our function. This is a *moving\n",
    "window*."
   ],
   "id": "734793d3-e5e7-4bcc-9184-3207363e8903"
  },
  {
   "cell_type": "code",
   "execution_count": null,
   "metadata": {},
   "outputs": [],
   "source": [
    "def moving_window(data, window_size: int):\n",
    "    windows = []\n",
    "    for window_begin in range(len(data) - window_size + 1):\n",
    "        windows = windows + [data[window_begin:(window_begin + window_size)]]\n",
    "    \n",
    "    return windows\n",
    "\n",
    "assert moving_window([], 5) == []\n",
    "assert moving_window(\"ABCDEFG\", 4) == [\"ABCD\", \"BCDE\", \"CDEF\", \"DEFG\"]"
   ],
   "id": "e441fa82-e6b6-48d7-99eb-0474611107ce"
  },
  {
   "cell_type": "markdown",
   "metadata": {},
   "source": [
    "Finally we need to apply `average_observation()` to each of the windows\n",
    "we get from `moving_window()`."
   ],
   "id": "56175d77-1f3c-4737-a0bd-331baa77748c"
  },
  {
   "cell_type": "code",
   "execution_count": null,
   "metadata": {},
   "outputs": [],
   "source": [
    "def smoothed(data, window_size: int):\n",
    "    smooth = []\n",
    "    windows = moving_window(data, window_size)\n",
    "    for window in windows:\n",
    "        smooth = smooth + [average_observation(window)]\n",
    "    \n",
    "    return smooth"
   ],
   "id": "f59c570b-2bc5-4401-a213-00c69b5fa07c"
  },
  {
   "cell_type": "markdown",
   "metadata": {},
   "source": [
    "Now we can use this function to plot the original data and a smoothed\n",
    "line on top of it. But first, splitting the data is a little awkward and\n",
    "repetitive so lets write a little function to do that."
   ],
   "id": "59498a16-4477-423d-a124-e2ae5d297760"
  },
  {
   "cell_type": "code",
   "execution_count": null,
   "metadata": {},
   "outputs": [],
   "source": [
    "def split_data(data):\n",
    "    temps = []\n",
    "    dates = []\n",
    "    for observation in data:\n",
    "        temps = temps + [observation['Temperature']]\n",
    "        dates = dates + [observation['Time']]\n",
    "    \n",
    "    return { 'Temperatures': temps, 'Dates': dates}"
   ],
   "id": "f7ff963c-6a29-41d1-a750-cc4bfcf87f75"
  },
  {
   "cell_type": "markdown",
   "metadata": {},
   "source": [
    "Now we’re finally ready to create a plot for the global temperature\n",
    "data.\n",
    "\n",
    "------------------------------------------------------------------------\n",
    "\n",
    "### Exercise 9-4: Plot global temperature anomaly\n",
    "\n",
    "Create a plot of the global temperature anomaly. Include the un-smoothed\n",
    "and smoothed data in a line plot. Label axes and include a plot title."
   ],
   "id": "cece9a31-2476-477e-a240-240ef24cd07c"
  },
  {
   "cell_type": "code",
   "execution_count": null,
   "metadata": {},
   "outputs": [],
   "source": [],
   "id": "862ef51f-a4e2-4863-93f6-8f11aeb3fcaa"
  },
  {
   "cell_type": "markdown",
   "metadata": {},
   "source": [
    "------------------------------------------------------------------------\n",
    "\n",
    "### Exercise 9-5: Plot per-region data\n",
    "\n",
    "Create plots for each region (Belgium, Russia, and Australia) in the\n",
    "same way as you did for the global data. Once you do this, you will see\n",
    "that it is difficult to see any trend in these plots due to the noise.\n",
    "So limit the range of the y-axis around the smoothed plot, do you see a\n",
    "pattern now?"
   ],
   "id": "f479e816-b6e1-4863-acd3-d45c979e0ce9"
  },
  {
   "cell_type": "code",
   "execution_count": null,
   "metadata": {},
   "outputs": [],
   "source": [],
   "id": "74734c82-2209-48d2-b198-7fc09e95f9e3"
  },
  {
   "cell_type": "code",
   "execution_count": null,
   "metadata": {},
   "outputs": [],
   "source": [],
   "id": "6a7ff855-03f6-4745-8f99-265c99856707"
  },
  {
   "cell_type": "code",
   "execution_count": null,
   "metadata": {},
   "outputs": [],
   "source": [],
   "id": "abe67f41-719a-4d6a-aacc-3fee99a37485"
  },
  {
   "cell_type": "markdown",
   "metadata": {},
   "source": [
    "------------------------------------------------------------------------\n",
    "\n",
    "## Chapter Review\n",
    "\n",
    "In this chapter you learned how to use you first third-party library in\n",
    "Python: `matplotlib`. You used it to create bar and scatter plots with\n",
    "axes labeled and plot titles. Finally you created line plots of global\n",
    "and selected regional climate data.\n",
    "\n",
    "### Review Questions\n",
    "\n",
    "1.  What is the name of the function used to create line plots?\n",
    "    <details>\n",
    "    <summary>\n",
    "    Answer\n",
    "    </summary>\n",
    "    <code>plot()</code>\n",
    "    </details>\n",
    "2.  Is it possible to change the plot colour?\n",
    "    <details>\n",
    "    <summary>\n",
    "    Answer\n",
    "    </summary>\n",
    "    Yes, using the <code>color</code> argument to <code>plot()</code>\n",
    "    </details>\n",
    "3.  Can you use <code>matplotlib</code> to plot a histogram?\n",
    "    <details>\n",
    "    <summary>\n",
    "    Answer\n",
    "    </summary>\n",
    "    <a href=\"https://matplotlib.org/stable/gallery/statistics/hist.html\">Yes.</a>\n",
    "    </details>\n",
    "\n",
    "## References\n",
    "\n",
    "1.  [Matthias Stahl’s personal website](https://www.higsch.com/about/)\n",
    "2.  [Data smoothing](https://www.climate4you.com/DataSmoothing.htm)\n",
    "\n",
    "## Supporting material\n",
    "\n",
    "-   [Become a Python Data\n",
    "    Analyst](https://www.packtpub.com/eu/big-data-and-business-intelligence/become-python-data-analyst)\n",
    "-   [Add confidence interval on\n",
    "    barplot](https://python-graph-gallery.com/8-add-confidence-interval-on-barplot/)\n",
    "-   [Matplotlib\n",
    "    Cheatsheets](https://github.com/matplotlib/cheatsheets#cheatsheets)\n",
    "\n",
    "## Next session\n",
    "\n",
    "Go to our [next chapter](10_Conclusion.ipynb)."
   ],
   "id": "051045dd-11db-4e08-af3e-80ba7d365a94"
  }
 ],
 "nbformat": 4,
 "nbformat_minor": 5,
 "metadata": {
  "kernelspec": {
   "name": "python3",
   "display_name": "Python 3 (ipykernel)",
   "language": "python"
  },
  "language_info": {
   "name": "python",
   "codemirror_mode": {
    "name": "ipython",
    "version": "3"
   },
   "file_extension": ".py",
   "mimetype": "text/x-python",
   "nbconvert_exporter": "python",
   "pygments_lexer": "ipython3",
   "version": "3.11.0"
  }
 }
}
