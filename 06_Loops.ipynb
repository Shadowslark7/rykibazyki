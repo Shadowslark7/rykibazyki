{
 "cells": [
  {
   "cell_type": "markdown",
   "metadata": {},
   "source": [
    "# Repeating tasks\n",
    "\n",
    "> *“Flat is better than nested.”*<sup><a href=\"#References\">1</a></sup>\n",
    "\n",
    "A very useful feature of computers is that they can do the same thing\n",
    "over and over again, perfectly, never getting bored. This ability is\n",
    "expressed by executing a few instructions, then jumping back to the\n",
    "beginning of the series of instructions and executing them again. This\n",
    "pattern is called a *loop*. Essentially, a loop is a block of code that\n",
    "is repeatedly executed.\n",
    "\n",
    "## The `for`-each loop\n",
    "\n",
    "Now that we understand lists of values (from the previous chapter), you\n",
    "may wish to perform some computation on each value in a list. This can\n",
    "be achieved by *looping* over each value one-by-one so that your\n",
    "computation is executed *for each* value in the list.\n",
    "\n",
    "Here is an example of how to write and use a `for`-each loop to print\n",
    "the numbers in a list."
   ],
   "id": "96578e66-7bed-4e35-b519-ee143e066f1a"
  },
  {
   "cell_type": "code",
   "execution_count": null,
   "metadata": {},
   "outputs": [],
   "source": [
    "numbers = [1, 2, 3, 4]\n",
    "\n",
    "for number in numbers: # Read as \"for each value (called number) in numbers...\"\n",
    "    print(number)\n",
    "print(\"Loop has ended\")"
   ],
   "id": "86436e72-bd0a-4315-aa41-80b8423803a7"
  },
  {
   "cell_type": "markdown",
   "metadata": {},
   "source": [
    "This can be understood by *unrolling* the loop. The *unrolled* version\n",
    "of the above loop would look like this:"
   ],
   "id": "adab9049-f278-4bfe-b112-ced9eba89727"
  },
  {
   "cell_type": "code",
   "execution_count": null,
   "metadata": {},
   "outputs": [],
   "source": [
    "numbers = [1, 2, 3, 4]\n",
    "\n",
    "number = numbers[0] # Set number to the first value in numbers\n",
    "print(number)\n",
    "\n",
    "number = numbers[1] # Set number to the second value in numbers\n",
    "print(number)\n",
    "\n",
    "number = numbers[2] # Set number to the third value in numbers\n",
    "print(number)\n",
    "\n",
    "number = numbers[3] # Set number to the fourth value in numbers\n",
    "print(number)\n",
    "\n",
    "print(\"Loop has ended\")"
   ],
   "id": "719695d2-7506-488e-a0fd-4f84711831f7"
  },
  {
   "cell_type": "markdown",
   "metadata": {},
   "source": [
    "Notice that `number` is given the value of each successive value in the\n",
    "collection: first it gets `1` and the loop block is executed, then it\n",
    "gets `2` and so on.\n",
    "\n",
    "This also illustrates the utility of loops! Not only is a loop more\n",
    "concise, but it’s easier to read and understand than the unrolled\n",
    "version. Imagine having to type out all the indexes in a list that\n",
    "contains 100 elements! Then imagine if you had to change the size of the\n",
    "list… that’s a LOT OF WORK!!!\n",
    "\n",
    "Lets use our new knowledge of loops to try to play the Fizz Buzz game\n",
    "again. This time, checking each number as we come accross it in a loop.\n",
    "\n",
    "------------------------------------------------------------------------\n",
    "\n",
    "### Exercise 6-1: Can we play Fizz Buzz yet?\n",
    "\n",
    "Write a function to play the fizzbuzz game up to `15`. You function\n",
    "should accept no arguments and return a list starting at `1` that tracks\n",
    "the progress of a game of Fizz Buzz.\n",
    "\n",
    "That is, your function should use a loop to produce this list:\n",
    "`[1, 2, 'Fizz', 4, 'Buzz', 'Fizz', 7, 8, 'Fizz', 'Buzz', 11, 'Fizz', 13, 14, 'Fizz Buzz']`"
   ],
   "id": "746a4657-a372-4e30-9028-04cbe41152e2"
  },
  {
   "cell_type": "code",
   "execution_count": null,
   "metadata": {},
   "outputs": [],
   "source": [
    "def fizzbuzz5():\n",
    "    game = []\n",
    "    for number in _:\n",
    "        _\n",
    "    \n",
    "    return game\n",
    "\n",
    "assert fizzbuzz5() == [1, 2, 'Fizz', 4, 'Buzz', 'Fizz', 7, 8, 'Fizz', 'Buzz', 11, 'Fizz', 13, 14, 'Fizz Buzz'], \"Output is not correct :(\"\n",
    "fizzbuzz5()"
   ],
   "id": "404decdd-2aee-4e49-a56e-2d7a22185eb5"
  },
  {
   "cell_type": "markdown",
   "metadata": {},
   "source": [
    "[Advanced question](Advanced%20Exercises.ipynb#6-1)\n",
    "\n",
    "------------------------------------------------------------------------\n",
    "\n",
    "**What!?** I just told you that loops allow you to do things repeatedly\n",
    "without having to type out every single case… and yet that’s exactly\n",
    "what you just did! Didn’t you?\n",
    "\n",
    "Well yes and no. You didn’t write out 15 `if`/`elif`/`else` blocks which\n",
    "is a win. But you did have to list the entire series of numbers that\n",
    "were used to play the game. What if you wanted to count to `100` or\n",
    "`1000`, would you have to type out `1000` numbers accurately? Thankfully\n",
    "no, this is a perfect opportunity to introduce another helpful little\n",
    "function from the standard library.\n",
    "\n",
    "## Generating a `range()` of numbers\n",
    "\n",
    "The `range()` function allows us to generate a range of numbers. By\n",
    "default the starting value is `0` and the numbers will go *up to, but\n",
    "not including* the argument we provide. But the output of `range()` is\n",
    "not very useful by itself."
   ],
   "id": "ccde409e-8200-46f4-8ad1-a72754c3f842"
  },
  {
   "cell_type": "code",
   "execution_count": null,
   "metadata": {},
   "outputs": [],
   "source": [
    "range(10)"
   ],
   "id": "ec7bb6d6-2563-4370-abb7-462bfed90e33"
  },
  {
   "cell_type": "markdown",
   "metadata": {},
   "source": [
    "You can convert the range to a list to see what values are in the range."
   ],
   "id": "71798dde-d191-48e0-a487-0ade2e4af74e"
  },
  {
   "cell_type": "code",
   "execution_count": null,
   "metadata": {},
   "outputs": [],
   "source": [
    "list(range(10))"
   ],
   "id": "421c705d-4686-40f7-bdfb-671fdd1d9daf"
  },
  {
   "cell_type": "markdown",
   "metadata": {},
   "source": [
    "Or loop over each value in the range and print it."
   ],
   "id": "c1e6b850-117c-463d-85f2-8cb3199460f8"
  },
  {
   "cell_type": "code",
   "execution_count": null,
   "metadata": {},
   "outputs": [],
   "source": [
    "for val in range(10):\n",
    "    print(val)"
   ],
   "id": "4e94b8f8-a3ec-45a0-960d-c14c31844f6d"
  },
  {
   "cell_type": "markdown",
   "metadata": {},
   "source": [
    "You can also provide your own starting value."
   ],
   "id": "6d6ed216-d368-4ffa-8a70-b561933498be"
  },
  {
   "cell_type": "code",
   "execution_count": null,
   "metadata": {},
   "outputs": [],
   "source": [
    "# Start from 5, up to 10\n",
    "for val in range(5, 10):\n",
    "    print(val)"
   ],
   "id": "d80fa671-8d30-426e-b66f-123103f8391d"
  },
  {
   "cell_type": "markdown",
   "metadata": {},
   "source": [
    "Finally, like with slicing, you can provide a `step`."
   ],
   "id": "e20ff2ed-1f2b-4738-bf15-a7288ed0a4a4"
  },
  {
   "cell_type": "code",
   "execution_count": null,
   "metadata": {},
   "outputs": [],
   "source": [
    "# Start from 9, down to 0, in steps of -1\n",
    "for val in range(9, 0, -1):\n",
    "    print(val)"
   ],
   "id": "ccf86e40-301c-44f9-805b-a0548ad9eb30"
  },
  {
   "cell_type": "markdown",
   "metadata": {},
   "source": [
    "------------------------------------------------------------------------\n",
    "\n",
    "### Exercise 6-2: Let’s play Fizz Buzz\n",
    "\n",
    "Finally, we have all of the tools we need to write a concise program to\n",
    "play Fizz Buzz. Write a function called `fizzbuzz6` that takes an\n",
    "integer argument which is the number to count up to and returns a list\n",
    "starting at 1 tracking the progress of playing the Fizz Buzz game."
   ],
   "id": "d099b226-3253-453d-9770-4ba8f412c83e"
  },
  {
   "cell_type": "code",
   "execution_count": null,
   "metadata": {},
   "outputs": [],
   "source": [
    "def fizzbuzz6(end: int):\n",
    "    \"Play Fizz Buzz\"\n",
    "    ...\n",
    "\n",
    "assert fizzbuzz6(0) == []\n",
    "assert fizzbuzz6(2) == [1, 2]\n",
    "assert fizzbuzz6(5) == [1, 2, 'Fizz', 4, 'Buzz']\n",
    "assert fizzbuzz6(15) == [1, 2, 'Fizz', 4, 'Buzz', 'Fizz', 7, 8, 'Fizz', 'Buzz', 11, 'Fizz', 13, 14, 'Fizz Buzz']\n",
    "\n",
    "fizzbuzz6(30)"
   ],
   "id": "59a44870-4c59-461c-a998-19cc3af46674"
  },
  {
   "cell_type": "markdown",
   "metadata": {},
   "source": [
    "Although this is the last time we will look at the Fizz Buzz game, it is\n",
    "useful to reflect on your final implementation. What is good about it?\n",
    "What could be improved? How easy is it to change if requirements change\n",
    "(say if we add the third condition on multiples of `7`)?\n",
    "\n",
    "------------------------------------------------------------------------\n",
    "\n",
    "### Exercise 6-3: Factorial\n",
    "\n",
    "Write a function that computes the factorial of its argument.\n",
    "\n",
    "$$n! = n \\cdot (n - 1) \\cdot (n - 2) \\cdot \\ldots \\cdot 3 \\cdot 2 \\cdot 1$$"
   ],
   "id": "5a2c466d-b50f-4350-abeb-cc54e734637e"
  },
  {
   "cell_type": "code",
   "execution_count": null,
   "metadata": {},
   "outputs": [],
   "source": [
    "def myfactorial(number: int) -> int:\n",
    "    # 5! = 5 * 4 * 3 * 2 * 1\n",
    "    _\n",
    "\n",
    "assert myfactorial(0) == 1, \"Expected 1, got: \" + str(myfactorial(0))\n",
    "assert myfactorial(1) == 1, \"Expected 1, got: \" + str(myfactorial(1))\n",
    "assert myfactorial(2) == 2, \"Expected 2, got: \" + str(myfactorial(2))\n",
    "assert myfactorial(5) == 120, \"Expected 120, got: \" + str(myfactorial(5))"
   ],
   "id": "8792fa94-e8d5-4412-97a3-0bb59e373507"
  },
  {
   "cell_type": "markdown",
   "metadata": {},
   "source": [
    "------------------------------------------------------------------------\n",
    "\n",
    "### Exercise 6-4: Summing numbers\n",
    "\n",
    "Below is the definition of a function to sum numbers from in the\n",
    "argument (a list). You have 2 tasks:\n",
    "\n",
    "1.  Identify and fix the bug(s) using techniques you have explored so\n",
    "    far.\n",
    "2.  Find the Python standard library function that does the same thing\n",
    "    (Hint: you can look through [this\n",
    "    list](https://docs.python.org/3/library/functions.html))."
   ],
   "id": "cfa989f3-c3c4-40eb-b680-0e595de7084d"
  },
  {
   "cell_type": "code",
   "execution_count": null,
   "metadata": {},
   "outputs": [],
   "source": [
    "def mysum(data: list[int]) -> int:\n",
    "    \"Sum all of the numbers in the input list (called data)\"\n",
    "    total = 0\n",
    "    for number in end:\n",
    "        total = number\n",
    "    \n",
    "    return total"
   ],
   "id": "13c87237-26a1-4264-b1f5-13301f3b1d16"
  },
  {
   "cell_type": "markdown",
   "metadata": {},
   "source": [
    "------------------------------------------------------------------------\n",
    "\n",
    "### Exercise 6-5: Join strings\n",
    "\n",
    "Once again, below is the deefinition of a function that takes a list of\n",
    "strings and joins them into a single string with comma seperators.\n",
    "\n",
    "Here are 2 examples of the expected output:\n",
    "\n",
    "``` python\n",
    ">>> myjoin([\"hello\", \"world\"])\n",
    "\"hello,world\"\n",
    "\n",
    ">>> myjoin([\"sample1\", \"0.5\"])\n",
    "\"sample1,0.5\"\n",
    "```\n",
    "\n",
    "Your task is to identify and fix the bug(s) using techniques you have\n",
    "explored so far. The Python function to do this looks like,\n",
    "`','.join(strings)`."
   ],
   "id": "cd0a45f8-d6d6-42ac-a0c4-8d68183b13e2"
  },
  {
   "cell_type": "code",
   "execution_count": null,
   "metadata": {},
   "outputs": [],
   "source": [
    "def myjoin(strings: list[str]) -> str:\n",
    "    joined = \"\"\n",
    "    for string in strings:\n",
    "        joined = joined + string + \",\""
   ],
   "id": "32bb7648-1762-4756-98b0-945f202c3f6f"
  },
  {
   "cell_type": "markdown",
   "metadata": {},
   "source": [
    "[Advanced question](Advanced%20Exercises.ipynb#6-5)\n",
    "\n",
    "------------------------------------------------------------------------\n",
    "\n",
    "## Chapter Review\n",
    "\n",
    "Congratulations! By now you understand enough Python to tackle complex\n",
    "and interesting problems. Hopefully you noticed the exercises are\n",
    "becoming more interesting. Keep practicing and your confidence and\n",
    "ability to solve problems can only improve.\n",
    "\n",
    "In this chapter you’ve learned how to ask the computer to repeat a block\n",
    "of code for you using a `for`-each loop. You also learned about 3 useful\n",
    "built-in functions: `range()`, `sum()`, and `join()`.\n",
    "\n",
    "## Review Questions\n",
    "\n",
    "1.  Why is “looping” useful?\n",
    "    <details>\n",
    "    <summary>\n",
    "    Answer\n",
    "    </summary>\n",
    "    Manually repeating computations is tedious and error prone. Try not\n",
    "    to repeat yourself, computers are much better at it.\n",
    "    </details>\n",
    "2.  What is a `for`-each loop used for?\n",
    "    <details>\n",
    "    <summary>\n",
    "    Answer\n",
    "    </summary>\n",
    "    Repeating operations on each element of a list.\n",
    "    </details>\n",
    "3.  What is `range()` used for?\n",
    "    <details>\n",
    "    <summary>\n",
    "    Answer\n",
    "    </summary>\n",
    "    Save us typing out a range of numbers. A <em>range</em> has a given\n",
    "    start point, to a given end point, and uses a given step size.\n",
    "    </details>\n",
    "4.  What operation **cannot** be performed in the block of code being\n",
    "    looped over?\n",
    "    <details>\n",
    "    <summary>\n",
    "    Answer\n",
    "    </summary>\n",
    "    None! All Python operations can be performed in a loop. But <b>be\n",
    "    careful</b>: NEVER mofify the list you’re looping over.\n",
    "    </details>\n",
    "\n",
    "## References\n",
    "\n",
    "1.  Zen of Python: https://www.python.org/dev/peps/pep-0020/\n",
    "\n",
    "## Supporting material\n",
    "\n",
    "-   [Automate the Boring Stuff with Python, Chapter\n",
    "    2](https://realpython.com/python-for-loop/)\n",
    "-   [Automate the Boring Stuff with Python video course, Lesson\n",
    "    14](https://youtu.be/umTnflPbYww)\n",
    "-   [Real Python: For loop](https://realpython.com/python-for-loop/)\n",
    "-   [Programming Python, Chapter\n",
    "    8](https://www.linuxtopia.org/online_books/programming_books/python_programming/python_ch08.html)\n",
    "\n",
    "Click [here](07_Dictionaries.ipynb) to go to the next chapter."
   ],
   "id": "f09fed7b-23e1-41f7-8688-91a0f401292d"
  }
 ],
 "nbformat": 4,
 "nbformat_minor": 5,
 "metadata": {
  "kernelspec": {
   "name": "python3",
   "display_name": "Python 3 (ipykernel)",
   "language": "python"
  },
  "language_info": {
   "name": "python",
   "codemirror_mode": {
    "name": "ipython",
    "version": "3"
   },
   "file_extension": ".py",
   "mimetype": "text/x-python",
   "nbconvert_exporter": "python",
   "pygments_lexer": "ipython3",
   "version": "3.11.0"
  }
 }
}
