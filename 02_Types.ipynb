{
 "cells": [
  {
   "cell_type": "markdown",
   "metadata": {},
   "source": [
    "# Data Types\n",
    "\n",
    "Using [Hedy](https://hedy.org), you were able to `print` text to the\n",
    "program output area. You even discovered a special syntax for writing\n",
    "literal text in your programs: you surrounded the text with quotation\n",
    "marks (`\"`). Programmers refer to text between quotation marks as\n",
    "*strings*. In fact, Python shortens this name to simply `str`. `str` is\n",
    "a *data type*, all strings are the type, `str`. As you will discover\n",
    "throughout this course, Python has a rich set of *data types* that are\n",
    "useful when writing programs. But first, let us try to understand why\n",
    "thinking about data types is useful.\n",
    "\n",
    "------------------------------------------------------------------------\n",
    "\n",
    "### Exercise 2-1: Why?\n",
    "\n",
    "What is the result of an operation like this?"
   ],
   "id": "bdf70a0b-12b9-4f02-be26-243647c2b2e2"
  },
  {
   "cell_type": "code",
   "execution_count": null,
   "metadata": {},
   "outputs": [],
   "source": [
    "\"hello\" + 5"
   ],
   "id": "c796be25-27e2-45a8-b981-fa7d51095ca4"
  },
  {
   "cell_type": "markdown",
   "metadata": {},
   "source": [
    "------------------------------------------------------------------------\n",
    "\n",
    "Indeed it is nonsense. `\"hello\"` is a string (in Python we say it is a\n",
    "`str`) and `5` is an integer number (in Python we say `int`). They are\n",
    "different *data types*. You can think of data types as the *shape* of\n",
    "some data. The `+` operator expects its operands to be compatible shapes\n",
    "(data types).\n",
    "\n",
    "------------------------------------------------------------------------\n",
    "\n",
    "### Exercise 2-2: Type errors\n",
    "\n",
    "Run the following 2 code blocks. Read the error messages. Notice the\n",
    "difference in error messages. Why are the error messages different?"
   ],
   "id": "cc905fd8-4a76-4725-8ffe-6f06b9dbe386"
  },
  {
   "cell_type": "code",
   "execution_count": null,
   "metadata": {},
   "outputs": [],
   "source": [
    "\"hello\" + 5"
   ],
   "id": "71121a36-df4d-4058-aa0b-462b1153d197"
  },
  {
   "cell_type": "markdown",
   "metadata": {},
   "source": [
    "or,"
   ],
   "id": "7d98a090-ae80-48b1-ad4c-e5dba680c013"
  },
  {
   "cell_type": "code",
   "execution_count": null,
   "metadata": {},
   "outputs": [],
   "source": [
    "5 + \"hello\""
   ],
   "id": "2423a339-3a81-4cfb-9657-24d9281ef0d8"
  },
  {
   "cell_type": "markdown",
   "metadata": {},
   "source": [
    "------------------------------------------------------------------------\n",
    "\n",
    "Python allows us programmers the *option* to explicitly *annotate* the\n",
    "data types of values in our programs. This can be very helpful as we\n",
    "will see later on. For now, let’s just look at the syntax for data type\n",
    "annotations in Python."
   ],
   "id": "ddbd9aa4-f887-4e33-b57b-122ae050a92d"
  },
  {
   "cell_type": "code",
   "execution_count": null,
   "metadata": {},
   "outputs": [],
   "source": [
    "name: str = \"James\""
   ],
   "id": "0c71ccee-dff0-4df7-be6e-c34e2bdcfd3d"
  },
  {
   "cell_type": "markdown",
   "metadata": {},
   "source": [
    "In Python, we use the `=` operator for variable assignment. This is the\n",
    "same as in Hedy:\n",
    "\n",
    "``` python\n",
    "name is \"James\"\n",
    "```\n",
    "\n",
    "But now we use the `:` operator to remind ourselves, or other people\n",
    "reading our code, that the variable `name` contains a `str`.\n",
    "\n",
    "## What is the type of a value?\n",
    "\n",
    "Python provides a function that we can use to discover the data type of\n",
    "a value: `type()`. Let’s use it on some values:"
   ],
   "id": "a9032439-f2d9-40fe-ac75-19dc070a7edc"
  },
  {
   "cell_type": "code",
   "execution_count": null,
   "metadata": {},
   "outputs": [],
   "source": [
    "type(\"James\")"
   ],
   "id": "66bf50e7-43ae-4fd2-962a-dcdbbb9751c6"
  },
  {
   "cell_type": "code",
   "execution_count": null,
   "metadata": {},
   "outputs": [],
   "source": [
    "type(5)"
   ],
   "id": "56d0fe2b-8f0e-465d-949b-ab162d14613e"
  },
  {
   "cell_type": "code",
   "execution_count": null,
   "metadata": {},
   "outputs": [],
   "source": [
    "type(len(\"James\"))"
   ],
   "id": "6578a66c-0cee-4b92-9f56-297f369858f3"
  },
  {
   "cell_type": "code",
   "execution_count": null,
   "metadata": {},
   "outputs": [],
   "source": [
    "x = input(\"What is your name?\")\n",
    "print(\"Your name is: \", x)\n",
    "type(x)"
   ],
   "id": "322a93fa-00e0-49fb-8987-696ca7375a5e"
  },
  {
   "cell_type": "markdown",
   "metadata": {},
   "source": [
    "------------------------------------------------------------------------\n",
    "\n",
    "### Exercise 2-3: What’s that type?\n",
    "\n",
    "What is the type of this expression?\n",
    "\n",
    "``` python\n",
    "\"Hello \" + \"world\"\n",
    "```\n",
    "\n",
    "try to guess first, then use the `type()` function to check your guess."
   ],
   "id": "02298051-9714-4776-821e-44103c494052"
  },
  {
   "cell_type": "code",
   "execution_count": null,
   "metadata": {},
   "outputs": [],
   "source": [],
   "id": "927f2592-8ad8-4c4f-a0e2-23c88fe6719d"
  },
  {
   "cell_type": "markdown",
   "metadata": {},
   "source": [
    "------------------------------------------------------------------------\n",
    "\n",
    "## Some other types\n",
    "\n",
    "Before we finish this chapter, there are 2 further data types that will\n",
    "be important during this course: `float` and `bool`.\n",
    "\n",
    "`float`, short for *floating point number*, is a decimal numeric data\n",
    "type that represents continuous numbers to within some finite accuracy.\n",
    "\n",
    "`bool`, short for *boolean* values represent the logical states of\n",
    "`True` or `False`.\n",
    "\n",
    "Each of these data types come with their own conversion functions.\n",
    "Experiment with them below.\n",
    "\n",
    "------------------------------------------------------------------------\n",
    "\n",
    "### Exercise 2-4: converting between types\n",
    "\n",
    "What `int` values are converted to `True`, which are converted to\n",
    "`False`?"
   ],
   "id": "c76fdf8a-f4a6-41f5-b2c9-f858d08b5b4c"
  },
  {
   "cell_type": "code",
   "execution_count": null,
   "metadata": {},
   "outputs": [],
   "source": [
    "bool(0)"
   ],
   "id": "e1326849-f775-4054-861e-29852db8715a"
  },
  {
   "cell_type": "markdown",
   "metadata": {},
   "source": [
    "------------------------------------------------------------------------\n",
    "\n",
    "## Chapter Review\n",
    "\n",
    "In this chapter you learned that all values in Python have a *data\n",
    "type*. You learned that operations on data expect compatible data types,\n",
    "and you learned how to annotate your programs with their types. Finally\n",
    "you learned about 3 new data types: `int`, `float`, and `bool`.\n",
    "\n",
    "## Review Questions\n",
    "\n",
    "1.  What is a `str`?\n",
    "    <details>\n",
    "    <summary>\n",
    "    Answer\n",
    "    </summary>\n",
    "    A <code>str</code> is the <em>data type</em> of all text.\n",
    "    </details>\n",
    "2.  Is it possible to use the `+` operator when the operands are both\n",
    "    `int` data types?\n",
    "    <details>\n",
    "    <summary>\n",
    "    Answer\n",
    "    </summary>\n",
    "    Yes. This would be addition of numbers.\n",
    "    </details>\n",
    "3.  Does Python check my type annotations?\n",
    "    <details>\n",
    "    <summary>\n",
    "    Answer\n",
    "    </summary>\n",
    "    No. Like comments, they are for people reading your code. There are\n",
    "    separate programs that will check your types but these are out of\n",
    "    scope for this course.\n",
    "    </details>\n",
    "\n",
    "Click [here](03_Functions.ipynb) to go to the next chapter."
   ],
   "id": "db8a365c-7da6-49e8-8ce4-b042915210fe"
  }
 ],
 "nbformat": 4,
 "nbformat_minor": 5,
 "metadata": {
  "kernelspec": {
   "name": "python3",
   "display_name": "Python 3 (ipykernel)",
   "language": "python"
  },
  "language_info": {
   "name": "python",
   "codemirror_mode": {
    "name": "ipython",
    "version": "3"
   },
   "file_extension": ".py",
   "mimetype": "text/x-python",
   "nbconvert_exporter": "python",
   "pygments_lexer": "ipython3",
   "version": "3.11.0"
  }
 }
}
