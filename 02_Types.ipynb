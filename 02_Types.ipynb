{
 "cells": [
  {
   "cell_type": "markdown",
   "metadata": {},
   "source": [
    "# Data Types\n",
    "\n",
    "Using [Hedy](https://hedy.org), you were able to `print` text to the\n",
    "program output area. You even discovered a special syntax for writing\n",
    "literal text in your programs: you surrounded the text with quotation\n",
    "marks (`\"`). Programmers refer to text between quotation marks as\n",
    "*strings*. In fact, Python shortens this name to simply `str`. `str` is\n",
    "a *data type*, all strings are the type, `str`. As you will discover\n",
    "throughout this course, Python has a rich set of *data types* that are\n",
    "useful when writing programs. But first, let us try to understand why\n",
    "thinking about data types is useful.\n",
    "\n",
    "------------------------------------------------------------------------\n",
    "\n",
    "### Exercise 2-1: Why?\n",
    "\n",
    "What is the result of an operation like this?"
   ],
   "id": "ab187c3f-25e0-4895-be0a-2f1602c93e05"
  },
  {
   "cell_type": "code",
   "execution_count": null,
   "metadata": {},
   "outputs": [],
   "source": [
    "\"hello\" + 5"
   ],
   "id": "d2a0aba9-c574-430c-be55-5970bc81dc51"
  },
  {
   "cell_type": "markdown",
   "metadata": {},
   "source": [
    "------------------------------------------------------------------------\n",
    "\n",
    "Indeed it is nonsense. `\"hello\"` is a string (in Python we say it is a\n",
    "`str`) and `5` is an integer number (in Python we say `int`). They are\n",
    "different *data types*. You can think of data types as the *shape* of\n",
    "some data. The `+` operator expects its operands to be compatible shapes\n",
    "(data types).\n",
    "\n",
    "------------------------------------------------------------------------\n",
    "\n",
    "### Exercise 2-2: Type errors\n",
    "\n",
    "Run the following 2 code blocks. Read the error messages. Notice the\n",
    "difference in error messages. Why are the error messages different?"
   ],
   "id": "57922050-c244-4cb3-ae8e-8830ab417fb6"
  },
  {
   "cell_type": "code",
   "execution_count": null,
   "metadata": {},
   "outputs": [],
   "source": [
    "\"hello\" + 5"
   ],
   "id": "b38a5655-57c4-4cba-abdf-129b1d395204"
  },
  {
   "cell_type": "markdown",
   "metadata": {},
   "source": [
    "or,"
   ],
   "id": "ab902856-4be8-48a3-ac25-010b09ba086e"
  },
  {
   "cell_type": "code",
   "execution_count": null,
   "metadata": {},
   "outputs": [],
   "source": [
    "5 + \"hello\""
   ],
   "id": "c83bf01d-d7c6-4c21-868e-d8c7189c986d"
  },
  {
   "cell_type": "markdown",
   "metadata": {},
   "source": [
    "------------------------------------------------------------------------\n",
    "\n",
    "Python allows us programmers the *option* to explicitly *annotate* the\n",
    "data types of values in our programs. This can be very helpful as we\n",
    "will see later on. For now, let’s just look at the syntax for data type\n",
    "annotations in Python."
   ],
   "id": "95e90a7e-1f1a-43d0-b03d-3ee2aae4ce6a"
  },
  {
   "cell_type": "code",
   "execution_count": null,
   "metadata": {},
   "outputs": [],
   "source": [
    "name: str = \"James\""
   ],
   "id": "fc56d8ed-7982-4163-b67b-ebf10932da64"
  },
  {
   "cell_type": "markdown",
   "metadata": {},
   "source": [
    "In Python, we use the `=` operator for variable assignment. This is the\n",
    "same as in Hedy:\n",
    "\n",
    "``` python\n",
    "name is \"James\"\n",
    "```\n",
    "\n",
    "But now we use the `:` operator to remind ourselves, or other people\n",
    "reading our code, that the variable `name` contains a `str`.\n",
    "\n",
    "## What is the type of a value?\n",
    "\n",
    "Python provides a function that we can use to discover the data type of\n",
    "a value: `type()`. Let’s use it on some values:"
   ],
   "id": "3b9d1be9-7f0c-49de-8e31-2b1b5ccb053f"
  },
  {
   "cell_type": "code",
   "execution_count": null,
   "metadata": {},
   "outputs": [],
   "source": [
    "type(\"James\")"
   ],
   "id": "9eef2f7a-0621-4404-8f9d-beb98f382408"
  },
  {
   "cell_type": "code",
   "execution_count": null,
   "metadata": {},
   "outputs": [],
   "source": [
    "type(5)"
   ],
   "id": "3e0aaac3-948d-4766-ab9f-d84ae0caadd0"
  },
  {
   "cell_type": "code",
   "execution_count": null,
   "metadata": {},
   "outputs": [],
   "source": [
    "type(len(\"James\"))"
   ],
   "id": "af007f32-6419-45f8-a68b-6d0ab1ad6d41"
  },
  {
   "cell_type": "code",
   "execution_count": null,
   "metadata": {},
   "outputs": [],
   "source": [
    "x = input(\"What is your name?\")\n",
    "print(\"Your name is: \", x)\n",
    "type(x)"
   ],
   "id": "fbd8d325-2400-4ec2-a464-5fecc792a0de"
  },
  {
   "cell_type": "markdown",
   "metadata": {},
   "source": [
    "------------------------------------------------------------------------\n",
    "\n",
    "### Exercise 2-3: What’s that type?\n",
    "\n",
    "What is the type of this expression?\n",
    "\n",
    "``` python\n",
    "\"Hello \" + \"world\"\n",
    "```\n",
    "\n",
    "try to guess first, then use the `type()` function to check your guess."
   ],
   "id": "f58fedda-5bc3-451e-91a4-e8ec95d67bee"
  },
  {
   "cell_type": "code",
   "execution_count": null,
   "metadata": {},
   "outputs": [],
   "source": [],
   "id": "1d888220-6e59-4735-b99d-a08d27880024"
  },
  {
   "cell_type": "markdown",
   "metadata": {},
   "source": [
    "------------------------------------------------------------------------\n",
    "\n",
    "## Some other types\n",
    "\n",
    "Before we finish this chapter, there are 2 further data types that will\n",
    "be important during this course: `float` and `bool`.\n",
    "\n",
    "`float`, short for *floating point number*, is a decimal numeric data\n",
    "type that represents continuous numbers to within some finite accuracy.\n",
    "\n",
    "`bool`, short for *boolean* values represent the logical states of\n",
    "`True` or `False`.\n",
    "\n",
    "Each of these data types come with their own conversion functions.\n",
    "Experiment with them below.\n",
    "\n",
    "------------------------------------------------------------------------\n",
    "\n",
    "### Exercise 2-4: converting between types\n",
    "\n",
    "What `int` values are converted to `True`, which are converted to\n",
    "`False`?"
   ],
   "id": "b71a6dbd-0f77-4de9-935c-4a0a846618e1"
  },
  {
   "cell_type": "code",
   "execution_count": null,
   "metadata": {},
   "outputs": [],
   "source": [
    "bool(0)"
   ],
   "id": "7cb5ca61-71af-4ffd-af65-13f762419e05"
  },
  {
   "cell_type": "markdown",
   "metadata": {},
   "source": [
    "------------------------------------------------------------------------\n",
    "\n",
    "## Chapter Review\n",
    "\n",
    "In this chapter you learned that all values in Python have a *data\n",
    "type*. You learned that operations on data expect compatible data types,\n",
    "and you learned how to annotate your programs with their types. Finally\n",
    "you learned about 3 new data types: `int`, `float`, and `bool`.\n",
    "\n",
    "## Review Questions\n",
    "\n",
    "1.  What is a `str`?\n",
    "    <details>\n",
    "    <summary>\n",
    "    Answer\n",
    "    </summary>\n",
    "    A <code>str</code> is the <em>data type</em> of all text.\n",
    "    </details>\n",
    "2.  Is it possible to use the `+` operator when the operands are both\n",
    "    `int` data types?\n",
    "    <details>\n",
    "    <summary>\n",
    "    Answer\n",
    "    </summary>\n",
    "    Yes. This would be addition of numbers.\n",
    "    </details>\n",
    "3.  Does Python check my type annotations?\n",
    "    <details>\n",
    "    <summary>\n",
    "    Answer\n",
    "    </summary>\n",
    "    No. Like comments, they are for people reading your code. There are\n",
    "    separate programs that will check your types but these are out of\n",
    "    scope for this course.\n",
    "    </details>\n",
    "\n",
    "Click [here](03_Functions.ipynb) to go to the next chapter."
   ],
   "id": "6966dbfd-c37c-4f24-9fde-11c91a5ef77c"
  }
 ],
 "nbformat": 4,
 "nbformat_minor": 5,
 "metadata": {
  "kernelspec": {
   "name": "python3",
   "display_name": "Python 3 (ipykernel)",
   "language": "python"
  },
  "language_info": {
   "name": "python",
   "codemirror_mode": {
    "name": "ipython",
    "version": "3"
   },
   "file_extension": ".py",
   "mimetype": "text/x-python",
   "nbconvert_exporter": "python",
   "pygments_lexer": "ipython3",
   "version": "3.11.0"
  }
 }
}
