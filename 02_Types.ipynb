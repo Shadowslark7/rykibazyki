{
 "cells": [
  {
   "cell_type": "markdown",
   "metadata": {},
   "source": [
    "# Data Types\n",
    "\n",
    "Using [Hedy](https://hedy.org), you were able to `print` text to the\n",
    "program output area. You even discovered a special syntax for writing\n",
    "literal text in your programs: you surrounded the text with quotation\n",
    "marks (`\"`). Programmers refer to text between quotation marks as\n",
    "*strings*. In fact, Python shortens this name to simply `str`. `str` is\n",
    "a *data type*, all strings are the type, `str`. As you will discover\n",
    "throughout this course, Python has a rich set of *data types* that are\n",
    "useful when writing programs. But first, let us try to understand why\n",
    "thinking about data types is useful.\n",
    "\n",
    "------------------------------------------------------------------------\n",
    "\n",
    "### Exercise 2-1: Why?\n",
    "\n",
    "What is the result of an operation like this?"
   ],
   "id": "fb8861e1-67af-4657-87aa-b49eb1fd73d6"
  },
  {
   "cell_type": "code",
   "execution_count": null,
   "metadata": {},
   "outputs": [],
   "source": [
    "\"hello\" + 5"
   ],
   "id": "29cd8f1d-ca94-465e-9d92-f27e9aa83890"
  },
  {
   "cell_type": "markdown",
   "metadata": {},
   "source": [
    "------------------------------------------------------------------------\n",
    "\n",
    "Indeed it is nonsense. `\"hello\"` is a string (in Python we say it is a\n",
    "`str`) and `5` is an integer number (in Python we say `int`). They are\n",
    "different *data types*. You can think of data types as the *shape* of\n",
    "some data. The `+` operator expects its operands to be compatible shapes\n",
    "(data types).\n",
    "\n",
    "------------------------------------------------------------------------\n",
    "\n",
    "### Exercise 2-2: Type errors\n",
    "\n",
    "Run the following 2 code blocks. Read the error messages. Notice the\n",
    "difference in error messages. Why are the error messages different?"
   ],
   "id": "0667f3e6-d085-43bd-a7e6-06957b94eb27"
  },
  {
   "cell_type": "code",
   "execution_count": null,
   "metadata": {},
   "outputs": [],
   "source": [
    "\"hello\" + 5"
   ],
   "id": "d29dcf10-7cf8-46ba-9e5a-a24f783a5bd5"
  },
  {
   "cell_type": "markdown",
   "metadata": {},
   "source": [
    "or,"
   ],
   "id": "93f81550-0914-4bfc-bd72-0e74ea747fef"
  },
  {
   "cell_type": "code",
   "execution_count": null,
   "metadata": {},
   "outputs": [],
   "source": [
    "5 + \"hello\""
   ],
   "id": "e31e6623-2ee2-4734-9475-c724e36f5035"
  },
  {
   "cell_type": "markdown",
   "metadata": {},
   "source": [
    "------------------------------------------------------------------------\n",
    "\n",
    "Python allows us programmers the *option* to explicitly *annotate* the\n",
    "data types of values in our programs. This can be very helpful as we\n",
    "will see later on. For now, let’s just look at the syntax for data type\n",
    "annotations in Python."
   ],
   "id": "aa7ee0c3-7a32-463b-bb81-4999b3636013"
  },
  {
   "cell_type": "code",
   "execution_count": null,
   "metadata": {},
   "outputs": [],
   "source": [
    "name: str = \"James\""
   ],
   "id": "7f14cb73-4171-4637-9cca-6055b4e0bf27"
  },
  {
   "cell_type": "markdown",
   "metadata": {},
   "source": [
    "In Python, we use the `=` operator for variable assignment. This is the\n",
    "same as in Hedy:\n",
    "\n",
    "``` python\n",
    "name is \"James\"\n",
    "```\n",
    "\n",
    "But now we use the `:` operator to remind ourselves, or other people\n",
    "reading our code, that the variable `name` contains a `str`.\n",
    "\n",
    "## What is the type of a value?\n",
    "\n",
    "Python provides a function that we can use to discover the data type of\n",
    "a value: `type()`. Let’s use it on some values:"
   ],
   "id": "fc9cc5f0-bb31-472e-8ce5-811882a9e488"
  },
  {
   "cell_type": "code",
   "execution_count": null,
   "metadata": {},
   "outputs": [],
   "source": [
    "type(\"James\")"
   ],
   "id": "2897db2a-9330-487a-86be-106ca07f5518"
  },
  {
   "cell_type": "code",
   "execution_count": null,
   "metadata": {},
   "outputs": [],
   "source": [
    "type(5)"
   ],
   "id": "2df96c15-6944-46fc-822e-095372175fc1"
  },
  {
   "cell_type": "code",
   "execution_count": null,
   "metadata": {},
   "outputs": [],
   "source": [
    "type(len(\"James\"))"
   ],
   "id": "820d01e5-b867-4aed-9986-32fddfb2c77e"
  },
  {
   "cell_type": "code",
   "execution_count": null,
   "metadata": {},
   "outputs": [],
   "source": [
    "x = input(\"What is your name?\")\n",
    "print(\"Your name is: \", x)\n",
    "type(x)"
   ],
   "id": "07fcfbdd-aa7a-4299-aa3c-f863f7f3e0cb"
  },
  {
   "cell_type": "markdown",
   "metadata": {},
   "source": [
    "------------------------------------------------------------------------\n",
    "\n",
    "### Exercise 2-3: What’s that type?\n",
    "\n",
    "What is the type of this expression?\n",
    "\n",
    "``` python\n",
    "\"Hello \" + \"world\"\n",
    "```\n",
    "\n",
    "try to guess first, then use the `type()` function to check your guess."
   ],
   "id": "d247b656-0ff4-45a1-a0a5-60023177a4ff"
  },
  {
   "cell_type": "code",
   "execution_count": null,
   "metadata": {},
   "outputs": [],
   "source": [],
   "id": "e8bbcf6d-ea7c-4568-8f8f-abf4c8d688c0"
  },
  {
   "cell_type": "markdown",
   "metadata": {},
   "source": [
    "------------------------------------------------------------------------\n",
    "\n",
    "## Some other types\n",
    "\n",
    "Before we finish this chapter, there are 2 further data types that will\n",
    "be important during this course: `float` and `bool`.\n",
    "\n",
    "`float`, short for *floating point number*, is a decimal numeric data\n",
    "type that represents continuous numbers to within some finite accuracy.\n",
    "\n",
    "`bool`, short for *boolean* values represent the logical states of\n",
    "`True` or `False`.\n",
    "\n",
    "Each of these data types come with their own conversion functions.\n",
    "Experiment with them below.\n",
    "\n",
    "------------------------------------------------------------------------\n",
    "\n",
    "### Exercise 2-4: converting between types\n",
    "\n",
    "What `int` values are converted to `True`, which are converted to\n",
    "`False`?"
   ],
   "id": "922ace5f-3607-4768-8949-169895ed4176"
  },
  {
   "cell_type": "code",
   "execution_count": null,
   "metadata": {},
   "outputs": [],
   "source": [
    "bool(0)"
   ],
   "id": "51b5b161-45ea-43f6-b6b4-75bf75a09cb9"
  },
  {
   "cell_type": "markdown",
   "metadata": {},
   "source": [
    "------------------------------------------------------------------------\n",
    "\n",
    "## Chapter Review\n",
    "\n",
    "In this chapter you learned that all values in Python have a *data\n",
    "type*. You learned that operations on data expect compatible data types,\n",
    "and you learned how to annotate your programs with their types. Finally\n",
    "you learned about 3 new data types: `int`, `float`, and `bool`.\n",
    "\n",
    "## Review Questions\n",
    "\n",
    "1.  What is a `str`?\n",
    "    <details>\n",
    "    <summary>\n",
    "    Answer\n",
    "    </summary>\n",
    "    A <code>str</code> is the <em>data type</em> of all text.\n",
    "    </details>\n",
    "2.  Is it possible to use the `+` operator when the operands are both\n",
    "    `int` data types?\n",
    "    <details>\n",
    "    <summary>\n",
    "    Answer\n",
    "    </summary>\n",
    "    Yes. This would be addition of numbers.\n",
    "    </details>\n",
    "3.  Does Python check my type annotations?\n",
    "    <details>\n",
    "    <summary>\n",
    "    Answer\n",
    "    </summary>\n",
    "    No. Like comments, they are for people reading your code. There are\n",
    "    separate programs that will check your types but these are out of\n",
    "    scope for this course.\n",
    "    </details>\n",
    "\n",
    "Click [here](03_Functions.ipynb) to go to the next chapter."
   ],
   "id": "731bd600-7ca9-4ff1-a648-82a252534add"
  }
 ],
 "nbformat": 4,
 "nbformat_minor": 5,
 "metadata": {
  "kernelspec": {
   "name": "python3",
   "display_name": "Python 3 (ipykernel)",
   "language": "python"
  },
  "language_info": {
   "name": "python",
   "codemirror_mode": {
    "name": "ipython",
    "version": "3"
   },
   "file_extension": ".py",
   "mimetype": "text/x-python",
   "nbconvert_exporter": "python",
   "pygments_lexer": "ipython3",
   "version": "3.11.0"
  }
 }
}
