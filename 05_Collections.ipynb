{
 "cells": [
  {
   "cell_type": "markdown",
   "metadata": {},
   "source": [
    "# Collecting things together\n",
    "\n",
    "> *“Simple is better than\n",
    "> complex.”*<sup><a href=\"#References\">1</a></sup>\n",
    "\n",
    "## Lists\n",
    "\n",
    "So far we’ve seen how to store a single value in a variable that you can\n",
    "use in your program. It is also possible to assign a *collection* of\n",
    "values to a name. In Python, *lists* are a common example of such\n",
    "collections.\n",
    "\n",
    "A list is an *ordered* collection of arbitrary python values. Even other\n",
    "lists! A list inside another list is called a *nested list*. This is\n",
    "similar to a shopping list. My shopping list sometimes looks like this:\n",
    "\n",
    "> -   Apples\n",
    "> -   Milk\n",
    "> -   Dinner:\n",
    ">     -   Chicken\n",
    ">     -   Chips\n",
    ">     -   Salad\n",
    "> -   Snacks\n",
    "\n",
    "You can make a list in Python by seperating each value in a list with\n",
    "commas and placing these between square `[]` brackets."
   ],
   "id": "7b6587e0-0ba4-4648-ba8a-afc248185c2b"
  },
  {
   "cell_type": "code",
   "execution_count": null,
   "metadata": {},
   "outputs": [],
   "source": [
    "# My shopping list in Python\n",
    "[\"Apples\", \"Milk\", [\"Chicken\", \"Chips\", \"Salad\"], \"Snacks\"]"
   ],
   "id": "97df67ba-6c01-435b-aff0-ac5a5120f907"
  },
  {
   "cell_type": "markdown",
   "metadata": {},
   "source": [
    "The type of values in a list can be heterogeneous."
   ],
   "id": "a8ef988b-1f8e-4fdf-8529-8bae5f1a8bd9"
  },
  {
   "cell_type": "code",
   "execution_count": null,
   "metadata": {},
   "outputs": [],
   "source": [
    "[1, 2, \"Fizz\", 4, \"Buzz\"]"
   ],
   "id": "c55ea6fb-f429-44e0-8be5-00f1983755d2"
  },
  {
   "cell_type": "markdown",
   "metadata": {},
   "source": [
    "Lists can be arbitrarily nested."
   ],
   "id": "a25a6031-d106-4953-9906-3958180a31ba"
  },
  {
   "cell_type": "code",
   "execution_count": null,
   "metadata": {},
   "outputs": [],
   "source": [
    "[[\"foo\"], \"bar\", [[\"baz\"], \"zoom\"]]"
   ],
   "id": "d328f352-b920-447a-8cc2-4637ef79242f"
  },
  {
   "cell_type": "code",
   "execution_count": null,
   "metadata": {},
   "outputs": [],
   "source": [
    "[1, [2, 2, [3, 3, 3, [4, 4, 4, 4]]]]"
   ],
   "id": "38f5ef5b-bc44-4e7f-940f-a341b4f3a708"
  },
  {
   "cell_type": "markdown",
   "metadata": {},
   "source": [
    "You can annotate the type of *homogeneous* lists."
   ],
   "id": "13808d41-36b6-4dfb-93e7-6b4fe75778d3"
  },
  {
   "cell_type": "code",
   "execution_count": null,
   "metadata": {},
   "outputs": [],
   "source": [
    "mylist: list[int] = [2, 4, 6, 8]\n",
    "mylist"
   ],
   "id": "234d94ed-022e-41f5-a00f-4503a8e23aa5"
  },
  {
   "cell_type": "markdown",
   "metadata": {},
   "source": [
    "You can *combine* lists together with the `+` operator."
   ],
   "id": "40e9cc8d-b1ee-4121-ae69-01f63ff3748d"
  },
  {
   "cell_type": "code",
   "execution_count": null,
   "metadata": {},
   "outputs": [],
   "source": [
    "[1, 2] + [3, 4]"
   ],
   "id": "53155e6b-8c97-4796-9740-625c0c2ebe50"
  },
  {
   "cell_type": "markdown",
   "metadata": {},
   "source": [
    "This gives you a way to *append* to a list. We will use this pattern a\n",
    "lot during this course."
   ],
   "id": "a9cd5a43-4367-46fc-85c9-db3ffb3a805d"
  },
  {
   "cell_type": "code",
   "execution_count": null,
   "metadata": {},
   "outputs": [],
   "source": [
    "mylist: list[int] = [1, 2, 3]\n",
    "mylist = mylist + [4, 5]\n",
    "mylist"
   ],
   "id": "dbd93c57-f0c3-46e9-9423-0c98543f6c7c"
  },
  {
   "cell_type": "markdown",
   "metadata": {},
   "source": [
    "You can even *multiply* a list by an integer."
   ],
   "id": "0c117cd0-8eba-4816-986f-fbcdfa45fc18"
  },
  {
   "cell_type": "code",
   "execution_count": null,
   "metadata": {},
   "outputs": [],
   "source": [
    "[1, 2, 3] * 2"
   ],
   "id": "cfc79f0c-b402-4f1e-8946-337aa450c1b5"
  },
  {
   "cell_type": "markdown",
   "metadata": {},
   "source": [
    "------------------------------------------------------------------------\n",
    "\n",
    "### Exercise 5-1: More FizzBuzz\n",
    "\n",
    "Write a function called `fizzbuzz3()` that returns a list containing the\n",
    "FizzBuzz game played up to 15."
   ],
   "id": "6d81877f-522b-450b-94bf-dc9b658d64b5"
  },
  {
   "cell_type": "code",
   "execution_count": null,
   "metadata": {},
   "outputs": [],
   "source": [
    "def fizzbuzz3():\n",
    "    \"Play the Fizz Buzz game up to 15.\"\n",
    "    return _\n",
    "\n",
    "fizzbuzz3()"
   ],
   "id": "47655883-3438-43d4-9b93-a2feb82e701a"
  },
  {
   "cell_type": "markdown",
   "metadata": {},
   "source": [
    "[Advanced question](Advanced%20Exercises.ipynb#5-1)\n",
    "\n",
    "------------------------------------------------------------------------\n",
    "\n",
    "## What’s the length?\n",
    "\n",
    "What is the length of this list `[1, [2, [3, 4]]]`? If you say `2`,\n",
    "you’re right. If you say `4`, you’re also right! However, Python only\n",
    "agrees with you if you said `2`. This is because Python does not look at\n",
    "the structure of the values in a list. So when you ask Python,\n",
    "`len([1, [2, [3, 4]]])`? Python sees, `len([💩, 💩])`."
   ],
   "id": "d99a8eb6-d2b6-4fc3-b345-0b6da2640e97"
  },
  {
   "cell_type": "code",
   "execution_count": null,
   "metadata": {},
   "outputs": [],
   "source": [
    "len([1, [2, [3, 4]]])"
   ],
   "id": "c786f2e6-5854-48f8-865e-d9bd1f4d91d4"
  },
  {
   "cell_type": "markdown",
   "metadata": {},
   "source": [
    "You may wonder if there is a way to compute the number of nested values\n",
    "(`4` in the above example), this is left as an advanced exercise.\n",
    "\n",
    "## Indexing and Slicing\n",
    "\n",
    "Lists are *ordered* collections of values. It is sometimes necessary to\n",
    "work with a particular value within a list, requiring us to extract that\n",
    "value from the list. This “extract” operation is known as indexing. For\n",
    "example, if you wish to work with the second element of a list you would\n",
    "need to *index* the list at a particular *offset* from the beginning of\n",
    "the list.\n",
    "\n",
    "The beginning of the list is at an offset of *zero* elements from the\n",
    "beginning of the list. So in order to “extract” the first element of a\n",
    "list, we index it at `0` using the *index operator*: `[]`."
   ],
   "id": "72777cda-20b2-4a49-8868-34e274f23d2e"
  },
  {
   "cell_type": "code",
   "execution_count": null,
   "metadata": {},
   "outputs": [],
   "source": [
    "my_list = ['A', 'E', 'I', 'O', 'U', 'Y']\n",
    "my_list[0]"
   ],
   "id": "9a7779ae-bafd-4bc7-860b-e95a6dd74fd1"
  },
  {
   "cell_type": "markdown",
   "metadata": {},
   "source": [
    "The second element the list is at *index* `1` and so on.\n",
    "\n",
    "``` python\n",
    "my_list[1]\n",
    "```\n",
    "\n",
    "You can replace a value in a list by combining the index operator with\n",
    "the assignment operator."
   ],
   "id": "54a38c86-3673-4af9-bf27-8e710f6969e9"
  },
  {
   "cell_type": "code",
   "execution_count": null,
   "metadata": {},
   "outputs": [],
   "source": [
    "my_list[0] = 42\n",
    "my_list"
   ],
   "id": "3993e523-4801-4c21-8fa9-c07303c4b1c7"
  },
  {
   "cell_type": "markdown",
   "metadata": {},
   "source": [
    "*Slicing* is a generalisation of *indexing* which allows you to view a\n",
    "*slice* of the list. If you think of the list as a loaf of bread, you\n",
    "can slice out a part of the loaf as small or as large as you like.\n",
    "\n",
    "``` python\n",
    "my_list[start_index : end_index : step]\n",
    "```\n",
    "\n",
    "Here are some examples of indexing and slicing. Try to guess the output\n",
    "before you execute each cell."
   ],
   "id": "e2459f0f-68ee-4a78-82cb-d30628b8350f"
  },
  {
   "cell_type": "code",
   "execution_count": null,
   "metadata": {},
   "outputs": [],
   "source": [
    "my_list[1]"
   ],
   "id": "50cf6bd7-3236-4d22-9b55-a9a6706d1422"
  },
  {
   "cell_type": "code",
   "execution_count": null,
   "metadata": {},
   "outputs": [],
   "source": [
    "my_list[54]"
   ],
   "id": "4b2092be-014c-4f43-ad8a-7cc5af1eabe8"
  },
  {
   "cell_type": "code",
   "execution_count": null,
   "metadata": {},
   "outputs": [],
   "source": [
    "my_list[1:2]"
   ],
   "id": "a7d89273-5859-4bde-b2b5-045bc317d2b1"
  },
  {
   "cell_type": "code",
   "execution_count": null,
   "metadata": {},
   "outputs": [],
   "source": [
    "my_list[1:3]"
   ],
   "id": "43bd5eb8-d97f-47af-a65b-0b9ab129bcf7"
  },
  {
   "cell_type": "markdown",
   "metadata": {},
   "source": [
    "Notice that the slicing operation always stops just short of the *end\n",
    "index*."
   ],
   "id": "af004e04-c271-4049-87f6-21f8d26a93cc"
  },
  {
   "cell_type": "code",
   "execution_count": null,
   "metadata": {},
   "outputs": [],
   "source": [
    "my_list[-1]"
   ],
   "id": "9e11bbfe-1b95-4b2b-849c-bd79088d95e8"
  },
  {
   "cell_type": "code",
   "execution_count": null,
   "metadata": {},
   "outputs": [],
   "source": [
    "my_list[3:-1]"
   ],
   "id": "2983ff8a-33b2-4018-9d7b-bdcd9fb58d6a"
  },
  {
   "cell_type": "markdown",
   "metadata": {},
   "source": [
    "There is a special shortcut for slicing *from the beginning* or *to the\n",
    "end*:"
   ],
   "id": "c1243fda-fb3c-4177-b996-d28ffb384c1c"
  },
  {
   "cell_type": "code",
   "execution_count": null,
   "metadata": {},
   "outputs": [],
   "source": [
    "my_list[:3]"
   ],
   "id": "192a4cae-ff05-4a16-8272-1d4caa7ba483"
  },
  {
   "cell_type": "code",
   "execution_count": null,
   "metadata": {},
   "outputs": [],
   "source": [
    "my_list[3:]"
   ],
   "id": "b900d03e-1d78-4626-a872-f800e6a7988f"
  },
  {
   "cell_type": "code",
   "execution_count": null,
   "metadata": {},
   "outputs": [],
   "source": [
    "my_list[:-4]"
   ],
   "id": "1155cc8a-537f-4a4f-9472-e79b76b3bd17"
  },
  {
   "cell_type": "code",
   "execution_count": null,
   "metadata": {},
   "outputs": [],
   "source": [
    "my_list[-4:]"
   ],
   "id": "339dcb66-f785-42f0-b6ad-e02119b0a19f"
  },
  {
   "cell_type": "markdown",
   "metadata": {},
   "source": [
    "You can copy the whole list using the slicing operator."
   ],
   "id": "51041e87-b891-4278-a70f-4038a321a4a1"
  },
  {
   "cell_type": "code",
   "execution_count": null,
   "metadata": {},
   "outputs": [],
   "source": [
    "a_copy = my_list[:]\n",
    "a_copy"
   ],
   "id": "1e184d53-7cc0-4d8a-99e9-69b41c062fca"
  },
  {
   "cell_type": "markdown",
   "metadata": {},
   "source": [
    "Rather than slicing every element in the range, you can slice every\n",
    "step-th element."
   ],
   "id": "5fc38ce4-4b31-4122-9a87-73e27e466f8a"
  },
  {
   "cell_type": "code",
   "execution_count": null,
   "metadata": {},
   "outputs": [],
   "source": [
    "my_list[::2]"
   ],
   "id": "1be3bdc1-a858-4a82-80ad-70be64b01eeb"
  },
  {
   "cell_type": "markdown",
   "metadata": {},
   "source": [
    "What would this do?"
   ],
   "id": "db176b8f-0d64-48f4-a321-814b9dc391ad"
  },
  {
   "cell_type": "code",
   "execution_count": null,
   "metadata": {},
   "outputs": [],
   "source": [
    "my_list[::-1]"
   ],
   "id": "8c7c2e7d-77a0-426c-9325-bf6db67a87e0"
  },
  {
   "cell_type": "markdown",
   "metadata": {},
   "source": [
    "You can also assign to slices."
   ],
   "id": "594f1077-c5db-4bb6-9e71-5f181eccd0dd"
  },
  {
   "cell_type": "code",
   "execution_count": null,
   "metadata": {},
   "outputs": [],
   "source": [
    "my_list[4:] = [2, 1, 0]\n",
    "my_list"
   ],
   "id": "87646f2d-0eee-4cad-8467-807d11a57774"
  },
  {
   "cell_type": "markdown",
   "metadata": {},
   "source": [
    "Be careful when assigning to slices when the step is not `1`."
   ],
   "id": "4a307dd7-2ce1-4a78-897a-b7f540dea297"
  },
  {
   "cell_type": "code",
   "execution_count": null,
   "metadata": {},
   "outputs": [],
   "source": [
    "my_list[::2] = ['a', 'e', 'i', 'o', 'u']\n",
    "my_list"
   ],
   "id": "ed088613-101f-4e80-b16f-4aedf7165a07"
  },
  {
   "cell_type": "markdown",
   "metadata": {},
   "source": [
    "------------------------------------------------------------------------\n",
    "\n",
    "### Exercise 5-2: Slicing nested lists\n",
    "\n",
    "Write a function that accepts a nested list as an argument and returns\n",
    "the original list with second element reversed. For example, given input\n",
    "`[[1, 2], [3, 4]]`, return `[[1, 2], [4, 3]]`."
   ],
   "id": "ecac7c1d-ea10-409d-90ad-934e581ab1b6"
  },
  {
   "cell_type": "code",
   "execution_count": null,
   "metadata": {},
   "outputs": [],
   "source": [
    "def reverse_second(arg):\n",
    "    \"Reverse the second element of a nested list.\"\n",
    "    if len(arg) >= 2:\n",
    "        return _\n",
    "    else:\n",
    "        return _\n",
    "\n",
    "assert reverse_second([[1]]) == [[1]], \"Expected [[1]], got: \" + str(reverse_second([[1]]))\n",
    "assert reverse_second([[1], [2]]) == [[1], [2]], \"Expected [[1], [2]], got: \" + str(reverse_second([[1], [2]]))\n",
    "assert reverse_second([[1, 5], [10, 9, 8]]) == [[1, 5], [8, 9, 10]], \"Expected [[1, 5], [8, 9, 10]], got: \" + str(reverse_second([[1, 5], [10, 9, 8]]))\n",
    "assert reverse_second([1, ['h', 'e', 'l', 'l', 'o'], 2]) == [1, ['o', 'l', 'l', 'e', 'h'], 2], \"Expected [1, ['o', 'l', 'l', 'e', 'h'], 2], got: \" + str(reverse_second([1, ['h', 'e', 'l', 'l', 'o'], 2]))"
   ],
   "id": "9fe11482-0983-4782-bce6-a213461c93bf"
  },
  {
   "cell_type": "markdown",
   "metadata": {},
   "source": [
    "------------------------------------------------------------------------\n",
    "\n",
    "### Exercise 5-3: Sliced FizzBuzz\n",
    "\n",
    "Slicing presents a possible solution to playing the FizzBuzz game: slice\n",
    "starting at the 3$^{rd}$ element of a list with a `step` of 3, assign an\n",
    "appropriately sized list of `[\"Fizz\"]` strings. The same for 5. Write a\n",
    "function, called `fizzbuzz4()` that attempts to play the Fizz Buzz game\n",
    "in this way. The input will be a list containing the counted numbers,\n",
    "you should use slicing to replace the appropriate numbers with `\"Fizz\"`\n",
    "or `\"Buzz\"`."
   ],
   "id": "7d187fdc-dc1a-4c82-a6c3-e2e65f1500b6"
  },
  {
   "cell_type": "code",
   "execution_count": null,
   "metadata": {},
   "outputs": [],
   "source": [
    "def fizzbuzz4(counted):\n",
    "    counted[_:_:3] = [\"Fizz\"] * (len(counted) // 3)\n",
    "    counted[_:_:5] = [\"Buzz\"] * (len(counted) // 5)\n",
    "    return counted\n",
    "\n",
    "fizzbuzz4([1, 2, 3, 4, 5, 6, 7, 8, 9, 10, 11, 12, 13, 14, 15])"
   ],
   "id": "81e78c8c-1d05-4ec2-abfc-a2c87b5df0c4"
  },
  {
   "cell_type": "markdown",
   "metadata": {},
   "source": [
    "Does `fizzbuzz4()` correctly play the Fizz Buzz game? If not, what is\n",
    "wrong with this solution? Can you fix it?\n",
    "\n",
    "[Advanced question](Advanced%20Exercises.ipynb#5-2)\n",
    "\n",
    "------------------------------------------------------------------------\n",
    "\n",
    "## Operating on Lists and using Python utilities\n",
    "\n",
    "In the following section we will use the `operator` library which is\n",
    "part of the Python standard library (if you’re interested, see the\n",
    "documentation [here](https://docs.python.org/3/library/operator.html)).\n",
    "The `operator` library defines functions that are equivalent to the\n",
    "usual operators you’ve seen so far (e.g. `+`, `*`, *indexing*, etc.).\n",
    "Let’s begin by importing the `operator` library."
   ],
   "id": "d8ae2bf8-099c-46d9-9bdf-69e0505294f3"
  },
  {
   "cell_type": "code",
   "execution_count": null,
   "metadata": {},
   "outputs": [],
   "source": [
    "import operator"
   ],
   "id": "f5dcacc6-461e-4618-ac4d-1de7fd796c2e"
  },
  {
   "cell_type": "markdown",
   "metadata": {},
   "source": [
    "As you progress through the course we will use other facilities provided\n",
    "by the Python standard library. It’s very useful to be aware of them so\n",
    "that you don’t need to re-invent what is already available.\n",
    "\n",
    "You might already appreciate the utility of lists, if not the next few\n",
    "exercises aim to demonstrate how they can be useful. In order to\n",
    "complete the next exercises you will need to know how to perform some\n",
    "operations on lists as a whole. Here are 3 new things to become\n",
    "acquainted with:\n",
    "\n",
    "-   The `sorted()` function sorts lists\n",
    "-   The `in` operator checks if a value is contained in a list.\n",
    "-   `operator.itemgetter()` is a function that behaves like the index\n",
    "    (`[]`) operator.\n",
    "\n",
    "The first 2 definitions are available to you without needing to `import`\n",
    "a library. Let us experiment to see what they do."
   ],
   "id": "1413c117-6707-408a-bb3e-dfb6b095b73a"
  },
  {
   "cell_type": "code",
   "execution_count": null,
   "metadata": {},
   "outputs": [],
   "source": [
    "6 in [1, 3, 5, 7, 9]"
   ],
   "id": "353e1111-f083-456f-b1f5-b7708b78ae9f"
  },
  {
   "cell_type": "code",
   "execution_count": null,
   "metadata": {},
   "outputs": [],
   "source": [
    "8 in [2, 4, 6, 8, 10]"
   ],
   "id": "010f3b68-22a2-4f56-bb8c-c6360890d663"
  },
  {
   "cell_type": "code",
   "execution_count": null,
   "metadata": {},
   "outputs": [],
   "source": [
    "sorted([5, 10, 2, 7, 1])"
   ],
   "id": "54d40315-d4b1-42df-bbcf-1cbc7c1b1251"
  },
  {
   "cell_type": "code",
   "execution_count": null,
   "metadata": {},
   "outputs": [],
   "source": [
    "sorted([[5], [10], [2], [7], [1]])"
   ],
   "id": "065354bb-11d3-4789-811d-c48b0b121083"
  },
  {
   "cell_type": "markdown",
   "metadata": {},
   "source": [
    "We can customise the behaviour of the `sorted()` function because it\n",
    "takes 2 *optional* named arguments: `reverse` to sort in reverse order,\n",
    "and `key` to extract the value to sort from a structure. One structure\n",
    "you may wish to extract a sort key from is another list, say:"
   ],
   "id": "c74f5d92-c6fa-4eb1-ba55-dfa5b92638db"
  },
  {
   "cell_type": "code",
   "execution_count": null,
   "metadata": {},
   "outputs": [],
   "source": [
    "song = [[\"french hens\", 3],\n",
    "        [\"ladies dancing\", 9],\n",
    "        [\"pipers piping\", 11],\n",
    "        [\"swans a-swimming\", 7],\n",
    "        [\"geese a-laying\", 6],\n",
    "        [\"turtle doves\", 2],\n",
    "        [\"calling birds\", 4],\n",
    "        [\"maids a-milking\", 8],\n",
    "        [\"drummers drumming\", 12],\n",
    "        [\"lords a-leaping\", 10],\n",
    "        [\"gold rings\", 5],\n",
    "        [\"partridge in a pear tree\", 1]]"
   ],
   "id": "a086bb8a-0d76-48ed-b77d-7d6c1fcdb5dd"
  },
  {
   "cell_type": "markdown",
   "metadata": {},
   "source": [
    "Simply sorting this will not do what we want."
   ],
   "id": "55588c48-4ac9-475a-a1fc-6ed246d88d1b"
  },
  {
   "cell_type": "code",
   "execution_count": null,
   "metadata": {},
   "outputs": [],
   "source": [
    "sorted(song)"
   ],
   "id": "7c0f93a0-5942-40c8-9c47-14f760da52b3"
  },
  {
   "cell_type": "markdown",
   "metadata": {},
   "source": [
    "Instead of sorting on the first element of each nested list you need to\n",
    "sort on the second element: the number of each gift. The `key` argument\n",
    "requires a function. This function is given each nested list and it\n",
    "should return the value with which to sort. This is the index operator,\n",
    "`[]`. But the index operator is not a function. This is where the\n",
    "`operator` library is useful."
   ],
   "id": "66382f1a-fb81-4f7a-a187-b3d974e5beeb"
  },
  {
   "cell_type": "code",
   "execution_count": null,
   "metadata": {},
   "outputs": [],
   "source": [
    "sorted(song, key=operator.itemgetter(1))"
   ],
   "id": "7f21ec20-f021-4a5b-b7c4-53162c671401"
  },
  {
   "cell_type": "markdown",
   "metadata": {},
   "source": [
    "This sorts the song correctly. Finally, sorting in reverse:"
   ],
   "id": "5b30d6e0-006a-4ccb-9e09-56456302c5de"
  },
  {
   "cell_type": "code",
   "execution_count": null,
   "metadata": {},
   "outputs": [],
   "source": [
    "sorted(song, key=operator.itemgetter(1), reverse=True)"
   ],
   "id": "6bbf4fe5-37ea-417d-891d-0ede53e7a366"
  },
  {
   "cell_type": "markdown",
   "metadata": {},
   "source": [
    "------------------------------------------------------------------------\n",
    "\n",
    "### Exercise 5-4: Bronze medal\n",
    "\n",
    "Write a function that accepts a list of scores (highest is better) and\n",
    "return the score of third place (bronze medal)."
   ],
   "id": "42c0196a-f8c0-41f7-b6e9-d27428687437"
  },
  {
   "cell_type": "code",
   "execution_count": null,
   "metadata": {},
   "outputs": [],
   "source": [
    "def bronze_medal(scores):\n",
    "    return _\n",
    "\n",
    "assert bronze_medal([0, 2, 1]) == 0, \"Expected: 0, got: \" + str(bronze_medal([0, 2, 1]))\n",
    "assert bronze_medal([54,56,2,1,5223,6,23,57,3,7,3344]) == 57, \"Expected: 57, got: \" + str(bronze_medal([54,56,2,1,5223,6,23,57,3,7,3344]))"
   ],
   "id": "6711b9a1-1dc9-4b56-a1f2-1c301f4b8886"
  },
  {
   "cell_type": "markdown",
   "metadata": {},
   "source": [
    "------------------------------------------------------------------------\n",
    "\n",
    "### Exercise 5-5: Citations\n",
    "\n",
    "You’re given a list containing some data. Each element of the list is\n",
    "another list containing 2 values: the name of a country, and the average\n",
    "number of citations per citable document produced within that country.\n",
    "Write a function that takes this list as an argument and returns the\n",
    "name of the country with the second highest number of average citations.\n",
    "<!-- Data are from: https://www.scimagojr.com/countryrank.php?order=cd&ord=desc -->"
   ],
   "id": "f28ab675-7953-49d2-a285-4b86aa25110d"
  },
  {
   "cell_type": "code",
   "execution_count": null,
   "metadata": {},
   "outputs": [],
   "source": [
    "assert second_highest([['A', 1.0], ['B', 0.5]]) == \"B\", \"Expected: 'B', got: \" + str(second_highest([['A', 1.0], ['B', 0.5]]))\n",
    "assert second_highest([\n",
    "    ['Netherlands Antilles', 38.46],\n",
    "    ['Tokelau', 51.9],\n",
    "    ['Seychelles', 33.56],\n",
    "    ['Anguilla', 133.98],\n",
    "    ['Saint Lucia', 37.31],\n",
    "    ['Panama', 37.87],\n",
    "    ['Bermuda', 43.33],\n",
    "    ['Federated States of Micronesia', 85.49],\n",
    "    ['Gambia', 42.14],\n",
    "    ['Belize', 41.59]]) == 'Federated States of Micronesia'"
   ],
   "id": "d26d9d3b-b843-4887-91dd-ab0fc2c69bae"
  },
  {
   "cell_type": "markdown",
   "metadata": {},
   "source": [
    "[Advanced question](Advanced%20Exercises.ipynb#5-5)\n",
    "\n",
    "------------------------------------------------------------------------\n",
    "\n",
    "## Chapter Review\n",
    "\n",
    "In this chapter you learned how to store multiple values into an\n",
    "ordered, mutable collection called a `list`. You learned how to access\n",
    "individual values and slices of values. You also learned how to sort\n",
    "lists and check for membership in a list.\n",
    "\n",
    "## Review Questions\n",
    "\n",
    "1.  What are lists used for?\n",
    "    <details>\n",
    "    <summary>\n",
    "    Answer\n",
    "    </summary>\n",
    "    To collect values together.\n",
    "    </details>\n",
    "2.  What does it mean for a list to be mutable?\n",
    "    <details>\n",
    "    <summary>\n",
    "    Answer\n",
    "    </summary>\n",
    "    A value can be changed after creation. The assignment operator (`=`)\n",
    "    works.\n",
    "    </details>\n",
    "3.  Is a string (`str`) like a list?\n",
    "    <details>\n",
    "    <summary>\n",
    "    Answer\n",
    "    </summary>\n",
    "    Yes. In the sense that strings can be indexed and sliced. They’re\n",
    "    collections of only characters though. And strings are immutable.\n",
    "    You cannot assign to a string index.\n",
    "    </details>\n",
    "4.  What is *slicing*?\n",
    "    <details>\n",
    "    <summary>\n",
    "    Answer\n",
    "    </summary>\n",
    "    Slicing is a way to access ranges of elements in a list (or string).\n",
    "    </details>\n",
    "5.  Can you turn a string into a list of characters?\n",
    "    <details>\n",
    "    <summary>\n",
    "    Answer\n",
    "    </summary>\n",
    "    Yes using the `list()` function.\n",
    "    </details>\n",
    "\n",
    "## References\n",
    "\n",
    "1.  Zen of Python: https://www.python.org/dev/peps/pep-0020/\n",
    "\n",
    "## Supporting material\n",
    "\n",
    "-   [Automate the Boring Stuff with Python, Chapter\n",
    "    4](http://automatetheboringstuff.com/2e/chapter4/)\n",
    "-   [Automate the Boring Stuff with Python video course, Lesson\n",
    "    13](https://youtu.be/5n6o1MaXDoE)\n",
    "-   [Real Python: Lists and\n",
    "    Tuples](https://realpython.com/python-lists-tuples/)\n",
    "-   [How to Design Programs, Chapter\n",
    "    6](https://htdp.org/2003-09-26/Book/curriculum-Z-H-9.html#node_chap_6)\n",
    "-   [Programming Python, Chapter\n",
    "    14](https://www.linuxtopia.org/online_books/programming_books/python_programming/python_ch14.html)\n",
    "\n",
    "Click [here](06_Loops.ipynb) to go to the next chapter."
   ],
   "id": "d89f93ec-9075-4b26-8a34-963f2bf0321b"
  }
 ],
 "nbformat": 4,
 "nbformat_minor": 5,
 "metadata": {
  "kernelspec": {
   "name": "python3",
   "display_name": "Python 3 (ipykernel)",
   "language": "python"
  },
  "language_info": {
   "name": "python",
   "codemirror_mode": {
    "name": "ipython",
    "version": "3"
   },
   "file_extension": ".py",
   "mimetype": "text/x-python",
   "nbconvert_exporter": "python",
   "pygments_lexer": "ipython3",
   "version": "3.11.0"
  }
 }
}
