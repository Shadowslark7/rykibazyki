{
 "cells": [
  {
   "cell_type": "markdown",
   "metadata": {},
   "source": [
    "# Collecting things together\n",
    "\n",
    "> *“Simple is better than\n",
    "> complex.”*<sup><a href=\"#References\">1</a></sup>\n",
    "\n",
    "## Lists\n",
    "\n",
    "So far we’ve seen how to store a single value in a variable that you can\n",
    "use in your program. It is also possible to assign a *collection* of\n",
    "values to a name. In Python, *lists* are a common example of such\n",
    "collections.\n",
    "\n",
    "A list is an *ordered* collection of arbitrary python values. Even other\n",
    "lists! A list inside another list is called a *nested list*. This is\n",
    "similar to a shopping list. My shopping list sometimes looks like this:\n",
    "\n",
    "> -   Apples\n",
    "> -   Milk\n",
    "> -   Dinner:\n",
    ">     -   Chicken\n",
    ">     -   Chips\n",
    ">     -   Salad\n",
    "> -   Snacks\n",
    "\n",
    "You can make a list in Python by seperating each value in a list with\n",
    "commas and placing these between square `[]` brackets."
   ],
   "id": "bf4a4486-d204-4c05-b6be-4d19550e1a41"
  },
  {
   "cell_type": "code",
   "execution_count": null,
   "metadata": {},
   "outputs": [],
   "source": [
    "# My shopping list in Python\n",
    "[\"Apples\", \"Milk\", [\"Chicken\", \"Chips\", \"Salad\"], \"Snacks\"]"
   ],
   "id": "d460ad7c-ee0e-47cd-843c-01729081c2c9"
  },
  {
   "cell_type": "markdown",
   "metadata": {},
   "source": [
    "The type of values in a list can be heterogeneous."
   ],
   "id": "27569049-6e3a-4391-bb3f-70eb006f5fff"
  },
  {
   "cell_type": "code",
   "execution_count": null,
   "metadata": {},
   "outputs": [],
   "source": [
    "[1, 2, \"Fizz\", 4, \"Buzz\"]"
   ],
   "id": "ccf3f78c-fa94-48bc-897e-e4516c0e5fd5"
  },
  {
   "cell_type": "markdown",
   "metadata": {},
   "source": [
    "Lists can be arbitrarily nested."
   ],
   "id": "0cdaab78-b6f1-4b1e-9d0a-daab7a7c4ede"
  },
  {
   "cell_type": "code",
   "execution_count": null,
   "metadata": {},
   "outputs": [],
   "source": [
    "[[\"foo\"], \"bar\", [[\"baz\"], \"zoom\"]]"
   ],
   "id": "8d38b542-66bf-4bd2-8a8d-95c32c5a61ee"
  },
  {
   "cell_type": "code",
   "execution_count": null,
   "metadata": {},
   "outputs": [],
   "source": [
    "[1, [2, 2, [3, 3, 3, [4, 4, 4, 4]]]]"
   ],
   "id": "e7f166dc-19dd-4bb1-9fc0-b31a68585be4"
  },
  {
   "cell_type": "markdown",
   "metadata": {},
   "source": [
    "You can annotate the type of *homogeneous* lists."
   ],
   "id": "f952b458-945c-405d-8707-a69a39509b69"
  },
  {
   "cell_type": "code",
   "execution_count": null,
   "metadata": {},
   "outputs": [],
   "source": [
    "mylist: list[int] = [2, 4, 6, 8]\n",
    "mylist"
   ],
   "id": "41901088-7394-4f2a-887d-249292f47268"
  },
  {
   "cell_type": "markdown",
   "metadata": {},
   "source": [
    "You can *combine* lists together with the `+` operator."
   ],
   "id": "8a8ed595-94a1-49e7-9b29-00c838b46732"
  },
  {
   "cell_type": "code",
   "execution_count": null,
   "metadata": {},
   "outputs": [],
   "source": [
    "[1, 2] + [3, 4]"
   ],
   "id": "a44c3d6a-c6e9-42e7-86a5-d8f742ab3d3b"
  },
  {
   "cell_type": "markdown",
   "metadata": {},
   "source": [
    "This gives you a way to *append* to a list. We will use this pattern a\n",
    "lot during this course."
   ],
   "id": "7a4fc34b-8198-4816-926f-f35899f73cb8"
  },
  {
   "cell_type": "code",
   "execution_count": null,
   "metadata": {},
   "outputs": [],
   "source": [
    "mylist: list[int] = [1, 2, 3]\n",
    "mylist = mylist + [4, 5]\n",
    "mylist"
   ],
   "id": "575c618e-9975-462d-a5c3-9c976f7d70bc"
  },
  {
   "cell_type": "markdown",
   "metadata": {},
   "source": [
    "You can even *multiply* a list by an integer."
   ],
   "id": "06aa30fa-9017-41a5-9e82-98fd4997c3f5"
  },
  {
   "cell_type": "code",
   "execution_count": null,
   "metadata": {},
   "outputs": [],
   "source": [
    "[1, 2, 3] * 2"
   ],
   "id": "b80a32eb-6dd6-4f15-91ff-c1e55de8b7f5"
  },
  {
   "cell_type": "markdown",
   "metadata": {},
   "source": [
    "------------------------------------------------------------------------\n",
    "\n",
    "### Exercise 5-1: More FizzBuzz\n",
    "\n",
    "Write a function called `fizzbuzz3()` that returns a list containing the\n",
    "FizzBuzz game played up to 15."
   ],
   "id": "b79769f5-0a0c-40d7-b1e0-09fd23367b3d"
  },
  {
   "cell_type": "code",
   "execution_count": null,
   "metadata": {},
   "outputs": [],
   "source": [
    "def fizzbuzz3():\n",
    "    \"Play the Fizz Buzz game up to 15.\"\n",
    "    return _\n",
    "\n",
    "fizzbuzz3()"
   ],
   "id": "ca7437d7-c807-4708-ae59-e534b3d2e9d8"
  },
  {
   "cell_type": "markdown",
   "metadata": {},
   "source": [
    "[Advanced question](Advanced%20Exercises.ipynb#5-1)\n",
    "\n",
    "------------------------------------------------------------------------\n",
    "\n",
    "## What’s the length?\n",
    "\n",
    "What is the length of this list `[1, [2, [3, 4]]]`? If you say `2`,\n",
    "you’re right. If you say `4`, you’re also right! However, Python only\n",
    "agrees with you if you said `2`. This is because Python does not look at\n",
    "the structure of the values in a list. So when you ask Python,\n",
    "`len([1, [2, [3, 4]]])`? Python sees, `len([💩, 💩])`."
   ],
   "id": "18036f26-6977-4e58-8af5-f170e7333df8"
  },
  {
   "cell_type": "code",
   "execution_count": null,
   "metadata": {},
   "outputs": [],
   "source": [
    "len([1, [2, [3, 4]]])"
   ],
   "id": "d4408bee-85d0-4742-848a-0f2fcd9376e2"
  },
  {
   "cell_type": "markdown",
   "metadata": {},
   "source": [
    "You may wonder if there is a way to compute the number of nested values\n",
    "(`4` in the above example), this is left as an advanced exercise.\n",
    "\n",
    "## Indexing and Slicing\n",
    "\n",
    "Lists are *ordered* collections of values. It is sometimes necessary to\n",
    "work with a particular value within a list, requiring us to extract that\n",
    "value from the list. This “extract” operation is known as indexing. For\n",
    "example, if you wish to work with the second element of a list you would\n",
    "need to *index* the list at a particular *offset* from the beginning of\n",
    "the list.\n",
    "\n",
    "The beginning of the list is at an offset of *zero* elements from the\n",
    "beginning of the list. So in order to “extract” the first element of a\n",
    "list, we index it at `0` using the *index operator*: `[]`."
   ],
   "id": "f04f50bd-4857-431b-ad23-b0c890f68e61"
  },
  {
   "cell_type": "code",
   "execution_count": null,
   "metadata": {},
   "outputs": [],
   "source": [
    "my_list = ['A', 'E', 'I', 'O', 'U', 'Y']\n",
    "my_list[0]"
   ],
   "id": "5a6133b7-8f8d-4415-a4c3-407c386b88a5"
  },
  {
   "cell_type": "markdown",
   "metadata": {},
   "source": [
    "The second element the list is at *index* `1` and so on.\n",
    "\n",
    "``` python\n",
    "my_list[1]\n",
    "```\n",
    "\n",
    "You can replace a value in a list by combining the index operator with\n",
    "the assignment operator."
   ],
   "id": "9ea711f1-7578-4987-a373-4cbde6f860ef"
  },
  {
   "cell_type": "code",
   "execution_count": null,
   "metadata": {},
   "outputs": [],
   "source": [
    "my_list[0] = 42\n",
    "my_list"
   ],
   "id": "89c18bba-fd3c-4e00-9f16-4bfc2a086cc6"
  },
  {
   "cell_type": "markdown",
   "metadata": {},
   "source": [
    "*Slicing* is a generalisation of *indexing* which allows you to view a\n",
    "*slice* of the list. If you think of the list as a loaf of bread, you\n",
    "can slice out a part of the loaf as small or as large as you like.\n",
    "\n",
    "``` python\n",
    "my_list[start_index : end_index : step]\n",
    "```\n",
    "\n",
    "Here are some examples of indexing and slicing. Try to guess the output\n",
    "before you execute each cell."
   ],
   "id": "ea72afc8-2b91-48ac-b143-80849f8225dd"
  },
  {
   "cell_type": "code",
   "execution_count": null,
   "metadata": {},
   "outputs": [],
   "source": [
    "my_list[1]"
   ],
   "id": "9236aecc-b92e-4c91-818d-9b2a1bf97799"
  },
  {
   "cell_type": "code",
   "execution_count": null,
   "metadata": {},
   "outputs": [],
   "source": [
    "my_list[54]"
   ],
   "id": "46edbd0a-3fc7-4982-8855-30d9d51201d0"
  },
  {
   "cell_type": "code",
   "execution_count": null,
   "metadata": {},
   "outputs": [],
   "source": [
    "my_list[1:2]"
   ],
   "id": "cfccc2b7-29cb-4d29-940e-a9f814e6e82a"
  },
  {
   "cell_type": "code",
   "execution_count": null,
   "metadata": {},
   "outputs": [],
   "source": [
    "my_list[1:3]"
   ],
   "id": "f7b579dd-e9e3-467d-98cf-e8d358863fdb"
  },
  {
   "cell_type": "markdown",
   "metadata": {},
   "source": [
    "Notice that the slicing operation always stops just short of the *end\n",
    "index*."
   ],
   "id": "c9e79797-93ab-4c38-8554-8db252ca613e"
  },
  {
   "cell_type": "code",
   "execution_count": null,
   "metadata": {},
   "outputs": [],
   "source": [
    "my_list[-1]"
   ],
   "id": "fe83a533-01bf-45e8-95cb-24acfc65d85e"
  },
  {
   "cell_type": "code",
   "execution_count": null,
   "metadata": {},
   "outputs": [],
   "source": [
    "my_list[3:-1]"
   ],
   "id": "679697cb-9898-4aad-841e-81dbe1106880"
  },
  {
   "cell_type": "markdown",
   "metadata": {},
   "source": [
    "There is a special shortcut for slicing *from the beginning* or *to the\n",
    "end*:"
   ],
   "id": "30022e84-f72f-4013-85ff-02c298218159"
  },
  {
   "cell_type": "code",
   "execution_count": null,
   "metadata": {},
   "outputs": [],
   "source": [
    "my_list[:3]"
   ],
   "id": "f6d20db4-716f-4d68-98bf-3c640e488f7b"
  },
  {
   "cell_type": "code",
   "execution_count": null,
   "metadata": {},
   "outputs": [],
   "source": [
    "my_list[3:]"
   ],
   "id": "ebf9e3b2-2365-4209-840b-9a88957de24a"
  },
  {
   "cell_type": "code",
   "execution_count": null,
   "metadata": {},
   "outputs": [],
   "source": [
    "my_list[:-4]"
   ],
   "id": "e0a6ca93-99df-44db-bee1-f6e8d16453a1"
  },
  {
   "cell_type": "code",
   "execution_count": null,
   "metadata": {},
   "outputs": [],
   "source": [
    "my_list[-4:]"
   ],
   "id": "be2687a7-2db9-4ae3-9972-7b1d28afbad3"
  },
  {
   "cell_type": "markdown",
   "metadata": {},
   "source": [
    "You can copy the whole list using the slicing operator."
   ],
   "id": "109d2778-9c46-4c13-872b-f8e83f795d66"
  },
  {
   "cell_type": "code",
   "execution_count": null,
   "metadata": {},
   "outputs": [],
   "source": [
    "a_copy = my_list[:]\n",
    "a_copy"
   ],
   "id": "f8ce2b21-53b9-4d21-a2d0-c2bf891887a9"
  },
  {
   "cell_type": "markdown",
   "metadata": {},
   "source": [
    "Rather than slicing every element in the range, you can slice every\n",
    "step-th element."
   ],
   "id": "eca9db79-86d8-47eb-8549-a9d75431adac"
  },
  {
   "cell_type": "code",
   "execution_count": null,
   "metadata": {},
   "outputs": [],
   "source": [
    "my_list[::2]"
   ],
   "id": "805342e6-92ab-4098-b6f0-8ec7121780ec"
  },
  {
   "cell_type": "markdown",
   "metadata": {},
   "source": [
    "What would this do?"
   ],
   "id": "6e334ac1-589c-4111-bd33-102ddc663fc1"
  },
  {
   "cell_type": "code",
   "execution_count": null,
   "metadata": {},
   "outputs": [],
   "source": [
    "my_list[::-1]"
   ],
   "id": "79ceaa29-53bc-4d3c-b592-3c4d51b1b436"
  },
  {
   "cell_type": "markdown",
   "metadata": {},
   "source": [
    "You can also assign to slices."
   ],
   "id": "53676d60-0fa4-4393-8c36-acc78f048e2e"
  },
  {
   "cell_type": "code",
   "execution_count": null,
   "metadata": {},
   "outputs": [],
   "source": [
    "my_list[4:] = [2, 1, 0]\n",
    "my_list"
   ],
   "id": "9b3f62d3-7a58-4e6b-a01c-301d6dfb78a9"
  },
  {
   "cell_type": "markdown",
   "metadata": {},
   "source": [
    "Be careful when assigning to slices when the step is not `1`."
   ],
   "id": "2d35a8f4-1bfe-42ca-add4-bf067a2a1d90"
  },
  {
   "cell_type": "code",
   "execution_count": null,
   "metadata": {},
   "outputs": [],
   "source": [
    "my_list[::2] = ['a', 'e', 'i', 'o', 'u']\n",
    "my_list"
   ],
   "id": "b03eeaf4-5f02-471a-a953-3bc9a31af999"
  },
  {
   "cell_type": "markdown",
   "metadata": {},
   "source": [
    "------------------------------------------------------------------------\n",
    "\n",
    "### Exercise 5-2: Slicing nested lists\n",
    "\n",
    "Write a function that accepts a nested list as an argument and returns\n",
    "the original list with second element reversed. For example, given input\n",
    "`[[1, 2], [3, 4]]`, return `[[1, 2], [4, 3]]`."
   ],
   "id": "6d445c96-93ba-446c-b68f-56f5d6463db2"
  },
  {
   "cell_type": "code",
   "execution_count": null,
   "metadata": {},
   "outputs": [],
   "source": [
    "def reverse_second(arg):\n",
    "    \"Reverse the second element of a nested list.\"\n",
    "    if len(arg) >= 2:\n",
    "        return _\n",
    "    else:\n",
    "        return _\n",
    "\n",
    "assert reverse_second([[1]]) == [[1]], \"Expected [[1]], got: \" + str(reverse_second([[1]]))\n",
    "assert reverse_second([[1], [2]]) == [[1], [2]], \"Expected [[1], [2]], got: \" + str(reverse_second([[1], [2]]))\n",
    "assert reverse_second([[1, 5], [10, 9, 8]]) == [[1, 5], [8, 9, 10]], \"Expected [[1, 5], [8, 9, 10]], got: \" + str(reverse_second([[1, 5], [10, 9, 8]]))\n",
    "assert reverse_second([1, ['h', 'e', 'l', 'l', 'o'], 2]) == [1, ['o', 'l', 'l', 'e', 'h'], 2], \"Expected [1, ['o', 'l', 'l', 'e', 'h'], 2], got: \" + str(reverse_second([1, ['h', 'e', 'l', 'l', 'o'], 2]))"
   ],
   "id": "c3110256-e148-4aea-9896-bf2a83edfd39"
  },
  {
   "cell_type": "markdown",
   "metadata": {},
   "source": [
    "------------------------------------------------------------------------\n",
    "\n",
    "### Exercise 5-3: Sliced FizzBuzz\n",
    "\n",
    "Slicing presents a possible solution to playing the FizzBuzz game: slice\n",
    "starting at the 3$^{rd}$ element of a list with a `step` of 3, assign an\n",
    "appropriately sized list of `[\"Fizz\"]` strings. The same for 5. Write a\n",
    "function, called `fizzbuzz4()` that attempts to play the Fizz Buzz game\n",
    "in this way. The input will be a list containing the counted numbers,\n",
    "you should use slicing to replace the appropriate numbers with `\"Fizz\"`\n",
    "or `\"Buzz\"`."
   ],
   "id": "c79dc03f-26a6-4b86-b944-f8ec80ef0db0"
  },
  {
   "cell_type": "code",
   "execution_count": null,
   "metadata": {},
   "outputs": [],
   "source": [
    "def fizzbuzz4(counted):\n",
    "    counted[_:_:3] = [\"Fizz\"] * (len(counted) // 3)\n",
    "    counted[_:_:5] = [\"Buzz\"] * (len(counted) // 5)\n",
    "    return counted\n",
    "\n",
    "fizzbuzz4([1, 2, 3, 4, 5, 6, 7, 8, 9, 10, 11, 12, 13, 14, 15])"
   ],
   "id": "1cbfafe4-ec7d-4a11-8160-2d414bc7ce22"
  },
  {
   "cell_type": "markdown",
   "metadata": {},
   "source": [
    "Does `fizzbuzz4()` correctly play the Fizz Buzz game? If not, what is\n",
    "wrong with this solution? Can you fix it?\n",
    "\n",
    "[Advanced question](Advanced%20Exercises.ipynb#5-2)\n",
    "\n",
    "------------------------------------------------------------------------\n",
    "\n",
    "## Operating on Lists and using Python utilities\n",
    "\n",
    "In the following section we will use the `operator` library which is\n",
    "part of the Python standard library (if you’re interested, see the\n",
    "documentation [here](https://docs.python.org/3/library/operator.html)).\n",
    "The `operator` library defines functions that are equivalent to the\n",
    "usual operators you’ve seen so far (e.g. `+`, `*`, *indexing*, etc.).\n",
    "Let’s begin by importing the `operator` library."
   ],
   "id": "b5dd7c0c-9da8-4607-86cb-11d8ce6c7132"
  },
  {
   "cell_type": "code",
   "execution_count": null,
   "metadata": {},
   "outputs": [],
   "source": [
    "import operator"
   ],
   "id": "4572a98e-5848-49aa-9d21-b29b5d7a6a85"
  },
  {
   "cell_type": "markdown",
   "metadata": {},
   "source": [
    "As you progress through the course we will use other facilities provided\n",
    "by the Python standard library. It’s very useful to be aware of them so\n",
    "that you don’t need to re-invent what is already available.\n",
    "\n",
    "You might already appreciate the utility of lists, if not the next few\n",
    "exercises aim to demonstrate how they can be useful. In order to\n",
    "complete the next exercises you will need to know how to perform some\n",
    "operations on lists as a whole. Here are 3 new things to become\n",
    "acquainted with:\n",
    "\n",
    "-   The `sorted()` function sorts lists\n",
    "-   The `in` operator checks if a value is contained in a list.\n",
    "-   `operator.itemgetter()` is a function that behaves like the index\n",
    "    (`[]`) operator.\n",
    "\n",
    "The first 2 definitions are available to you without needing to `import`\n",
    "a library. Let us experiment to see what they do."
   ],
   "id": "197193c4-4870-4416-a08c-f751395d38b1"
  },
  {
   "cell_type": "code",
   "execution_count": null,
   "metadata": {},
   "outputs": [],
   "source": [
    "6 in [1, 3, 5, 7, 9]"
   ],
   "id": "22b47a7e-399e-45f6-b89b-48ff7d1231d9"
  },
  {
   "cell_type": "code",
   "execution_count": null,
   "metadata": {},
   "outputs": [],
   "source": [
    "8 in [2, 4, 6, 8, 10]"
   ],
   "id": "04722376-2f8b-4765-a908-a26b8bc4e72f"
  },
  {
   "cell_type": "code",
   "execution_count": null,
   "metadata": {},
   "outputs": [],
   "source": [
    "sorted([5, 10, 2, 7, 1])"
   ],
   "id": "7d4a1403-c130-481a-978c-9c708b6096ef"
  },
  {
   "cell_type": "code",
   "execution_count": null,
   "metadata": {},
   "outputs": [],
   "source": [
    "sorted([[5], [10], [2], [7], [1]])"
   ],
   "id": "238b5ff7-e8fe-45dd-afb5-2b5a0c583c21"
  },
  {
   "cell_type": "markdown",
   "metadata": {},
   "source": [
    "We can customise the behaviour of the `sorted()` function because it\n",
    "takes 2 *optional* named arguments: `reverse` to sort in reverse order,\n",
    "and `key` to extract the value to sort from a structure. One structure\n",
    "you may wish to extract a sort key from is another list, say:"
   ],
   "id": "02357a2b-dd6f-497c-9ce1-4fb1866103a3"
  },
  {
   "cell_type": "code",
   "execution_count": null,
   "metadata": {},
   "outputs": [],
   "source": [
    "song = [[\"french hens\", 3],\n",
    "        [\"ladies dancing\", 9],\n",
    "        [\"pipers piping\", 11],\n",
    "        [\"swans a-swimming\", 7],\n",
    "        [\"geese a-laying\", 6],\n",
    "        [\"turtle doves\", 2],\n",
    "        [\"calling birds\", 4],\n",
    "        [\"maids a-milking\", 8],\n",
    "        [\"drummers drumming\", 12],\n",
    "        [\"lords a-leaping\", 10],\n",
    "        [\"gold rings\", 5],\n",
    "        [\"partridge in a pear tree\", 1]]"
   ],
   "id": "9e92acb4-a5fd-49e7-88fa-cc7b75702d21"
  },
  {
   "cell_type": "markdown",
   "metadata": {},
   "source": [
    "Simply sorting this will not do what we want."
   ],
   "id": "9d99a53e-4eb9-461c-bbcb-5d7ef2a0ff70"
  },
  {
   "cell_type": "code",
   "execution_count": null,
   "metadata": {},
   "outputs": [],
   "source": [
    "sorted(song)"
   ],
   "id": "49ddbf16-3bdd-496e-9128-25cb8cb73312"
  },
  {
   "cell_type": "markdown",
   "metadata": {},
   "source": [
    "Instead of sorting on the first element of each nested list you need to\n",
    "sort on the second element: the number of each gift. The `key` argument\n",
    "requires a function. This function is given each nested list and it\n",
    "should return the value with which to sort. This is the index operator,\n",
    "`[]`. But the index operator is not a function. This is where the\n",
    "`operator` library is useful."
   ],
   "id": "e1d07e77-5031-486d-9789-a7324583353b"
  },
  {
   "cell_type": "code",
   "execution_count": null,
   "metadata": {},
   "outputs": [],
   "source": [
    "sorted(song, key=operator.itemgetter(1))"
   ],
   "id": "18012cb1-9c41-4e30-9f19-6e8ecdb6e0ca"
  },
  {
   "cell_type": "markdown",
   "metadata": {},
   "source": [
    "This sorts the song correctly. Finally, sorting in reverse:"
   ],
   "id": "0b2148d6-045f-4107-8a14-a293a9ae5283"
  },
  {
   "cell_type": "code",
   "execution_count": null,
   "metadata": {},
   "outputs": [],
   "source": [
    "sorted(song, key=operator.itemgetter(1), reverse=True)"
   ],
   "id": "a534da5a-f90b-4052-97a6-07a62759e64f"
  },
  {
   "cell_type": "markdown",
   "metadata": {},
   "source": [
    "------------------------------------------------------------------------\n",
    "\n",
    "### Exercise 5-4: Bronze medal\n",
    "\n",
    "Write a function that accepts a list of scores (highest is better) and\n",
    "return the score of third place (bronze medal)."
   ],
   "id": "a6372065-a033-48f5-b929-f9b79848aaf3"
  },
  {
   "cell_type": "code",
   "execution_count": null,
   "metadata": {},
   "outputs": [],
   "source": [
    "def bronze_medal(scores):\n",
    "    return _\n",
    "\n",
    "assert bronze_medal([0, 2, 1]) == 0, \"Expected: 0, got: \" + str(bronze_medal([0, 2, 1]))\n",
    "assert bronze_medal([54,56,2,1,5223,6,23,57,3,7,3344]) == 57, \"Expected: 57, got: \" + str(bronze_medal([54,56,2,1,5223,6,23,57,3,7,3344]))"
   ],
   "id": "1ad20bb7-2277-4b8e-8c86-962cf7209a68"
  },
  {
   "cell_type": "markdown",
   "metadata": {},
   "source": [
    "------------------------------------------------------------------------\n",
    "\n",
    "### Exercise 5-5: Citations\n",
    "\n",
    "You’re given a list containing some data. Each element of the list is\n",
    "another list containing 2 values: the name of a country, and the average\n",
    "number of citations per citable document produced within that country.\n",
    "Write a function that takes this list as an argument and returns the\n",
    "name of the country with the second highest number of average citations.\n",
    "<!-- Data are from: https://www.scimagojr.com/countryrank.php?order=cd&ord=desc -->"
   ],
   "id": "45e30163-ba12-42d5-aef1-acd87ba17f82"
  },
  {
   "cell_type": "code",
   "execution_count": null,
   "metadata": {},
   "outputs": [],
   "source": [
    "assert second_highest([['A', 1.0], ['B', 0.5]]) == \"B\", \"Expected: 'B', got: \" + str(second_highest([['A', 1.0], ['B', 0.5]]))\n",
    "assert second_highest([\n",
    "    ['Netherlands Antilles', 38.46],\n",
    "    ['Tokelau', 51.9],\n",
    "    ['Seychelles', 33.56],\n",
    "    ['Anguilla', 133.98],\n",
    "    ['Saint Lucia', 37.31],\n",
    "    ['Panama', 37.87],\n",
    "    ['Bermuda', 43.33],\n",
    "    ['Federated States of Micronesia', 85.49],\n",
    "    ['Gambia', 42.14],\n",
    "    ['Belize', 41.59]]) == 'Federated States of Micronesia'"
   ],
   "id": "eeec8a20-066a-4903-8abd-1b6694c318be"
  },
  {
   "cell_type": "markdown",
   "metadata": {},
   "source": [
    "[Advanced question](Advanced%20Exercises.ipynb#5-5)\n",
    "\n",
    "------------------------------------------------------------------------\n",
    "\n",
    "## Chapter Review\n",
    "\n",
    "In this chapter you learned how to store multiple values into an\n",
    "ordered, mutable collection called a `list`. You learned how to access\n",
    "individual values and slices of values. You also learned how to sort\n",
    "lists and check for membership in a list.\n",
    "\n",
    "## Review Questions\n",
    "\n",
    "1.  What are lists used for?\n",
    "    <details>\n",
    "    <summary>\n",
    "    Answer\n",
    "    </summary>\n",
    "    To collect values together.\n",
    "    </details>\n",
    "2.  What does it mean for a list to be mutable?\n",
    "    <details>\n",
    "    <summary>\n",
    "    Answer\n",
    "    </summary>\n",
    "    A value can be changed after creation. The assignment operator (`=`)\n",
    "    works.\n",
    "    </details>\n",
    "3.  Is a string (`str`) like a list?\n",
    "    <details>\n",
    "    <summary>\n",
    "    Answer\n",
    "    </summary>\n",
    "    Yes. In the sense that strings can be indexed and sliced. They’re\n",
    "    collections of only characters though. And strings are immutable.\n",
    "    You cannot assign to a string index.\n",
    "    </details>\n",
    "4.  What is *slicing*?\n",
    "    <details>\n",
    "    <summary>\n",
    "    Answer\n",
    "    </summary>\n",
    "    Slicing is a way to access ranges of elements in a list (or string).\n",
    "    </details>\n",
    "5.  Can you turn a string into a list of characters?\n",
    "    <details>\n",
    "    <summary>\n",
    "    Answer\n",
    "    </summary>\n",
    "    Yes using the `list()` function.\n",
    "    </details>\n",
    "\n",
    "## References\n",
    "\n",
    "1.  Zen of Python: https://www.python.org/dev/peps/pep-0020/\n",
    "\n",
    "## Supporting material\n",
    "\n",
    "-   [Automate the Boring Stuff with Python, Chapter\n",
    "    4](http://automatetheboringstuff.com/2e/chapter4/)\n",
    "-   [Automate the Boring Stuff with Python video course, Lesson\n",
    "    13](https://youtu.be/5n6o1MaXDoE)\n",
    "-   [Real Python: Lists and\n",
    "    Tuples](https://realpython.com/python-lists-tuples/)\n",
    "-   [How to Design Programs, Chapter\n",
    "    6](https://htdp.org/2003-09-26/Book/curriculum-Z-H-9.html#node_chap_6)\n",
    "-   [Programming Python, Chapter\n",
    "    14](https://www.linuxtopia.org/online_books/programming_books/python_programming/python_ch14.html)\n",
    "\n",
    "Click [here](06_Loops.ipynb) to go to the next chapter."
   ],
   "id": "7e7550a2-d22c-43a7-96fb-361a2fb7d3a4"
  }
 ],
 "nbformat": 4,
 "nbformat_minor": 5,
 "metadata": {
  "kernelspec": {
   "name": "python3",
   "display_name": "Python 3 (ipykernel)",
   "language": "python"
  },
  "language_info": {
   "name": "python",
   "codemirror_mode": {
    "name": "ipython",
    "version": "3"
   },
   "file_extension": ".py",
   "mimetype": "text/x-python",
   "nbconvert_exporter": "python",
   "pygments_lexer": "ipython3",
   "version": "3.11.0"
  }
 }
}
