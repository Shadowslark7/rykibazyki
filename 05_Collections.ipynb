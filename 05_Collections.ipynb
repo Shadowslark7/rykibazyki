{
 "cells": [
  {
   "cell_type": "markdown",
   "metadata": {},
   "source": [
    "# Collecting things together\n",
    "\n",
    "> *“Simple is better than\n",
    "> complex.”*<sup><a href=\"#References\">1</a></sup>\n",
    "\n",
    "## Lists\n",
    "\n",
    "So far we’ve seen how to store a single value in a variable that you can\n",
    "use in your program. It is also possible to assign a *collection* of\n",
    "values to a name. In Python, *lists* are a common example of such\n",
    "collections.\n",
    "\n",
    "A list is an *ordered* collection of arbitrary python values. Even other\n",
    "lists! A list inside another list is called a *nested list*. This is\n",
    "similar to a shopping list. My shopping list sometimes looks like this:\n",
    "\n",
    "> -   Apples\n",
    "> -   Milk\n",
    "> -   Dinner:\n",
    ">     -   Chicken\n",
    ">     -   Chips\n",
    ">     -   Salad\n",
    "> -   Snacks\n",
    "\n",
    "You can make a list in Python by seperating each value in a list with\n",
    "commas and placing these between square `[]` brackets."
   ],
   "id": "03a35ff2-c625-41d7-8ec4-c81a5f04c5bb"
  },
  {
   "cell_type": "code",
   "execution_count": null,
   "metadata": {},
   "outputs": [],
   "source": [
    "# My shopping list in Python\n",
    "[\"Apples\", \"Milk\", [\"Chicken\", \"Chips\", \"Salad\"], \"Snacks\"]"
   ],
   "id": "1103973c-d164-4c71-bd65-d5ff94dadb72"
  },
  {
   "cell_type": "markdown",
   "metadata": {},
   "source": [
    "The type of values in a list can be heterogeneous."
   ],
   "id": "49f9460a-58e8-44a9-9f10-645f09abd03f"
  },
  {
   "cell_type": "code",
   "execution_count": null,
   "metadata": {},
   "outputs": [],
   "source": [
    "[1, 2, \"Fizz\", 4, \"Buzz\"]"
   ],
   "id": "4ed1fe84-c358-4bca-bb27-9269e95e7c3e"
  },
  {
   "cell_type": "markdown",
   "metadata": {},
   "source": [
    "Lists can be arbitrarily nested."
   ],
   "id": "4e1e6c2e-c28b-4356-92bb-d401c2084bb8"
  },
  {
   "cell_type": "code",
   "execution_count": null,
   "metadata": {},
   "outputs": [],
   "source": [
    "[[\"foo\"], \"bar\", [[\"baz\"], \"zoom\"]]"
   ],
   "id": "e4026031-800b-4eda-ac59-dc3b327f5fb3"
  },
  {
   "cell_type": "code",
   "execution_count": null,
   "metadata": {},
   "outputs": [],
   "source": [
    "[1, [2, 2, [3, 3, 3, [4, 4, 4, 4]]]]"
   ],
   "id": "717c0432-7195-4200-ae4d-2112384efaf1"
  },
  {
   "cell_type": "markdown",
   "metadata": {},
   "source": [
    "You can annotate the type of *homogeneous* lists."
   ],
   "id": "68b31288-aa08-4d87-aa57-a354ed691030"
  },
  {
   "cell_type": "code",
   "execution_count": null,
   "metadata": {},
   "outputs": [],
   "source": [
    "mylist: list[int] = [2, 4, 6, 8]\n",
    "mylist"
   ],
   "id": "e1ec0a14-de5d-44d5-929c-0f674aa9a23a"
  },
  {
   "cell_type": "markdown",
   "metadata": {},
   "source": [
    "You can *combine* lists together with the `+` operator."
   ],
   "id": "158c9e46-d7f2-4ce6-a4cc-c7134d0c0ebf"
  },
  {
   "cell_type": "code",
   "execution_count": null,
   "metadata": {},
   "outputs": [],
   "source": [
    "[1, 2] + [3, 4]"
   ],
   "id": "75d4f326-4218-4417-b03e-d999c1509141"
  },
  {
   "cell_type": "markdown",
   "metadata": {},
   "source": [
    "This gives you a way to *append* to a list. We will use this pattern a\n",
    "lot during this course."
   ],
   "id": "597147de-6089-4e3c-8ce5-2a51df74cb9d"
  },
  {
   "cell_type": "code",
   "execution_count": null,
   "metadata": {},
   "outputs": [],
   "source": [
    "mylist: list[int] = [1, 2, 3]\n",
    "mylist = mylist + [4, 5]\n",
    "mylist"
   ],
   "id": "8ac32799-a2e7-4b48-9a87-67bbbcbe7c53"
  },
  {
   "cell_type": "markdown",
   "metadata": {},
   "source": [
    "You can even *multiply* a list by an integer."
   ],
   "id": "a99356c9-2c05-4d27-b902-c83ff1fbfa84"
  },
  {
   "cell_type": "code",
   "execution_count": null,
   "metadata": {},
   "outputs": [],
   "source": [
    "[1, 2, 3] * 2"
   ],
   "id": "2d197c1b-359b-465d-a5aa-8c7f000732cd"
  },
  {
   "cell_type": "markdown",
   "metadata": {},
   "source": [
    "------------------------------------------------------------------------\n",
    "\n",
    "### Exercise 5-1: More FizzBuzz\n",
    "\n",
    "Write a function called `fizzbuzz3()` that returns a list containing the\n",
    "FizzBuzz game played up to 15."
   ],
   "id": "215defd8-023c-4787-ac88-843f643dc470"
  },
  {
   "cell_type": "code",
   "execution_count": null,
   "metadata": {},
   "outputs": [],
   "source": [
    "def fizzbuzz3():\n",
    "    \"Play the Fizz Buzz game up to 15.\"\n",
    "    return _\n",
    "\n",
    "fizzbuzz3()"
   ],
   "id": "962d5b0c-811b-4fc3-9077-d1ea64dad831"
  },
  {
   "cell_type": "markdown",
   "metadata": {},
   "source": [
    "[Advanced question](Advanced%20Exercises.ipynb#5-1)\n",
    "\n",
    "------------------------------------------------------------------------\n",
    "\n",
    "## What’s the length?\n",
    "\n",
    "What is the length of this list `[1, [2, [3, 4]]]`? If you say `2`,\n",
    "you’re right. If you say `4`, you’re also right! However, Python only\n",
    "agrees with you if you said `2`. This is because Python does not look at\n",
    "the structure of the values in a list. So when you ask Python,\n",
    "`len([1, [2, [3, 4]]])`? Python sees, `len([💩, 💩])`."
   ],
   "id": "534cd3ff-a0bc-4167-a672-0883aba5b1bf"
  },
  {
   "cell_type": "code",
   "execution_count": null,
   "metadata": {},
   "outputs": [],
   "source": [
    "len([1, [2, [3, 4]]])"
   ],
   "id": "8442335c-10f7-4b06-a144-b26cf3aca679"
  },
  {
   "cell_type": "markdown",
   "metadata": {},
   "source": [
    "You may wonder if there is a way to compute the number of nested values\n",
    "(`4` in the above example), this is left as an advanced exercise.\n",
    "\n",
    "## Indexing and Slicing\n",
    "\n",
    "Lists are *ordered* collections of values. It is sometimes necessary to\n",
    "work with a particular value within a list, requiring us to extract that\n",
    "value from the list. This “extract” operation is known as indexing. For\n",
    "example, if you wish to work with the second element of a list you would\n",
    "need to *index* the list at a particular *offset* from the beginning of\n",
    "the list.\n",
    "\n",
    "The beginning of the list is at an offset of *zero* elements from the\n",
    "beginning of the list. So in order to “extract” the first element of a\n",
    "list, we index it at `0` using the *index operator*: `[]`."
   ],
   "id": "5abd54d3-04c6-45c2-85d5-3d66195b00d0"
  },
  {
   "cell_type": "code",
   "execution_count": null,
   "metadata": {},
   "outputs": [],
   "source": [
    "my_list = ['A', 'E', 'I', 'O', 'U', 'Y']\n",
    "my_list[0]"
   ],
   "id": "9d38f726-2555-4843-9957-e36a92726e9f"
  },
  {
   "cell_type": "markdown",
   "metadata": {},
   "source": [
    "The second element the list is at *index* `1` and so on.\n",
    "\n",
    "``` python\n",
    "my_list[1]\n",
    "```\n",
    "\n",
    "You can replace a value in a list by combining the index operator with\n",
    "the assignment operator."
   ],
   "id": "557f48ac-04a2-4dd0-a3b6-995e0a32c8ad"
  },
  {
   "cell_type": "code",
   "execution_count": null,
   "metadata": {},
   "outputs": [],
   "source": [
    "my_list[0] = 42\n",
    "my_list"
   ],
   "id": "5feb3f3b-7f42-4569-b9ff-1a79968bd34b"
  },
  {
   "cell_type": "markdown",
   "metadata": {},
   "source": [
    "*Slicing* is a generalisation of *indexing* which allows you to view a\n",
    "*slice* of the list. If you think of the list as a loaf of bread, you\n",
    "can slice out a part of the loaf as small or as large as you like.\n",
    "\n",
    "``` python\n",
    "my_list[start_index : end_index : step]\n",
    "```\n",
    "\n",
    "Here are some examples of indexing and slicing. Try to guess the output\n",
    "before you execute each cell."
   ],
   "id": "1b87372b-b11a-4818-81fd-401ed0a68f19"
  },
  {
   "cell_type": "code",
   "execution_count": null,
   "metadata": {},
   "outputs": [],
   "source": [
    "my_list[1]"
   ],
   "id": "2d78ecb3-34a2-41f3-b481-ec6464754a04"
  },
  {
   "cell_type": "code",
   "execution_count": null,
   "metadata": {},
   "outputs": [],
   "source": [
    "my_list[54]"
   ],
   "id": "caf3e459-ec1e-4f7c-bc33-ddf7ac336452"
  },
  {
   "cell_type": "code",
   "execution_count": null,
   "metadata": {},
   "outputs": [],
   "source": [
    "my_list[1:2]"
   ],
   "id": "698758fd-6c1a-4b74-a23e-74a006afdf6c"
  },
  {
   "cell_type": "code",
   "execution_count": null,
   "metadata": {},
   "outputs": [],
   "source": [
    "my_list[1:3]"
   ],
   "id": "2f55cb1f-24d0-43ad-bea7-b4f91e2d2bfe"
  },
  {
   "cell_type": "markdown",
   "metadata": {},
   "source": [
    "Notice that the slicing operation always stops just short of the *end\n",
    "index*."
   ],
   "id": "ce5eb871-e46d-4f9f-8416-30014fe62e56"
  },
  {
   "cell_type": "code",
   "execution_count": null,
   "metadata": {},
   "outputs": [],
   "source": [
    "my_list[-1]"
   ],
   "id": "c9a0edb2-efa9-4c47-9e66-f01e7ba2f2eb"
  },
  {
   "cell_type": "code",
   "execution_count": null,
   "metadata": {},
   "outputs": [],
   "source": [
    "my_list[3:-1]"
   ],
   "id": "898ff914-42e6-45bc-9c0c-0ba9beffecc5"
  },
  {
   "cell_type": "markdown",
   "metadata": {},
   "source": [
    "There is a special shortcut for slicing *from the beginning* or *to the\n",
    "end*:"
   ],
   "id": "2842621f-be61-4f96-8c1b-6e0b9b6feacb"
  },
  {
   "cell_type": "code",
   "execution_count": null,
   "metadata": {},
   "outputs": [],
   "source": [
    "my_list[:3]"
   ],
   "id": "bf1cdb80-e2c0-4127-a44f-cdbc3d63cb4a"
  },
  {
   "cell_type": "code",
   "execution_count": null,
   "metadata": {},
   "outputs": [],
   "source": [
    "my_list[3:]"
   ],
   "id": "8a64a319-ad2a-4be8-b931-4e30033dcea1"
  },
  {
   "cell_type": "code",
   "execution_count": null,
   "metadata": {},
   "outputs": [],
   "source": [
    "my_list[:-4]"
   ],
   "id": "48f948c9-e01d-4d26-b9b2-6fe875976650"
  },
  {
   "cell_type": "code",
   "execution_count": null,
   "metadata": {},
   "outputs": [],
   "source": [
    "my_list[-4:]"
   ],
   "id": "8b84965a-51aa-494f-b193-d5d32437cdfa"
  },
  {
   "cell_type": "markdown",
   "metadata": {},
   "source": [
    "You can copy the whole list using the slicing operator."
   ],
   "id": "ea2ea26e-0733-4c08-9f9f-dae6dd4b6ef8"
  },
  {
   "cell_type": "code",
   "execution_count": null,
   "metadata": {},
   "outputs": [],
   "source": [
    "a_copy = my_list[:]\n",
    "a_copy"
   ],
   "id": "ff12833c-0616-45b3-b95e-37aa55bcf4a8"
  },
  {
   "cell_type": "markdown",
   "metadata": {},
   "source": [
    "Rather than slicing every element in the range, you can slice every\n",
    "step-th element."
   ],
   "id": "063a163f-6aba-4bcf-84d2-5cdf52df0c9e"
  },
  {
   "cell_type": "code",
   "execution_count": null,
   "metadata": {},
   "outputs": [],
   "source": [
    "my_list[::2]"
   ],
   "id": "f71e823a-4203-4df3-820e-c72b0ee94238"
  },
  {
   "cell_type": "markdown",
   "metadata": {},
   "source": [
    "What would this do?"
   ],
   "id": "736222eb-7044-4198-80b9-8052383eccd8"
  },
  {
   "cell_type": "code",
   "execution_count": null,
   "metadata": {},
   "outputs": [],
   "source": [
    "my_list[::-1]"
   ],
   "id": "3b4769b5-1599-4f79-a56e-06b242f49ac4"
  },
  {
   "cell_type": "markdown",
   "metadata": {},
   "source": [
    "You can also assign to slices."
   ],
   "id": "0bb40b78-208e-46cd-983a-4f3d7f990006"
  },
  {
   "cell_type": "code",
   "execution_count": null,
   "metadata": {},
   "outputs": [],
   "source": [
    "my_list[4:] = [2, 1, 0]\n",
    "my_list"
   ],
   "id": "33657e86-0899-40fa-b218-9d8cdd5c1fdb"
  },
  {
   "cell_type": "markdown",
   "metadata": {},
   "source": [
    "Be careful when assigning to slices when the step is not `1`."
   ],
   "id": "2de7fa1d-1bfb-46d8-84ca-25ecbbe8a2d8"
  },
  {
   "cell_type": "code",
   "execution_count": null,
   "metadata": {},
   "outputs": [],
   "source": [
    "my_list[::2] = ['a', 'e', 'i', 'o', 'u']\n",
    "my_list"
   ],
   "id": "2e198621-59d8-4a9a-849b-2e7c6d75b3a6"
  },
  {
   "cell_type": "markdown",
   "metadata": {},
   "source": [
    "------------------------------------------------------------------------\n",
    "\n",
    "### Exercise 5-2: Slicing nested lists\n",
    "\n",
    "Write a function that accepts a nested list as an argument and returns\n",
    "the original list with second element reversed. For example, given input\n",
    "`[[1, 2], [3, 4]]`, return `[[1, 2], [4, 3]]`."
   ],
   "id": "340a0f1a-50da-4a4c-a14e-144b9dd77b7b"
  },
  {
   "cell_type": "code",
   "execution_count": null,
   "metadata": {},
   "outputs": [],
   "source": [
    "def reverse_second(arg):\n",
    "    \"Reverse the second element of a nested list.\"\n",
    "    if len(arg) >= 2:\n",
    "        return _\n",
    "    else:\n",
    "        return _\n",
    "\n",
    "assert reverse_second([[1]]) == [[1]], \"Expected [[1]], got: \" + str(reverse_second([[1]]))\n",
    "assert reverse_second([[1], [2]]) == [[1], [2]], \"Expected [[1], [2]], got: \" + str(reverse_second([[1], [2]]))\n",
    "assert reverse_second([[1, 5], [10, 9, 8]]) == [[1, 5], [8, 9, 10]], \"Expected [[1, 5], [8, 9, 10]], got: \" + str(reverse_second([[1, 5], [10, 9, 8]]))\n",
    "assert reverse_second([1, ['h', 'e', 'l', 'l', 'o'], 2]) == [1, ['o', 'l', 'l', 'e', 'h'], 2], \"Expected [1, ['o', 'l', 'l', 'e', 'h'], 2], got: \" + str(reverse_second([1, ['h', 'e', 'l', 'l', 'o'], 2]))"
   ],
   "id": "0dffdc65-6395-4ae1-b9bf-27b072923442"
  },
  {
   "cell_type": "markdown",
   "metadata": {},
   "source": [
    "------------------------------------------------------------------------\n",
    "\n",
    "### Exercise 5-3: Sliced FizzBuzz\n",
    "\n",
    "Slicing presents a possible solution to playing the FizzBuzz game: slice\n",
    "starting at the 3$^{rd}$ element of a list with a `step` of 3, assign an\n",
    "appropriately sized list of `[\"Fizz\"]` strings. The same for 5. Write a\n",
    "function, called `fizzbuzz4()` that attempts to play the Fizz Buzz game\n",
    "in this way. The input will be a list containing the counted numbers,\n",
    "you should use slicing to replace the appropriate numbers with `\"Fizz\"`\n",
    "or `\"Buzz\"`."
   ],
   "id": "673e2359-e86a-4fe9-a87c-de275d3c5689"
  },
  {
   "cell_type": "code",
   "execution_count": null,
   "metadata": {},
   "outputs": [],
   "source": [
    "def fizzbuzz4(counted):\n",
    "    counted[_:_:3] = [\"Fizz\"] * (len(counted) // 3)\n",
    "    counted[_:_:5] = [\"Buzz\"] * (len(counted) // 5)\n",
    "    return counted\n",
    "\n",
    "fizzbuzz4([1, 2, 3, 4, 5, 6, 7, 8, 9, 10, 11, 12, 13, 14, 15])"
   ],
   "id": "f109492b-1911-4252-8240-508c1a3332f1"
  },
  {
   "cell_type": "markdown",
   "metadata": {},
   "source": [
    "Does `fizzbuzz4()` correctly play the Fizz Buzz game? If not, what is\n",
    "wrong with this solution? Can you fix it?\n",
    "\n",
    "[Advanced question](Advanced%20Exercises.ipynb#5-2)\n",
    "\n",
    "------------------------------------------------------------------------\n",
    "\n",
    "## Operating on Lists and using Python utilities\n",
    "\n",
    "In the following section we will use the `operator` library which is\n",
    "part of the Python standard library (if you’re interested, see the\n",
    "documentation [here](https://docs.python.org/3/library/operator.html)).\n",
    "The `operator` library defines functions that are equivalent to the\n",
    "usual operators you’ve seen so far (e.g. `+`, `*`, *indexing*, etc.).\n",
    "Let’s begin by importing the `operator` library."
   ],
   "id": "e9a526aa-f513-4f76-aedf-a885a185b67f"
  },
  {
   "cell_type": "code",
   "execution_count": null,
   "metadata": {},
   "outputs": [],
   "source": [
    "import operator"
   ],
   "id": "e2dcb898-312f-4cd6-bbd8-47bc0ab6f086"
  },
  {
   "cell_type": "markdown",
   "metadata": {},
   "source": [
    "As you progress through the course we will use other facilities provided\n",
    "by the Python standard library. It’s very useful to be aware of them so\n",
    "that you don’t need to re-invent what is already available.\n",
    "\n",
    "You might already appreciate the utility of lists, if not the next few\n",
    "exercises aim to demonstrate how they can be useful. In order to\n",
    "complete the next exercises you will need to know how to perform some\n",
    "operations on lists as a whole. Here are 3 new things to become\n",
    "acquainted with:\n",
    "\n",
    "-   The `sorted()` function sorts lists\n",
    "-   The `in` operator checks if a value is contained in a list.\n",
    "-   `operator.itemgetter()` is a function that behaves like the index\n",
    "    (`[]`) operator.\n",
    "\n",
    "The first 2 definitions are available to you without needing to `import`\n",
    "a library. Let us experiment to see what they do."
   ],
   "id": "8eb2b889-bbf3-4128-8f44-fee457a741dc"
  },
  {
   "cell_type": "code",
   "execution_count": null,
   "metadata": {},
   "outputs": [],
   "source": [
    "6 in [1, 3, 5, 7, 9]"
   ],
   "id": "4648381d-c2ef-46b8-ac3c-3b408ea1f2d5"
  },
  {
   "cell_type": "code",
   "execution_count": null,
   "metadata": {},
   "outputs": [],
   "source": [
    "8 in [2, 4, 6, 8, 10]"
   ],
   "id": "8f1324ad-d5ca-4f4a-af48-da2bfd286ed9"
  },
  {
   "cell_type": "code",
   "execution_count": null,
   "metadata": {},
   "outputs": [],
   "source": [
    "sorted([5, 10, 2, 7, 1])"
   ],
   "id": "965bf7f2-9457-434e-921f-0c320bbe24b4"
  },
  {
   "cell_type": "code",
   "execution_count": null,
   "metadata": {},
   "outputs": [],
   "source": [
    "sorted([[5], [10], [2], [7], [1]])"
   ],
   "id": "e3ec0ca5-6178-4c17-bc42-48bef840ce30"
  },
  {
   "cell_type": "markdown",
   "metadata": {},
   "source": [
    "We can customise the behaviour of the `sorted()` function because it\n",
    "takes 2 *optional* named arguments: `reverse` to sort in reverse order,\n",
    "and `key` to extract the value to sort from a structure. One structure\n",
    "you may wish to extract a sort key from is another list, say:"
   ],
   "id": "b1dd6ef9-6ca9-4842-8ecb-71a1fe4637e0"
  },
  {
   "cell_type": "code",
   "execution_count": null,
   "metadata": {},
   "outputs": [],
   "source": [
    "song = [[\"french hens\", 3],\n",
    "        [\"ladies dancing\", 9],\n",
    "        [\"pipers piping\", 11],\n",
    "        [\"swans a-swimming\", 7],\n",
    "        [\"geese a-laying\", 6],\n",
    "        [\"turtle doves\", 2],\n",
    "        [\"calling birds\", 4],\n",
    "        [\"maids a-milking\", 8],\n",
    "        [\"drummers drumming\", 12],\n",
    "        [\"lords a-leaping\", 10],\n",
    "        [\"gold rings\", 5],\n",
    "        [\"partridge in a pear tree\", 1]]"
   ],
   "id": "3dc077cd-9f60-4cf8-90fe-85b81f8025d9"
  },
  {
   "cell_type": "markdown",
   "metadata": {},
   "source": [
    "Simply sorting this will not do what we want."
   ],
   "id": "42994519-795e-4cf4-932d-3dcc6ffc52c7"
  },
  {
   "cell_type": "code",
   "execution_count": null,
   "metadata": {},
   "outputs": [],
   "source": [
    "sorted(song)"
   ],
   "id": "af786abf-f12d-4d30-b346-8d64e806e7d1"
  },
  {
   "cell_type": "markdown",
   "metadata": {},
   "source": [
    "Instead of sorting on the first element of each nested list you need to\n",
    "sort on the second element: the number of each gift. The `key` argument\n",
    "requires a function. This function is given each nested list and it\n",
    "should return the value with which to sort. This is the index operator,\n",
    "`[]`. But the index operator is not a function. This is where the\n",
    "`operator` library is useful."
   ],
   "id": "ec836b80-58e4-4abd-8df2-4d87ecf4b193"
  },
  {
   "cell_type": "code",
   "execution_count": null,
   "metadata": {},
   "outputs": [],
   "source": [
    "sorted(song, key=operator.itemgetter(1))"
   ],
   "id": "07151e71-bd47-430d-aa4f-17ed834342cb"
  },
  {
   "cell_type": "markdown",
   "metadata": {},
   "source": [
    "This sorts the song correctly. Finally, sorting in reverse:"
   ],
   "id": "6a76dbc1-f94e-482c-b50d-ab56b73c77d4"
  },
  {
   "cell_type": "code",
   "execution_count": null,
   "metadata": {},
   "outputs": [],
   "source": [
    "sorted(song, key=operator.itemgetter(1), reverse=True)"
   ],
   "id": "a2f69d98-09da-4322-8658-8da058ed441b"
  },
  {
   "cell_type": "markdown",
   "metadata": {},
   "source": [
    "------------------------------------------------------------------------\n",
    "\n",
    "### Exercise 5-4: Bronze medal\n",
    "\n",
    "Write a function that accepts a list of scores (highest is better) and\n",
    "return the score of third place (bronze medal)."
   ],
   "id": "b22ed42e-6d64-4332-b976-12cb0a1c6d66"
  },
  {
   "cell_type": "code",
   "execution_count": null,
   "metadata": {},
   "outputs": [],
   "source": [
    "def bronze_medal(scores):\n",
    "    return _\n",
    "\n",
    "assert bronze_medal([0, 2, 1]) == 0, \"Expected: 0, got: \" + str(bronze_medal([0, 2, 1]))\n",
    "assert bronze_medal([54,56,2,1,5223,6,23,57,3,7,3344]) == 57, \"Expected: 57, got: \" + str(bronze_medal([54,56,2,1,5223,6,23,57,3,7,3344]))"
   ],
   "id": "00d00599-46e9-438d-94b6-eb40f07373cd"
  },
  {
   "cell_type": "markdown",
   "metadata": {},
   "source": [
    "------------------------------------------------------------------------\n",
    "\n",
    "### Exercise 5-5: Citations\n",
    "\n",
    "You’re given a list containing some data. Each element of the list is\n",
    "another list containing 2 values: the name of a country, and the average\n",
    "number of citations per citable document produced within that country.\n",
    "Write a function that takes this list as an argument and returns the\n",
    "name of the country with the second highest number of average citations.\n",
    "<!-- Data are from: https://www.scimagojr.com/countryrank.php?order=cd&ord=desc -->"
   ],
   "id": "529df5ce-acb7-46a9-9085-5d4b7f09ee63"
  },
  {
   "cell_type": "code",
   "execution_count": null,
   "metadata": {},
   "outputs": [],
   "source": [
    "assert second_highest([['A', 1.0], ['B', 0.5]]) == \"B\", \"Expected: 'B', got: \" + str(second_highest([['A', 1.0], ['B', 0.5]]))\n",
    "assert second_highest([\n",
    "    ['Netherlands Antilles', 38.46],\n",
    "    ['Tokelau', 51.9],\n",
    "    ['Seychelles', 33.56],\n",
    "    ['Anguilla', 133.98],\n",
    "    ['Saint Lucia', 37.31],\n",
    "    ['Panama', 37.87],\n",
    "    ['Bermuda', 43.33],\n",
    "    ['Federated States of Micronesia', 85.49],\n",
    "    ['Gambia', 42.14],\n",
    "    ['Belize', 41.59]]) == 'Federated States of Micronesia'"
   ],
   "id": "de660404-bdf8-4c24-806a-18fb63b30ba0"
  },
  {
   "cell_type": "markdown",
   "metadata": {},
   "source": [
    "[Advanced question](Advanced%20Exercises.ipynb#5-5)\n",
    "\n",
    "------------------------------------------------------------------------\n",
    "\n",
    "## Chapter Review\n",
    "\n",
    "In this chapter you learned how to store multiple values into an\n",
    "ordered, mutable collection called a `list`. You learned how to access\n",
    "individual values and slices of values. You also learned how to sort\n",
    "lists and check for membership in a list.\n",
    "\n",
    "## Review Questions\n",
    "\n",
    "1.  What are lists used for?\n",
    "    <details>\n",
    "    <summary>\n",
    "    Answer\n",
    "    </summary>\n",
    "    To collect values together.\n",
    "    </details>\n",
    "2.  What does it mean for a list to be mutable?\n",
    "    <details>\n",
    "    <summary>\n",
    "    Answer\n",
    "    </summary>\n",
    "    A value can be changed after creation. The assignment operator (`=`)\n",
    "    works.\n",
    "    </details>\n",
    "3.  Is a string (`str`) like a list?\n",
    "    <details>\n",
    "    <summary>\n",
    "    Answer\n",
    "    </summary>\n",
    "    Yes. In the sense that strings can be indexed and sliced. They’re\n",
    "    collections of only characters though. And strings are immutable.\n",
    "    You cannot assign to a string index.\n",
    "    </details>\n",
    "4.  What is *slicing*?\n",
    "    <details>\n",
    "    <summary>\n",
    "    Answer\n",
    "    </summary>\n",
    "    Slicing is a way to access ranges of elements in a list (or string).\n",
    "    </details>\n",
    "5.  Can you turn a string into a list of characters?\n",
    "    <details>\n",
    "    <summary>\n",
    "    Answer\n",
    "    </summary>\n",
    "    Yes using the `list()` function.\n",
    "    </details>\n",
    "\n",
    "## References\n",
    "\n",
    "1.  Zen of Python: https://www.python.org/dev/peps/pep-0020/\n",
    "\n",
    "## Supporting material\n",
    "\n",
    "-   [Automate the Boring Stuff with Python, Chapter\n",
    "    4](http://automatetheboringstuff.com/2e/chapter4/)\n",
    "-   [Automate the Boring Stuff with Python video course, Lesson\n",
    "    13](https://youtu.be/5n6o1MaXDoE)\n",
    "-   [Real Python: Lists and\n",
    "    Tuples](https://realpython.com/python-lists-tuples/)\n",
    "-   [How to Design Programs, Chapter\n",
    "    6](https://htdp.org/2003-09-26/Book/curriculum-Z-H-9.html#node_chap_6)\n",
    "-   [Programming Python, Chapter\n",
    "    14](https://www.linuxtopia.org/online_books/programming_books/python_programming/python_ch14.html)\n",
    "\n",
    "Click [here](06_Loops.ipynb) to go to the next chapter."
   ],
   "id": "e5bb3b70-125e-4c10-80c7-d45759fa1bf1"
  }
 ],
 "nbformat": 4,
 "nbformat_minor": 5,
 "metadata": {
  "kernelspec": {
   "name": "python3",
   "display_name": "Python 3 (ipykernel)",
   "language": "python"
  },
  "language_info": {
   "name": "python",
   "codemirror_mode": {
    "name": "ipython",
    "version": "3"
   },
   "file_extension": ".py",
   "mimetype": "text/x-python",
   "nbconvert_exporter": "python",
   "pygments_lexer": "ipython3",
   "version": "3.11.0"
  }
 }
}
